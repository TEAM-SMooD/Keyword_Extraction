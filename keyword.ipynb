{
 "cells": [
  {
   "cell_type": "code",
   "execution_count": 1,
   "metadata": {},
   "outputs": [],
   "source": [
    "import pandas as pd"
   ]
  },
  {
   "cell_type": "code",
   "execution_count": 75,
   "metadata": {},
   "outputs": [],
   "source": [
    "bukchon1 = pd.read_csv('북촌리뷰_23년1분기_키워드_전처리.csv')\n",
    "bukchon2 = pd.read_csv('북촌리뷰_22년2분기_키워드_전처리.csv')\n",
    "bukchon3 = pd.read_csv('북촌리뷰_22년3분기_키워드_전처리.csv')\n",
    "bukchon4 = pd.read_csv('북촌리뷰_22년4분기_키워드_전처리.csv')\n",
    "sinchon1 = pd.read_csv('신촌리뷰_23년1분기_키워드_전처리.csv')\n",
    "sinchon2 = pd.read_csv('신촌리뷰_22년2분기_키워드_전처리.csv')\n",
    "sinchon3 = pd.read_csv('신촌리뷰_22년3분기_키워드_전처리.csv')\n",
    "sinchon4 = pd.read_csv('신촌리뷰_22년4분기_키워드_전처리.csv')\n",
    "seongsu1 = pd.read_csv('성수리뷰_23년1분기_키워드_전처리.csv')\n",
    "seongsu2 = pd.read_csv('성수리뷰_22년2분기_키워드_전처리.csv')\n",
    "seongsu3 = pd.read_csv('성수리뷰_22년3분기_키워드_전처리.csv')\n",
    "seongsu4 = pd.read_csv('성수리뷰_22년4분기_키워드_전처리.csv')"
   ]
  },
  {
   "cell_type": "code",
   "execution_count": 51,
   "metadata": {},
   "outputs": [],
   "source": [
    "# bukchon_info = pd.read_csv('북촌정보.csv')\n",
    "# sinchon_info = pd.read_csv('신촌정보.csv')\n",
    "# seongsu_info = pd.read_csv('성수정보.csv')"
   ]
  },
  {
   "cell_type": "code",
   "execution_count": 76,
   "metadata": {},
   "outputs": [],
   "source": [
    "total = pd.concat([bukchon1, bukchon2, bukchon3, bukchon4, sinchon1, sinchon2, sinchon3, sinchon4, seongsu1, seongsu2, seongsu3, seongsu4]).reset_index(drop=True)"
   ]
  },
  {
   "cell_type": "code",
   "execution_count": 64,
   "metadata": {},
   "outputs": [],
   "source": [
    "# bukchon_store = bukchon_info['상가업소번호'].to_list()\n",
    "\n",
    "# bukchon1 = bukchon1[bukchon1['상가업소번호'].isin(bukchon_store)].reset_index(drop=True)\n",
    "# bukchon1.drop('Unnamed: 0', axis=1, inplace=True)\n",
    "# bukchon1.to_csv('북촌리뷰_23년1분기_키워드_전처리.csv', index=False)\n",
    "\n",
    "# bukchon2 = bukchon2[bukchon2['상가업소번호'].isin(bukchon_store)].reset_index(drop=True)\n",
    "# bukchon2.drop('Unnamed: 0', axis=1, inplace=True)\n",
    "# bukchon2.to_csv('북촌리뷰_22년2분기_키워드_전처리.csv', index=False)\n",
    "\n",
    "# bukchon3 = bukchon3[bukchon3['상가업소번호'].isin(bukchon_store)].reset_index(drop=True)\n",
    "# bukchon3.drop('Unnamed: 0', axis=1, inplace=True)\n",
    "# bukchon3.to_csv('북촌리뷰_22년3분기_키워드_전처리.csv', index=False)\n",
    "\n",
    "# bukchon4 = bukchon4[bukchon4['상가업소번호'].isin(bukchon_store)].reset_index(drop=True)\n",
    "# bukchon4.drop('Unnamed: 0', axis=1, inplace=True)\n",
    "# bukchon4.to_csv('북촌리뷰_22년4분기_키워드_전처리.csv', index=False)"
   ]
  },
  {
   "cell_type": "code",
   "execution_count": 69,
   "metadata": {},
   "outputs": [],
   "source": [
    "# sinchon_store = sinchon_info['상가업소번호'].to_list()\n",
    "\n",
    "# sinchon1 = sinchon1[sinchon1['상가업소번호'].isin(sinchon_store)].reset_index(drop=True)\n",
    "# sinchon1.drop('Unnamed: 0', axis=1, inplace=True)\n",
    "# sinchon1.to_csv('신촌리뷰_23년1분기_키워드_전처리.csv', index=False)\n",
    "\n",
    "# sinchon2 = sinchon2[sinchon2['상가업소번호'].isin(sinchon_store)].reset_index(drop=True)\n",
    "# sinchon2.drop('Unnamed: 0', axis=1, inplace=True)\n",
    "# sinchon2.to_csv('신촌리뷰_22년2분기_키워드_전처리.csv', index=False)\n",
    "\n",
    "# sinchon3 = sinchon3[sinchon3['상가업소번호'].isin(sinchon_store)].reset_index(drop=True)\n",
    "# sinchon3.drop('Unnamed: 0', axis=1, inplace=True)\n",
    "# sinchon3.to_csv('신촌리뷰_22년3분기_키워드_전처리.csv', index=False)\n",
    "\n",
    "# sinchon4 = sinchon4[sinchon4['상가업소번호'].isin(sinchon_store)].reset_index(drop=True)\n",
    "# sinchon4.drop('Unnamed: 0', axis=1, inplace=True)\n",
    "# sinchon4.to_csv('신촌리뷰_22년4분기_키워드_전처리.csv', index=False)"
   ]
  },
  {
   "cell_type": "code",
   "execution_count": 74,
   "metadata": {},
   "outputs": [],
   "source": [
    "# seongsu_store = seongsu_info['상가업소번호'].to_list()\n",
    "\n",
    "# seongsu1 = seongsu1[seongsu1['상가업소번호'].isin(seongsu_store)].reset_index(drop=True)\n",
    "# seongsu1.drop('Unnamed: 0', axis=1, inplace=True)\n",
    "# seongsu1.to_csv('성수리뷰_23년1분기_키워드_전처리.csv', index=False)\n",
    "\n",
    "# seongsu2 = seongsu2[seongsu2['상가업소번호'].isin(seongsu_store)].reset_index(drop=True)\n",
    "# seongsu2.drop('Unnamed: 0', axis=1, inplace=True)\n",
    "# seongsu2.to_csv('성수리뷰_22년2분기_키워드_전처리.csv', index=False)\n",
    "\n",
    "# seongsu3 = seongsu3[seongsu3['상가업소번호'].isin(seongsu_store)].reset_index(drop=True)\n",
    "# seongsu3.drop('Unnamed: 0', axis=1, inplace=True)\n",
    "# seongsu3.to_csv('성수리뷰_22년3분기_키워드_전처리.csv', index=False)\n",
    "\n",
    "# seongsu4 = seongsu4[seongsu4['상가업소번호'].isin(seongsu_store)].reset_index(drop=True)\n",
    "# seongsu4.drop('Unnamed: 0', axis=1, inplace=True)\n",
    "# seongsu4.to_csv('성수리뷰_22년4분기_키워드_전처리.csv', index=False)"
   ]
  },
  {
   "cell_type": "code",
   "execution_count": 77,
   "metadata": {},
   "outputs": [
    {
     "data": {
      "text/plain": [
       "0               [너무 ,  먹다 가다 ,  맛있다 ,  너무 맛있다 ,  맛있다 먹다 가다]\n",
       "1                                                     [맛있다]\n",
       "2            [가다 가격 이 ,  맛 은 ,  쎄다 맛 은 ,  그냥 소 소 ,  맛 은 그냥]\n",
       "3              [모두 맛있다 ,  먹다 ,  먹다 짬뽕 ,  주문 한 음식 ,  맛있다 먹다]\n",
       "4                                       [대체 ,  리뷰 ,  대체 리뷰]\n",
       "                                ...                        \n",
       "190792    [기다리다 겨우 ,  주말 에 ,  앉다 다행 이다 ,  한 시간 기다리다 ,  주...\n",
       "190793    [바삭 하고 맛있다 ,  결국 8시 에 ,  네이버 로 8시 로 ,  8시 로 예약...\n",
       "190794    [맛집 메뉴 들 이 ,  맛있다 종류 도 ,  맛있다 음식 들 훌륭하다 ,  부드럽...\n",
       "190795    [메뉴 가 ,  엄청 맛있다 ,  맛있다 아니다 ,  모든 메뉴 가 ,  메뉴 가 ...\n",
       "190796    [가다 맛 은 ,  일본 에 ,  아쉽다 그렇지만 소바 를 ,  일본 에 있다 , ...\n",
       "Name: keyword_stem, Length: 190797, dtype: object"
      ]
     },
     "execution_count": 77,
     "metadata": {},
     "output_type": "execute_result"
    }
   ],
   "source": [
    "keyword = total['keyword_stem'].str.split(',')\n",
    "keyword"
   ]
  },
  {
   "cell_type": "code",
   "execution_count": 78,
   "metadata": {},
   "outputs": [],
   "source": [
    "keyword_all = []\n",
    "for i in range(len(keyword)):\n",
    "    keyword_all += keyword[i]"
   ]
  },
  {
   "cell_type": "code",
   "execution_count": 79,
   "metadata": {},
   "outputs": [
    {
     "data": {
      "text/plain": [
       "698346"
      ]
     },
     "execution_count": 79,
     "metadata": {},
     "output_type": "execute_result"
    }
   ],
   "source": [
    "len(keyword_all)"
   ]
  },
  {
   "cell_type": "code",
   "execution_count": 80,
   "metadata": {},
   "outputs": [
    {
     "data": {
      "text/plain": [
       "323875"
      ]
     },
     "execution_count": 80,
     "metadata": {},
     "output_type": "execute_result"
    }
   ],
   "source": [
    "len(set(keyword_all))"
   ]
  },
  {
   "cell_type": "code",
   "execution_count": 36,
   "metadata": {},
   "outputs": [],
   "source": [
    "pd.DataFrame(set(keyword_all)).to_csv('./total_keyword.csv', index=False)"
   ]
  },
  {
   "cell_type": "code",
   "execution_count": 39,
   "metadata": {},
   "outputs": [],
   "source": [
    "pd.DataFrame(set(keyword_all), columns=['초기_키워드']).to_csv('./total_keyword.csv', index=False)"
   ]
  },
  {
   "cell_type": "code",
   "execution_count": 5,
   "metadata": {},
   "outputs": [],
   "source": [
    "s1=pd.read_excel(r'C:\\Users\\user\\OneDrive\\바탕화~1-DESKTOP-R00ORLS-348\\캡스톤\\Keyword_Extraction\\키워드\\성수리뷰_23년1분기_키워드_전처리.csv')\n"
   ]
  },
  {
   "cell_type": "code",
   "execution_count": 2,
   "metadata": {},
   "outputs": [],
   "source": [
    "s2=pd.read_excel(r'C:\\Users\\user\\OneDrive\\바탕화~1-DESKTOP-R00ORLS-348\\캡스톤\\Keyword_Extraction\\키워드\\성수리뷰_22년2분기_키워드_전처리.csv')\n",
    "s3=pd.read_excel(r'C:\\Users\\user\\OneDrive\\바탕화~1-DESKTOP-R00ORLS-348\\캡스톤\\Keyword_Extraction\\키워드\\성수리뷰_22년3분기_키워드_전처리.csv')\n",
    "s4=pd.read_excel(r'C:\\Users\\user\\OneDrive\\바탕화~1-DESKTOP-R00ORLS-348\\캡스톤\\Keyword_Extraction\\키워드\\성수리뷰_22년4분기_키워드_전처리.csv')"
   ]
  },
  {
   "cell_type": "code",
   "execution_count": null,
   "metadata": {},
   "outputs": [],
   "source": []
  }
 ],
 "metadata": {
  "kernelspec": {
   "display_name": "Python 3",
   "language": "python",
   "name": "python3"
  },
  "language_info": {
   "codemirror_mode": {
    "name": "ipython",
    "version": 3
   },
   "file_extension": ".py",
   "mimetype": "text/x-python",
   "name": "python",
   "nbconvert_exporter": "python",
   "pygments_lexer": "ipython3",
   "version": "3.11.2"
  },
  "orig_nbformat": 4,
  "vscode": {
   "interpreter": {
    "hash": "b0fa6594d8f4cbf19f97940f81e996739fb7646882a419484c72d19e05852a7e"
   }
  }
 },
 "nbformat": 4,
 "nbformat_minor": 2
}
