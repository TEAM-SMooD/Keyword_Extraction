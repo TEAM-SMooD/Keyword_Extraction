{
 "cells": [
  {
   "cell_type": "code",
   "execution_count": 1,
   "metadata": {},
   "outputs": [],
   "source": [
    "import pandas as pd"
   ]
  },
  {
   "attachments": {},
   "cell_type": "markdown",
   "metadata": {},
   "source": [
    "## 데이터 로드"
   ]
  },
  {
   "cell_type": "code",
   "execution_count": 10,
   "metadata": {},
   "outputs": [],
   "source": [
    "b1=pd.read_csv(r'C:\\Users\\user\\OneDrive\\바탕화~1-DESKTOP-R00ORLS-348\\캡스톤\\Keyword_Extraction\\Keyword_label\\북촌리뷰_23년1분기_키워드.csv')\n",
    "b2=pd.read_csv(r'C:\\Users\\user\\OneDrive\\바탕화~1-DESKTOP-R00ORLS-348\\캡스톤\\Keyword_Extraction\\Keyword_label\\북촌리뷰_22년2분기_키워드.csv')\n",
    "b3=pd.read_csv(r'C:\\Users\\user\\OneDrive\\바탕화~1-DESKTOP-R00ORLS-348\\캡스톤\\Keyword_Extraction\\Keyword_label\\북촌리뷰_22년3분기_키워드.csv')\n",
    "b4=pd.read_csv(r'C:\\Users\\user\\OneDrive\\바탕화~1-DESKTOP-R00ORLS-348\\캡스톤\\Keyword_Extraction\\Keyword_label\\북촌리뷰_22년4분기_키워드.csv')"
   ]
  },
  {
   "cell_type": "code",
   "execution_count": 11,
   "metadata": {},
   "outputs": [],
   "source": [
    "s1=pd.read_csv(r'C:\\Users\\user\\OneDrive\\바탕화~1-DESKTOP-R00ORLS-348\\캡스톤\\Keyword_Extraction\\Keyword_label\\성수리뷰_23년1분기_키워드.csv')\n",
    "s2=pd.read_csv(r'C:\\Users\\user\\OneDrive\\바탕화~1-DESKTOP-R00ORLS-348\\캡스톤\\Keyword_Extraction\\Keyword_label\\성수리뷰_22년2분기_키워드.csv')\n",
    "s3=pd.read_csv(r'C:\\Users\\user\\OneDrive\\바탕화~1-DESKTOP-R00ORLS-348\\캡스톤\\Keyword_Extraction\\Keyword_label\\성수리뷰_22년3분기_키워드.csv')\n",
    "s4=pd.read_csv(r'C:\\Users\\user\\OneDrive\\바탕화~1-DESKTOP-R00ORLS-348\\캡스톤\\Keyword_Extraction\\Keyword_label\\성수리뷰_22년4분기_키워드.csv')\n"
   ]
  },
  {
   "cell_type": "code",
   "execution_count": 12,
   "metadata": {},
   "outputs": [],
   "source": [
    "sc1=pd.read_csv(r'C:\\Users\\user\\OneDrive\\바탕화~1-DESKTOP-R00ORLS-348\\캡스톤\\Keyword_Extraction\\Keyword_label\\신촌리뷰_23년1분기_키워드.csv')\n",
    "sc2=pd.read_csv(r'C:\\Users\\user\\OneDrive\\바탕화~1-DESKTOP-R00ORLS-348\\캡스톤\\Keyword_Extraction\\Keyword_label\\신촌리뷰_22년2분기_키워드.csv')\n",
    "sc3=pd.read_csv(r'C:\\Users\\user\\OneDrive\\바탕화~1-DESKTOP-R00ORLS-348\\캡스톤\\Keyword_Extraction\\Keyword_label\\신촌리뷰_22년3분기_키워드.csv')\n",
    "sc4=pd.read_csv(r'C:\\Users\\user\\OneDrive\\바탕화~1-DESKTOP-R00ORLS-348\\캡스톤\\Keyword_Extraction\\Keyword_label\\신촌리뷰_22년4분기_키워드.csv')"
   ]
  },
  {
   "cell_type": "code",
   "execution_count": 15,
   "metadata": {},
   "outputs": [
    {
     "data": {
      "text/html": [
       "<div>\n",
       "<style scoped>\n",
       "    .dataframe tbody tr th:only-of-type {\n",
       "        vertical-align: middle;\n",
       "    }\n",
       "\n",
       "    .dataframe tbody tr th {\n",
       "        vertical-align: top;\n",
       "    }\n",
       "\n",
       "    .dataframe thead th {\n",
       "        text-align: right;\n",
       "    }\n",
       "</style>\n",
       "<table border=\"1\" class=\"dataframe\">\n",
       "  <thead>\n",
       "    <tr style=\"text-align: right;\">\n",
       "      <th></th>\n",
       "      <th>상가업소번호</th>\n",
       "      <th>가게명</th>\n",
       "      <th>리뷰</th>\n",
       "      <th>제거리뷰</th>\n",
       "      <th>review_tfidf</th>\n",
       "      <th>keyword</th>\n",
       "    </tr>\n",
       "  </thead>\n",
       "  <tbody>\n",
       "    <tr>\n",
       "      <th>0</th>\n",
       "      <td>MA010120220805435729</td>\n",
       "      <td>몽중헌 안국점</td>\n",
       "      <td>너무 맛있게 먹고갑니다.ㅎ</td>\n",
       "      <td>너무 맛있게 먹고갑니다</td>\n",
       "      <td>['너무' '너무 맛있게' '맛있게' '맛있게 먹고갑니다' '먹고갑니다']</td>\n",
       "      <td>['너무', '먹고갑니다', '맛있게', '너무 맛있게', '맛있게 먹고갑니다']</td>\n",
       "    </tr>\n",
       "    <tr>\n",
       "      <th>1</th>\n",
       "      <td>MA010120220805435729</td>\n",
       "      <td>몽중헌 안국점</td>\n",
       "      <td>맛있어요</td>\n",
       "      <td>맛있어요</td>\n",
       "      <td>['맛있어요']</td>\n",
       "      <td>['맛있어요']</td>\n",
       "    </tr>\n",
       "    <tr>\n",
       "      <th>2</th>\n",
       "      <td>MA010120220805435729</td>\n",
       "      <td>몽중헌 안국점</td>\n",
       "      <td>딤섬 먹으러 갔어요 가격이 좀 쎄네요 맛은 그냥 소소</td>\n",
       "      <td>딤섬 먹으러 갔어요 가격이 좀 쎄네요 맛은 그냥 소소</td>\n",
       "      <td>['가격이' '가격이 쎄네요' '갔어요' '갔어요 가격이' '그냥' '그냥 소소' ...</td>\n",
       "      <td>['갔어요 가격이', '맛은', '쎄네요 맛은', '그냥 소소', '맛은 그냥']</td>\n",
       "    </tr>\n",
       "    <tr>\n",
       "      <th>3</th>\n",
       "      <td>MA010120220805435729</td>\n",
       "      <td>몽중헌 안국점</td>\n",
       "      <td>미리 예약해서 룸으로 안내 받았어요! 주문한 음식 모두 맛있게 잘 먹었습니다 ! 짬...</td>\n",
       "      <td>미리 예약해서 룸으로 안내 받았어요 주문한 음식 모두 맛있게 잘 먹었습니다  짬뽕 ...</td>\n",
       "      <td>['나눠' '나눠 주셔서' '두그릇으로' '두그릇으로 나눠' '룸으로' '룸으로 안...</td>\n",
       "      <td>['모두 맛있게', '먹었습니다', '먹었습니다 짬뽕', '주문한 음식', '맛있게...</td>\n",
       "    </tr>\n",
       "    <tr>\n",
       "      <th>4</th>\n",
       "      <td>MA010120220805435729</td>\n",
       "      <td>몽중헌 안국점</td>\n",
       "      <td>굿</td>\n",
       "      <td>대체 리뷰</td>\n",
       "      <td>['대체' '대체 리뷰' '리뷰']</td>\n",
       "      <td>['대체', '리뷰', '대체 리뷰']</td>\n",
       "    </tr>\n",
       "  </tbody>\n",
       "</table>\n",
       "</div>"
      ],
      "text/plain": [
       "                 상가업소번호      가게명  \\\n",
       "0  MA010120220805435729  몽중헌 안국점   \n",
       "1  MA010120220805435729  몽중헌 안국점   \n",
       "2  MA010120220805435729  몽중헌 안국점   \n",
       "3  MA010120220805435729  몽중헌 안국점   \n",
       "4  MA010120220805435729  몽중헌 안국점   \n",
       "\n",
       "                                                  리뷰  \\\n",
       "0                                     너무 맛있게 먹고갑니다.ㅎ   \n",
       "1                                               맛있어요   \n",
       "2                      딤섬 먹으러 갔어요 가격이 좀 쎄네요 맛은 그냥 소소   \n",
       "3  미리 예약해서 룸으로 안내 받았어요! 주문한 음식 모두 맛있게 잘 먹었습니다 ! 짬...   \n",
       "4                                                  굿   \n",
       "\n",
       "                                                제거리뷰  \\\n",
       "0                                       너무 맛있게 먹고갑니다   \n",
       "1                                               맛있어요   \n",
       "2                      딤섬 먹으러 갔어요 가격이 좀 쎄네요 맛은 그냥 소소   \n",
       "3  미리 예약해서 룸으로 안내 받았어요 주문한 음식 모두 맛있게 잘 먹었습니다  짬뽕 ...   \n",
       "4                                              대체 리뷰   \n",
       "\n",
       "                                        review_tfidf  \\\n",
       "0          ['너무' '너무 맛있게' '맛있게' '맛있게 먹고갑니다' '먹고갑니다']   \n",
       "1                                           ['맛있어요']   \n",
       "2  ['가격이' '가격이 쎄네요' '갔어요' '갔어요 가격이' '그냥' '그냥 소소' ...   \n",
       "3  ['나눠' '나눠 주셔서' '두그릇으로' '두그릇으로 나눠' '룸으로' '룸으로 안...   \n",
       "4                                ['대체' '대체 리뷰' '리뷰']   \n",
       "\n",
       "                                             keyword  \n",
       "0      ['너무', '먹고갑니다', '맛있게', '너무 맛있게', '맛있게 먹고갑니다']  \n",
       "1                                           ['맛있어요']  \n",
       "2      ['갔어요 가격이', '맛은', '쎄네요 맛은', '그냥 소소', '맛은 그냥']  \n",
       "3  ['모두 맛있게', '먹었습니다', '먹었습니다 짬뽕', '주문한 음식', '맛있게...  \n",
       "4                              ['대체', '리뷰', '대체 리뷰']  "
      ]
     },
     "execution_count": 15,
     "metadata": {},
     "output_type": "execute_result"
    }
   ],
   "source": [
    "b1.head()"
   ]
  },
  {
   "attachments": {},
   "cell_type": "markdown",
   "metadata": {},
   "source": [
    "### Keyword 문장부호 없애기"
   ]
  },
  {
   "cell_type": "code",
   "execution_count": 29,
   "metadata": {},
   "outputs": [],
   "source": [
    "import re\n",
    "\n",
    "def remove(s):\n",
    "    sentence=re.sub('[\\'\\'\\[\\]]','',s)\n",
    "    return sentence"
   ]
  },
  {
   "cell_type": "code",
   "execution_count": 32,
   "metadata": {},
   "outputs": [],
   "source": [
    "b1['keyword']=b1['keyword'].apply(remove)\n",
    "b2['keyword']=b2['keyword'].apply(remove)\n",
    "b3['keyword']=b3['keyword'].apply(remove)\n",
    "b4['keyword']=b4['keyword'].apply(remove)"
   ]
  },
  {
   "cell_type": "code",
   "execution_count": 33,
   "metadata": {},
   "outputs": [],
   "source": [
    "s1['keyword']=s1['keyword'].apply(remove)\n",
    "s2['keyword']=s2['keyword'].apply(remove)\n",
    "s3['keyword']=s3['keyword'].apply(remove)\n",
    "s4['keyword']=s4['keyword'].apply(remove)"
   ]
  },
  {
   "cell_type": "code",
   "execution_count": 34,
   "metadata": {},
   "outputs": [],
   "source": [
    "sc1['keyword']=sc1['keyword'].apply(remove)\n",
    "sc2['keyword']=sc2['keyword'].apply(remove)\n",
    "sc3['keyword']=sc3['keyword'].apply(remove)\n",
    "sc4['keyword']=sc4['keyword'].apply(remove)"
   ]
  },
  {
   "cell_type": "code",
   "execution_count": 35,
   "metadata": {},
   "outputs": [
    {
     "data": {
      "text/html": [
       "<div>\n",
       "<style scoped>\n",
       "    .dataframe tbody tr th:only-of-type {\n",
       "        vertical-align: middle;\n",
       "    }\n",
       "\n",
       "    .dataframe tbody tr th {\n",
       "        vertical-align: top;\n",
       "    }\n",
       "\n",
       "    .dataframe thead th {\n",
       "        text-align: right;\n",
       "    }\n",
       "</style>\n",
       "<table border=\"1\" class=\"dataframe\">\n",
       "  <thead>\n",
       "    <tr style=\"text-align: right;\">\n",
       "      <th></th>\n",
       "      <th>상가업소번호</th>\n",
       "      <th>가게명</th>\n",
       "      <th>리뷰</th>\n",
       "      <th>제거리뷰</th>\n",
       "      <th>review_tfidf</th>\n",
       "      <th>keyword</th>\n",
       "    </tr>\n",
       "  </thead>\n",
       "  <tbody>\n",
       "    <tr>\n",
       "      <th>0</th>\n",
       "      <td>MA010120220813677380</td>\n",
       "      <td>고래파스타</td>\n",
       "      <td>굿</td>\n",
       "      <td>굿굿굿</td>\n",
       "      <td>['굿굿굿']</td>\n",
       "      <td>굿굿굿</td>\n",
       "    </tr>\n",
       "    <tr>\n",
       "      <th>1</th>\n",
       "      <td>MA010120220813677380</td>\n",
       "      <td>고래파스타</td>\n",
       "      <td>친절하시고 파스타가 담백하니 맛있어요</td>\n",
       "      <td>친절하시고 파스타가 담백하니 맛있어요</td>\n",
       "      <td>['담백하니' '담백하니 맛있어요' '맛있어요' '친절하시고' '친절하시고 파스타가...</td>\n",
       "      <td>친절하시고, 맛있어요, 파스타가 담백하니, 친절하시고 파스타가, 담백하니 맛있어요</td>\n",
       "    </tr>\n",
       "    <tr>\n",
       "      <th>2</th>\n",
       "      <td>MA010120220813677380</td>\n",
       "      <td>고래파스타</td>\n",
       "      <td>트러플크림 감자뇨끼 정말 맛있었어요.</td>\n",
       "      <td>트러플크림 감자뇨끼 정말 맛있었어요</td>\n",
       "      <td>['감자뇨끼' '감자뇨끼 정말' '맛있었어요' '정말' '정말 맛있었어요' '트러플...</td>\n",
       "      <td>감자뇨끼, 맛있었어요, 감자뇨끼 정말, 정말 맛있었어요, 트러플크림 감자뇨끼</td>\n",
       "    </tr>\n",
       "    <tr>\n",
       "      <th>3</th>\n",
       "      <td>MA010120220813677380</td>\n",
       "      <td>고래파스타</td>\n",
       "      <td>뇨끼도 맛있지만 라구도 대박</td>\n",
       "      <td>뇨끼도 맛있지만 라구도 대박</td>\n",
       "      <td>['뇨끼도' '뇨끼도 맛있지만' '대박' '라구도' '라구도 대박' '맛있지만' '...</td>\n",
       "      <td>뇨끼도, 라구도 대박, 맛있지만, 맛있지만 라구도, 뇨끼도 맛있지만</td>\n",
       "    </tr>\n",
       "    <tr>\n",
       "      <th>4</th>\n",
       "      <td>MA010120220813677380</td>\n",
       "      <td>고래파스타</td>\n",
       "      <td>라자냐랑 뇨끼 너무 담백하고 맛있어요 강추합니다~~</td>\n",
       "      <td>라자냐랑 뇨끼 너무 담백하고 맛있어요 강추합니다</td>\n",
       "      <td>['강추합니다' '너무' '너무 담백하고' '뇨끼' '뇨끼 너무' '담백하고' '담...</td>\n",
       "      <td>맛있어요, 뇨끼 너무, 맛있어요 강추합니다, 담백하고 맛있어요, 라자냐랑 뇨끼</td>\n",
       "    </tr>\n",
       "  </tbody>\n",
       "</table>\n",
       "</div>"
      ],
      "text/plain": [
       "                 상가업소번호    가게명                            리뷰  \\\n",
       "0  MA010120220813677380  고래파스타                             굿   \n",
       "1  MA010120220813677380  고래파스타          친절하시고 파스타가 담백하니 맛있어요   \n",
       "2  MA010120220813677380  고래파스타          트러플크림 감자뇨끼 정말 맛있었어요.   \n",
       "3  MA010120220813677380  고래파스타               뇨끼도 맛있지만 라구도 대박   \n",
       "4  MA010120220813677380  고래파스타  라자냐랑 뇨끼 너무 담백하고 맛있어요 강추합니다~~   \n",
       "\n",
       "                         제거리뷰  \\\n",
       "0                         굿굿굿   \n",
       "1        친절하시고 파스타가 담백하니 맛있어요   \n",
       "2         트러플크림 감자뇨끼 정말 맛있었어요   \n",
       "3             뇨끼도 맛있지만 라구도 대박   \n",
       "4  라자냐랑 뇨끼 너무 담백하고 맛있어요 강추합니다   \n",
       "\n",
       "                                        review_tfidf  \\\n",
       "0                                            ['굿굿굿']   \n",
       "1  ['담백하니' '담백하니 맛있어요' '맛있어요' '친절하시고' '친절하시고 파스타가...   \n",
       "2  ['감자뇨끼' '감자뇨끼 정말' '맛있었어요' '정말' '정말 맛있었어요' '트러플...   \n",
       "3  ['뇨끼도' '뇨끼도 맛있지만' '대박' '라구도' '라구도 대박' '맛있지만' '...   \n",
       "4  ['강추합니다' '너무' '너무 담백하고' '뇨끼' '뇨끼 너무' '담백하고' '담...   \n",
       "\n",
       "                                         keyword  \n",
       "0                                            굿굿굿  \n",
       "1  친절하시고, 맛있어요, 파스타가 담백하니, 친절하시고 파스타가, 담백하니 맛있어요  \n",
       "2     감자뇨끼, 맛있었어요, 감자뇨끼 정말, 정말 맛있었어요, 트러플크림 감자뇨끼  \n",
       "3          뇨끼도, 라구도 대박, 맛있지만, 맛있지만 라구도, 뇨끼도 맛있지만  \n",
       "4    맛있어요, 뇨끼 너무, 맛있어요 강추합니다, 담백하고 맛있어요, 라자냐랑 뇨끼  "
      ]
     },
     "execution_count": 35,
     "metadata": {},
     "output_type": "execute_result"
    }
   ],
   "source": [
    "sc3.head()"
   ]
  },
  {
   "attachments": {},
   "cell_type": "markdown",
   "metadata": {},
   "source": [
    "### 형태소 원형"
   ]
  },
  {
   "cell_type": "code",
   "execution_count": 37,
   "metadata": {},
   "outputs": [],
   "source": [
    "from tqdm.notebook import tqdm\n",
    "from typing import Dict, List, Set, Callable, Optional\n",
    "from itertools import chain\n",
    "from collections import Counter\n",
    "from konlpy.tag import Okt\n",
    "\n",
    "okt=Okt()"
   ]
  },
  {
   "cell_type": "code",
   "execution_count": 39,
   "metadata": {},
   "outputs": [
    {
     "data": {
      "text/plain": [
       "['아', '휴', '아이구', '아이쿠', '아이고', '어', '나', '우리', '저희', '따라']"
      ]
     },
     "execution_count": 39,
     "metadata": {},
     "output_type": "execute_result"
    }
   ],
   "source": [
    "#한국어 불용어 불러오기\n",
    "\n",
    "korean_stopwords_list='한국어 불용어.txt'\n",
    "    \n",
    "#한국어 불용어 txt 오픈\n",
    "with open(korean_stopwords_list,encoding='utf-8') as f:\n",
    "    stopwords=f.readlines()\n",
    "\n",
    "stopwords=[x.strip() for x in stopwords]\n",
    "stopwords[:10]"
   ]
  },
  {
   "cell_type": "code",
   "execution_count": null,
   "metadata": {},
   "outputs": [],
   "source": [
    "def count_words(sentences: List[str]) -> Counter:\n",
    "    word_list = [okt.morphs(sentence) for sentence in sentences]\n",
    "    word_list = sorted(chain.from_iterable(word_list))\n",
    "    word_list = [re.sub('[^ㄱ-ㅎㅏ-ㅣ가-힣]', '', word) for word in word_list]\n",
    "    word_list = [word for word in word_list if word not in stop_words and len(word)]\n",
    "    return Counter(word_list)"
   ]
  }
 ],
 "metadata": {
  "kernelspec": {
   "display_name": "capstone",
   "language": "python",
   "name": "python3"
  },
  "language_info": {
   "codemirror_mode": {
    "name": "ipython",
    "version": 3
   },
   "file_extension": ".py",
   "mimetype": "text/x-python",
   "name": "python",
   "nbconvert_exporter": "python",
   "pygments_lexer": "ipython3",
   "version": "3.11.2"
  },
  "orig_nbformat": 4
 },
 "nbformat": 4,
 "nbformat_minor": 2
}
