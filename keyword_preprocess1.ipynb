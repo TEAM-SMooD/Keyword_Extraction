{
 "cells": [
  {
   "cell_type": "code",
   "execution_count": 1,
   "metadata": {},
   "outputs": [],
   "source": [
    "import pandas as pd"
   ]
  },
  {
   "attachments": {},
   "cell_type": "markdown",
   "metadata": {},
   "source": [
    "## 데이터 로드"
   ]
  },
  {
   "cell_type": "code",
   "execution_count": null,
   "metadata": {},
   "outputs": [],
   "source": [
    "b1=pd.read_csv(r'C:\\Users\\qkrwl\\OneDrive\\바탕 화면\\캡스톤\\Keyword_Extraction\\키워드\\북촌리뷰_23년1분기_키워드_전처리.csv')\n",
    "b2=pd.read_csv(r'C:\\Users\\qkrwl\\OneDrive\\바탕 화면\\캡스톤\\Keyword_Extraction\\키워드\\북촌리뷰_22년2분기_키워드_전처리.csv')\n",
    "b3=pd.read_csv(r'C:\\Users\\qkrwl\\OneDrive\\바탕 화면\\캡스톤\\Keyword_Extraction\\키워드\\북촌리뷰_22년3분기_키워드_전처리.csv')\n",
    "b4=pd.read_csv(r'C:\\Users\\qkrwl\\OneDrive\\바탕 화면\\캡스톤\\Keyword_Extraction\\키워드\\북촌리뷰_22년4분기_키워드_전처리.csv')"
   ]
  },
  {
   "cell_type": "code",
   "execution_count": null,
   "metadata": {},
   "outputs": [],
   "source": [
    "s1=pd.read_csv(r'C:\\Users\\qkrwl\\OneDrive\\바탕 화면\\캡스톤\\Keyword_Extraction\\키워드\\성수리뷰_23년1분기_키워드_전처리.csv')\n",
    "s2=pd.read_csv(r'C:\\Users\\qkrwl\\OneDrive\\바탕 화면\\캡스톤\\Keyword_Extraction\\키워드\\성수리뷰_22년2분기_키워드_전처리.csv')\n",
    "s3=pd.read_csv(r'C:\\Users\\qkrwl\\OneDrive\\바탕 화면\\캡스톤\\Keyword_Extraction\\키워드\\성수리뷰_22년3분기_키워드_전처리.csv')\n",
    "s4=pd.read_csv(r'C:\\Users\\qkrwl\\OneDrive\\바탕 화면\\캡스톤\\Keyword_Extraction\\키워드\\성수리뷰_22년4분기_키워드_전처리.csv')"
   ]
  },
  {
   "cell_type": "code",
   "execution_count": null,
   "metadata": {},
   "outputs": [],
   "source": [
    "sc1=pd.read_csv(r'C:\\Users\\qkrwl\\OneDrive\\바탕 화면\\캡스톤\\Keyword_Extraction\\키워드\\신촌리뷰_23년1분기_키워드_전처리.csv')\n",
    "sc2=pd.read_csv(r'C:\\Users\\qkrwl\\OneDrive\\바탕 화면\\캡스톤\\Keyword_Extraction\\키워드\\신촌리뷰_22년2분기_키워드_전처리.csv')\n",
    "sc3=pd.read_csv(r'C:\\Users\\qkrwl\\OneDrive\\바탕 화면\\캡스톤\\Keyword_Extraction\\키워드\\신촌리뷰_22년3분기_키워드_전처리.csv')\n",
    "sc4=pd.read_csv(r'C:\\Users\\qkrwl\\OneDrive\\바탕 화면\\캡스톤\\Keyword_Extraction\\키워드\\신촌리뷰_22년4분기_키워드_전처리.csv')"
   ]
  },
  {
   "attachments": {},
   "cell_type": "markdown",
   "metadata": {},
   "source": [
    "### Keyword 문장부호 없애기"
   ]
  },
  {
   "cell_type": "code",
   "execution_count": null,
   "metadata": {},
   "outputs": [],
   "source": [
    "# import re\n",
    "\n",
    "# def remove(s):\n",
    "#     sentence=re.sub('[\\'\\'\\[\\]]','',s)\n",
    "#     return sentence"
   ]
  },
  {
   "cell_type": "code",
   "execution_count": null,
   "metadata": {},
   "outputs": [],
   "source": [
    "import re\n",
    "\n",
    "def remove(text):\n",
    "    text2 = text.replace(\"['\", \"\").replace(\"']\", \"\").replace(\"' '\", \",\")\n",
    "    return text2"
   ]
  },
  {
   "cell_type": "code",
   "execution_count": null,
   "metadata": {},
   "outputs": [],
   "source": [
    "b1['keyword']=b1['keyword'].apply(remove)\n",
    "b2['keyword']=b2['keyword'].apply(remove)\n",
    "b3['keyword']=b3['keyword'].apply(remove)\n",
    "b4['keyword']=b4['keyword'].apply(remove)"
   ]
  },
  {
   "attachments": {},
   "cell_type": "markdown",
   "metadata": {},
   "source": [
    "### 맞춤법 검사"
   ]
  },
  {
   "cell_type": "code",
   "execution_count": null,
   "metadata": {},
   "outputs": [],
   "source": [
    "from hanspell import spell_checker\n",
    "from tqdm import tqdm\n",
    "\n",
    "\n",
    "def preprocess_sentence(df):\n",
    "    data=df.copy()\n",
    "    data['spell_check']=''\n",
    "    data['리뷰 hanspell']=data['keyword'].apply(lambda x: re.sub('[^A-Za-z0-9ㄱ-ㅎㅏ-ㅣ가-힣\\s\\[\\]\\.,!\\?\\\"\\']', '', x))\n",
    "    data['리뷰 hanspell']=data['리뷰 hanspell'].apply(lambda x: re.sub(r\"[\\[\\'\\]]\",\"\",x))\n",
    "    \n",
    "    for i,review in tqdm(zip(data.index.tolist(),data['리뷰 hanspell'].tolist()),total=len(data)):\n",
    "            s=spell_checker.check(review).checked\n",
    "            if s!='':\n",
    "                data['spell_check'][i]=s\n",
    "            else:\n",
    "                data['spell_check'][i]=review\n",
    "                 \n",
    "\n",
    "    return data"
   ]
  },
  {
   "cell_type": "code",
   "execution_count": null,
   "metadata": {},
   "outputs": [],
   "source": [
    "b1=preprocess_sentence(b1)"
   ]
  },
  {
   "attachments": {},
   "cell_type": "markdown",
   "metadata": {},
   "source": [
    "### 형태소 원형"
   ]
  },
  {
   "cell_type": "code",
   "execution_count": null,
   "metadata": {},
   "outputs": [],
   "source": [
    "from tqdm.notebook import tqdm\n",
    "from typing import Dict, List, Set, Callable, Optional\n",
    "from itertools import chain\n",
    "from collections import Counter\n",
    "from konlpy.tag import Okt\n",
    "\n",
    "okt=Okt()"
   ]
  },
  {
   "cell_type": "code",
   "execution_count": null,
   "metadata": {},
   "outputs": [],
   "source": [
    "#한국어 불용어 사전 만들기\n",
    "\n",
    "korean_stopwords_list='한국어 불용어.txt'\n",
    "    \n",
    "#한국어 불용어 txt 오픈\n",
    "with open(korean_stopwords_list,encoding='utf-8') as f:\n",
    "    stopwords=f.readlines()\n",
    "\n",
    "stopwords=[x.strip() for x in stopwords]\n",
    "stopwords[:10]"
   ]
  },
  {
   "cell_type": "code",
   "execution_count": null,
   "metadata": {},
   "outputs": [],
   "source": [
    "#형태소 원형으로 바꾸어줌. \n",
    "\n",
    "def morph_stem(s):\n",
    "    word_list=okt.morphs(s,stem=True)\n",
    "    word_list=[word for word in word_list if word not in stopwords]\n",
    "    return ' '.join(word_list)"
   ]
  },
  {
   "cell_type": "code",
   "execution_count": null,
   "metadata": {},
   "outputs": [],
   "source": [
    "def morph_stem_test(s):\n",
    "    word_list=okt.pos(s,stem=True)\n",
    "    word_list=[word[0] for word in word_list if word[1] in ['Noun','Adjective','Verb','Punctuation']]\n",
    "    word_list=[word for word in word_list if word not in stopwords]\n",
    "    return ' '.join(word_list)\n",
    "    "
   ]
  },
  {
   "cell_type": "code",
   "execution_count": null,
   "metadata": {},
   "outputs": [],
   "source": [
    "bukchon['keyword_stem1']=bukchon['keyword'].apply(morph_stem_test)\n",
    "bukchon['keyword_stem']=bukchon['keyword'].apply(morph_stem)\n",
    "sinchon['keyword_stem1']=sinchon['keyword'].apply(morph_stem_test)\n",
    "sinchon['keyword_stem']=sinchon['keyword'].apply(morph_stem)\n",
    "seongsu['keyword_stem1']=seongsu['keyword'].apply(morph_stem_test)\n",
    "seongsu['keyword_stem']=seongsu['keyword'].apply(morph_stem)"
   ]
  },
  {
   "cell_type": "code",
   "execution_count": null,
   "metadata": {},
   "outputs": [],
   "source": [
    "seongsu.drop(['제거리뷰'], axis=1, inplace=True)\n",
    "bukchon.drop(['제거리뷰'], axis=1, inplace=True)\n",
    "sinchon.drop(['제거리뷰'], axis=1, inplace=True)"
   ]
  },
  {
   "cell_type": "code",
   "execution_count": null,
   "metadata": {},
   "outputs": [],
   "source": [
    "seongsu.to_csv('성수리뷰_키워드_전처리2.csv')\n",
    "sinchon.to_csv('신촌리뷰_키워드_전처리2.csv')\n",
    "bukchon.to_csv('북촌리뷰_키워드_전처리2.csv')"
   ]
  },
  {
   "cell_type": "code",
   "execution_count": null,
   "metadata": {},
   "outputs": [],
   "source": [
    "b1['keyword_stem']=b1['keyword'].apply(morph_stem)\n",
    "b2['keyword_stem']=b2['keyword'].apply(morph_stem)\n",
    "b3['keyword_stem']=b3['keyword'].apply(morph_stem)\n",
    "b4['keyword_stem']=b4['keyword'].apply(morph_stem)"
   ]
  },
  {
   "cell_type": "code",
   "execution_count": null,
   "metadata": {},
   "outputs": [],
   "source": [
    "s1['keyword_stem']=s1['keyword'].apply(morph_stem)\n",
    "s2['keyword_stem']=s2['keyword'].apply(morph_stem)\n",
    "s3['keyword_stem']=s3['keyword'].apply(morph_stem)\n",
    "s4['keyword_stem']=s4['keyword'].apply(morph_stem)"
   ]
  },
  {
   "cell_type": "code",
   "execution_count": null,
   "metadata": {},
   "outputs": [],
   "source": [
    "sc1['keyword_sctem']=sc1['keyword'].apply(morph_stem)\n",
    "sc2['keyword_sctem']=sc2['keyword'].apply(morph_stem)\n",
    "sc3['keyword_sctem']=sc3['keyword'].apply(morph_stem)\n",
    "sc4['keyword_sctem']=sc4['keyword'].apply(morph_stem)"
   ]
  },
  {
   "attachments": {},
   "cell_type": "markdown",
   "metadata": {},
   "source": [
    "### 토큰화"
   ]
  },
  {
   "cell_type": "code",
   "execution_count": null,
   "metadata": {},
   "outputs": [],
   "source": [
    "#두글자씩 보기\n",
    "\n",
    "def count_words_two(sentences: List[str]) -> Counter:\n",
    "    word_list = [sentence.split(' , ') for sentence in sentences]#' , '\n",
    "    # word_list = [okt.morphs(sentence,stem=True) for sentence in sentences]#추가\n",
    "    word_list = sorted(chain.from_iterable(word_list))\n",
    "    word_list = [re.sub('[^0-9ㄱ-ㅎㅏ-ㅣ가-힣]', ' ', word) for word in word_list]\n",
    "    word_list=[word for word in word_list if word not in stopwords]\n",
    "    return Counter(word_list)"
   ]
  },
  {
   "cell_type": "code",
   "execution_count": null,
   "metadata": {},
   "outputs": [],
   "source": [
    "#한글자씩 보기\n",
    "def count_words(sentences: List[str]) -> Counter:\n",
    "    word_list = [sentence.split(' ') for sentence in sentences]\n",
    "    word_list = [okt.morphs(sentence,stem=True) for sentence in sentences]\n",
    "    word_list = sorted(chain.from_iterable(word_list))\n",
    "    word_list = [re.sub('[^0-9ㄱ-ㅎㅏ-ㅣ가-힣]', '', word) for word in word_list]\n",
    "    word_list=[word for word in word_list if word not in stopwords]\n",
    "    return Counter(word_list)"
   ]
  },
  {
   "cell_type": "code",
   "execution_count": null,
   "metadata": {},
   "outputs": [],
   "source": [
    "test=b1[b1['가게명']=='땡스오트 안국']\n",
    "test=test.reset_index(drop=True)\n",
    "test.head()"
   ]
  },
  {
   "cell_type": "code",
   "execution_count": null,
   "metadata": {},
   "outputs": [],
   "source": [
    "#keyword랑 keyword_stem 비교\n",
    "test_review=test['review_tfidf'].tolist()#tfidf로도\n",
    "\n",
    "\n",
    "test_review_two=test['keyword_stem1'].tolist()\n",
    "#test_review_two[:10]\n",
    "test_review[:10]"
   ]
  },
  {
   "cell_type": "code",
   "execution_count": null,
   "metadata": {},
   "outputs": [],
   "source": [
    "test_word_dict=count_words(test_review)\n",
    "test_word_dict_two=count_words_two(test_review_two)"
   ]
  },
  {
   "cell_type": "code",
   "execution_count": null,
   "metadata": {},
   "outputs": [],
   "source": [
    "print(len(test_word_dict))\n",
    "print(len(test_word_dict_two))"
   ]
  },
  {
   "cell_type": "code",
   "execution_count": null,
   "metadata": {},
   "outputs": [],
   "source": [
    "test_word_dict=test_word_dict.most_common()\n",
    "test_word_dict"
   ]
  },
  {
   "cell_type": "code",
   "execution_count": null,
   "metadata": {},
   "outputs": [],
   "source": [
    "test_word_dict_two.most_common()"
   ]
  },
  {
   "cell_type": "code",
   "execution_count": null,
   "metadata": {},
   "outputs": [],
   "source": [
    "#내림차순\n",
    "sorted_result=sorted(test_word_dict,key=lambda x:x[1])\n",
    "sorted_result"
   ]
  }
 ],
 "metadata": {
  "kernelspec": {
   "display_name": "capstone",
   "language": "python",
   "name": "python3"
  },
  "language_info": {
   "codemirror_mode": {
    "name": "ipython",
    "version": 3
   },
   "file_extension": ".py",
   "mimetype": "text/x-python",
   "name": "python",
   "nbconvert_exporter": "python",
   "pygments_lexer": "ipython3",
   "version": "3.11.2"
  },
  "orig_nbformat": 4
 },
 "nbformat": 4,
 "nbformat_minor": 2
}
