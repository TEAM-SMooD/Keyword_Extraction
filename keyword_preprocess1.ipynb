{
 "cells": [
  {
   "cell_type": "code",
   "execution_count": 1,
   "metadata": {},
   "outputs": [],
   "source": [
    "import pandas as pd\n",
    "import re"
   ]
  },
  {
   "cell_type": "code",
   "execution_count": 8,
   "metadata": {},
   "outputs": [],
   "source": [
    "s=pd.read_csv(r'C:\\Users\\qkrwl\\OneDrive\\바탕 화면\\캡스톤\\Keyword_Extraction\\키워드\\성수리뷰_22년2분기_키워드_전처리.csv')\n",
    "b=pd.read_csv(r'C:\\Users\\qkrwl\\OneDrive\\바탕 화면\\캡스톤\\Keyword_Extraction\\키워드\\북촌리뷰_22년2분기_키워드_전처리.csv')\n",
    "sc=pd.read_csv(r'C:\\Users\\qkrwl\\OneDrive\\바탕 화면\\캡스톤\\Keyword_Extraction\\키워드\\신촌리뷰_22년2분기_키워드_전처리.csv')"
   ]
  },
  {
   "cell_type": "code",
   "execution_count": 17,
   "metadata": {},
   "outputs": [
    {
     "data": {
      "text/html": [
       "<div>\n",
       "<style scoped>\n",
       "    .dataframe tbody tr th:only-of-type {\n",
       "        vertical-align: middle;\n",
       "    }\n",
       "\n",
       "    .dataframe tbody tr th {\n",
       "        vertical-align: top;\n",
       "    }\n",
       "\n",
       "    .dataframe thead th {\n",
       "        text-align: right;\n",
       "    }\n",
       "</style>\n",
       "<table border=\"1\" class=\"dataframe\">\n",
       "  <thead>\n",
       "    <tr style=\"text-align: right;\">\n",
       "      <th></th>\n",
       "      <th>상가업소번호</th>\n",
       "      <th>가게명</th>\n",
       "      <th>리뷰</th>\n",
       "      <th>keyword</th>\n",
       "      <th>keyword_stem</th>\n",
       "      <th>분기</th>\n",
       "      <th>keyword_stem1</th>\n",
       "    </tr>\n",
       "  </thead>\n",
       "  <tbody>\n",
       "    <tr>\n",
       "      <th>1744</th>\n",
       "      <td>MA010120220809847761</td>\n",
       "      <td>브루다 안국</td>\n",
       "      <td>Good</td>\n",
       "      <td>good</td>\n",
       "      <td>good</td>\n",
       "      <td>22_2</td>\n",
       "      <td>NaN</td>\n",
       "    </tr>\n",
       "    <tr>\n",
       "      <th>3536</th>\n",
       "      <td>MA010120220813547232</td>\n",
       "      <td>길운구락부 &amp; Bar</td>\n",
       "      <td>자주가는곳! 추천!</td>\n",
       "      <td>자주가는곳,자주가는곳 추천,추천</td>\n",
       "      <td>자주 가다 곳, 자주 가다 곳 추천하다, 추천</td>\n",
       "      <td>22_2</td>\n",
       "      <td>자주 가다 곳, 자주 가다 곳 추천하다, 추천</td>\n",
       "    </tr>\n",
       "    <tr>\n",
       "      <th>8690</th>\n",
       "      <td>1115</td>\n",
       "      <td>블루보틀 삼청 카페</td>\n",
       "      <td>처음가봤는데 커피맛이 스벅보다 연하네요  양도 적은데 비싸요 한번 가볼만한정도?</td>\n",
       "      <td>가볼만한정도,가봤는데,가봤는데 커피맛이,비싸요,비싸요 한번,스벅보다,스벅보다 연하네...</td>\n",
       "      <td>가보다 한 정도, 가보다, 가보다 커피 맛, 비싸다, 비싸다 한번, 스벅 보다, 스...</td>\n",
       "      <td>22_2</td>\n",
       "      <td>가보다 정도, 가보다, 가보다 커피 맛, 비싸다, 비싸다 한번, 스벅, 스벅 연하다...</td>\n",
       "    </tr>\n",
       "    <tr>\n",
       "      <th>494</th>\n",
       "      <td>MA010120220807041580</td>\n",
       "      <td>인사동쭈꾸미</td>\n",
       "      <td>이번이 두번째 방문이였는데 로제쭈꾸미 정말 맛있어요! 잘먹었습니당 담에 또올께요 ??</td>\n",
       "      <td>담에,담에 또올께요,두번째,두번째 방문이였는데,또올께요,로제쭈꾸미,로제쭈꾸미 정말,...</td>\n",
       "      <td>담, 담 오다, 두번째, 두번째 방문, 오다, 쭈꾸미, 쭈꾸미 정말, 맛있다  ' ...</td>\n",
       "      <td>22_2</td>\n",
       "      <td>담, 담 오다, 두번째, 두번째 방문, 오다, 쭈꾸미, 쭈꾸미 정말, 맛있다  ' ...</td>\n",
       "    </tr>\n",
       "  </tbody>\n",
       "</table>\n",
       "</div>"
      ],
      "text/plain": [
       "                    상가업소번호          가게명   \n",
       "1744  MA010120220809847761       브루다 안국  \\\n",
       "3536  MA010120220813547232  길운구락부 & Bar   \n",
       "8690                  1115   블루보틀 삼청 카페   \n",
       "494   MA010120220807041580       인사동쭈꾸미   \n",
       "\n",
       "                                                   리뷰   \n",
       "1744                                             Good  \\\n",
       "3536                                       자주가는곳! 추천!   \n",
       "8690     처음가봤는데 커피맛이 스벅보다 연하네요  양도 적은데 비싸요 한번 가볼만한정도?   \n",
       "494   이번이 두번째 방문이였는데 로제쭈꾸미 정말 맛있어요! 잘먹었습니당 담에 또올께요 ??   \n",
       "\n",
       "                                                keyword   \n",
       "1744                                               good  \\\n",
       "3536                                  자주가는곳,자주가는곳 추천,추천   \n",
       "8690  가볼만한정도,가봤는데,가봤는데 커피맛이,비싸요,비싸요 한번,스벅보다,스벅보다 연하네...   \n",
       "494   담에,담에 또올께요,두번째,두번째 방문이였는데,또올께요,로제쭈꾸미,로제쭈꾸미 정말,...   \n",
       "\n",
       "                                           keyword_stem    분기   \n",
       "1744                                               good  22_2  \\\n",
       "3536                          자주 가다 곳, 자주 가다 곳 추천하다, 추천  22_2   \n",
       "8690  가보다 한 정도, 가보다, 가보다 커피 맛, 비싸다, 비싸다 한번, 스벅 보다, 스...  22_2   \n",
       "494   담, 담 오다, 두번째, 두번째 방문, 오다, 쭈꾸미, 쭈꾸미 정말, 맛있다  ' ...  22_2   \n",
       "\n",
       "                                          keyword_stem1  \n",
       "1744                                                NaN  \n",
       "3536                          자주 가다 곳, 자주 가다 곳 추천하다, 추천  \n",
       "8690  가보다 정도, 가보다, 가보다 커피 맛, 비싸다, 비싸다 한번, 스벅, 스벅 연하다...  \n",
       "494   담, 담 오다, 두번째, 두번째 방문, 오다, 쭈꾸미, 쭈꾸미 정말, 맛있다  ' ...  "
      ]
     },
     "execution_count": 17,
     "metadata": {},
     "output_type": "execute_result"
    }
   ],
   "source": [
    "b.sample(4)"
   ]
  },
  {
   "cell_type": "code",
   "execution_count": 10,
   "metadata": {},
   "outputs": [
    {
     "data": {
      "text/html": [
       "<div>\n",
       "<style scoped>\n",
       "    .dataframe tbody tr th:only-of-type {\n",
       "        vertical-align: middle;\n",
       "    }\n",
       "\n",
       "    .dataframe tbody tr th {\n",
       "        vertical-align: top;\n",
       "    }\n",
       "\n",
       "    .dataframe thead th {\n",
       "        text-align: right;\n",
       "    }\n",
       "</style>\n",
       "<table border=\"1\" class=\"dataframe\">\n",
       "  <thead>\n",
       "    <tr style=\"text-align: right;\">\n",
       "      <th></th>\n",
       "      <th>상가업소번호</th>\n",
       "      <th>가게명</th>\n",
       "      <th>리뷰</th>\n",
       "      <th>keyword</th>\n",
       "      <th>keyword_stem</th>\n",
       "      <th>분기</th>\n",
       "      <th>keyword_stem1</th>\n",
       "    </tr>\n",
       "  </thead>\n",
       "  <tbody>\n",
       "    <tr>\n",
       "      <th>3748</th>\n",
       "      <td>MA010120220800626412</td>\n",
       "      <td>고르드</td>\n",
       "      <td>맛있어요</td>\n",
       "      <td>맛있어요</td>\n",
       "      <td>맛있다</td>\n",
       "      <td>22_2</td>\n",
       "      <td>맛있다</td>\n",
       "    </tr>\n",
       "    <tr>\n",
       "      <th>2101</th>\n",
       "      <td>MA010120220806523856</td>\n",
       "      <td>할리스 이대점</td>\n",
       "      <td>좋아요</td>\n",
       "      <td>좋아요</td>\n",
       "      <td>좋다</td>\n",
       "      <td>22_2</td>\n",
       "      <td>좋다</td>\n",
       "    </tr>\n",
       "    <tr>\n",
       "      <th>7490</th>\n",
       "      <td>MA010120220812530321</td>\n",
       "      <td>안테이쿠</td>\n",
       "      <td>아니 너무 신나게 즐기느라 사진 하나밖에 없는 게 너무 어이없네요???? 츄하이 맛...</td>\n",
       "      <td>가득합니당,가득합니당 그리고,가성비,가성비 애니,고르는,고르는 맛도,곳이라,곳이라 ...</td>\n",
       "      <td>가득하다 , 가득하다 , 가성비 , 가성비 애니 , 고르다 , 고르다 맛 , 곳 이...</td>\n",
       "      <td>22_2</td>\n",
       "      <td>가득하다 , 가득하다 , 가성비 , 가성비 애니 , 고르다 , 고르다 맛 , 곳 ,...</td>\n",
       "    </tr>\n",
       "    <tr>\n",
       "      <th>4224</th>\n",
       "      <td>MA010120220803733841</td>\n",
       "      <td>화가와요리사</td>\n",
       "      <td>굿</td>\n",
       "      <td>굿굿굿</td>\n",
       "      <td>굿굿굿</td>\n",
       "      <td>22_2</td>\n",
       "      <td>굿굿굿</td>\n",
       "    </tr>\n",
       "    <tr>\n",
       "      <th>397</th>\n",
       "      <td>MA010120220810113017</td>\n",
       "      <td>연세로갈매기</td>\n",
       "      <td>너무 맛있게 잘 먹었습니당 존맛탱 ㅠㅠㅠ 또갈게영</td>\n",
       "      <td>너무,너무 맛있게,또갈게영,맛있게,맛있게 먹었습니당,먹었습니당,먹었습니당 존맛탱,존...</td>\n",
       "      <td>너무 , 너무 맛있다  , 갈다 , 맛있다  , 맛있다  먹다 습 니당다 , 먹다 ...</td>\n",
       "      <td>22_2</td>\n",
       "      <td>, 맛있다  , 갈다 , 맛있다  , 맛있다  먹다 습 니당다 , 먹다 습 니당다 ...</td>\n",
       "    </tr>\n",
       "  </tbody>\n",
       "</table>\n",
       "</div>"
      ],
      "text/plain": [
       "                    상가업소번호      가게명   \n",
       "3748  MA010120220800626412      고르드  \\\n",
       "2101  MA010120220806523856  할리스 이대점   \n",
       "7490  MA010120220812530321     안테이쿠   \n",
       "4224  MA010120220803733841   화가와요리사   \n",
       "397   MA010120220810113017   연세로갈매기   \n",
       "\n",
       "                                                     리뷰   \n",
       "3748                                               맛있어요  \\\n",
       "2101                                                좋아요   \n",
       "7490  아니 너무 신나게 즐기느라 사진 하나밖에 없는 게 너무 어이없네요???? 츄하이 맛...   \n",
       "4224                                                  굿   \n",
       "397                         너무 맛있게 잘 먹었습니당 존맛탱 ㅠㅠㅠ 또갈게영   \n",
       "\n",
       "                                                keyword   \n",
       "3748                                               맛있어요  \\\n",
       "2101                                                좋아요   \n",
       "7490  가득합니당,가득합니당 그리고,가성비,가성비 애니,고르는,고르는 맛도,곳이라,곳이라 ...   \n",
       "4224                                                굿굿굿   \n",
       "397   너무,너무 맛있게,또갈게영,맛있게,맛있게 먹었습니당,먹었습니당,먹었습니당 존맛탱,존...   \n",
       "\n",
       "                                           keyword_stem    분기   \n",
       "3748                                               맛있다   22_2  \\\n",
       "2101                                                 좋다  22_2   \n",
       "7490  가득하다 , 가득하다 , 가성비 , 가성비 애니 , 고르다 , 고르다 맛 , 곳 이...  22_2   \n",
       "4224                                                굿굿굿  22_2   \n",
       "397   너무 , 너무 맛있다  , 갈다 , 맛있다  , 맛있다  먹다 습 니당다 , 먹다 ...  22_2   \n",
       "\n",
       "                                          keyword_stem1  \n",
       "3748                                               맛있다   \n",
       "2101                                                 좋다  \n",
       "7490  가득하다 , 가득하다 , 가성비 , 가성비 애니 , 고르다 , 고르다 맛 , 곳 ,...  \n",
       "4224                                                굿굿굿  \n",
       "397   , 맛있다  , 갈다 , 맛있다  , 맛있다  먹다 습 니당다 , 먹다 습 니당다 ...  "
      ]
     },
     "execution_count": 10,
     "metadata": {},
     "output_type": "execute_result"
    }
   ],
   "source": [
    "sc.sample(5)"
   ]
  },
  {
   "cell_type": "code",
   "execution_count": 4,
   "metadata": {},
   "outputs": [
    {
     "data": {
      "text/html": [
       "<div>\n",
       "<style scoped>\n",
       "    .dataframe tbody tr th:only-of-type {\n",
       "        vertical-align: middle;\n",
       "    }\n",
       "\n",
       "    .dataframe tbody tr th {\n",
       "        vertical-align: top;\n",
       "    }\n",
       "\n",
       "    .dataframe thead th {\n",
       "        text-align: right;\n",
       "    }\n",
       "</style>\n",
       "<table border=\"1\" class=\"dataframe\">\n",
       "  <thead>\n",
       "    <tr style=\"text-align: right;\">\n",
       "      <th></th>\n",
       "      <th>상가업소번호</th>\n",
       "      <th>가게명</th>\n",
       "      <th>리뷰</th>\n",
       "      <th>keyword</th>\n",
       "      <th>keyword_stem</th>\n",
       "    </tr>\n",
       "  </thead>\n",
       "  <tbody>\n",
       "    <tr>\n",
       "      <th>8097</th>\n",
       "      <td>MA010120220805177603</td>\n",
       "      <td>아이오쓰리 에이스하이엔드점</td>\n",
       "      <td>지굼 샤이니 뭐 하더라구여 매장 깔끔하구 좋아요</td>\n",
       "      <td>깔끔하구,깔끔하구 좋아요,매장,매장 깔끔하구,샤이니,샤이니 하더라구여,좋아요,지굼,...</td>\n",
       "      <td>깔끔하다,깔끔하다 좋다,매장,매장 깔끔하다,샤이니,샤이니,좋다,지굼,지굼 샤이니,,...</td>\n",
       "    </tr>\n",
       "    <tr>\n",
       "      <th>3841</th>\n",
       "      <td>MA010120220810276601</td>\n",
       "      <td>플래닝샐러드</td>\n",
       "      <td>가게는 좁아요</td>\n",
       "      <td>가게는,가게는 좁아요,좁아요</td>\n",
       "      <td>가게,가게 좁다,좁다</td>\n",
       "    </tr>\n",
       "    <tr>\n",
       "      <th>2240</th>\n",
       "      <td>MA010120220806892678</td>\n",
       "      <td>201호</td>\n",
       "      <td>친구들이랑 브런치 먹으러 왔는데  만족스런 식사하고 갑니다 -!  치즈 프리티타는 ...</td>\n",
       "      <td>갑니다,갑니다 치즈,, 만족스런,다음에,다음에 방문하고,만족스런,만족스런 식사하고,...</td>\n",
       "      <td>가다,가다 치즈,, 만족스럽다,,방문,만족스럽다,만족스럽다 식사,맛있다,, ,맛있다...</td>\n",
       "    </tr>\n",
       "    <tr>\n",
       "      <th>4829</th>\n",
       "      <td>MA010120220803773713</td>\n",
       "      <td>푸르너스가든 서울숲</td>\n",
       "      <td>굿〰〰</td>\n",
       "      <td>굿굿굿</td>\n",
       "      <td>굿굿굿</td>\n",
       "    </tr>\n",
       "    <tr>\n",
       "      <th>3292</th>\n",
       "      <td>MA010120220813632780</td>\n",
       "      <td>버니타운</td>\n",
       "      <td>매장 깔끔하고 음료도 다 맛있네여~ 또올게여😁</td>\n",
       "      <td>깔끔하고,깔끔하고 음료도,또올게여,맛있네여,맛있네여 또올게여,매장,매장 깔끔하고,음...</td>\n",
       "      <td>깔끔하다,깔끔하다 음료,올 게,맛있다,맛있다 올 게,매장,매장 깔끔하다,음료,, ,...</td>\n",
       "    </tr>\n",
       "  </tbody>\n",
       "</table>\n",
       "</div>"
      ],
      "text/plain": [
       "                    상가업소번호             가게명   \n",
       "8097  MA010120220805177603  아이오쓰리 에이스하이엔드점  \\\n",
       "3841  MA010120220810276601          플래닝샐러드   \n",
       "2240  MA010120220806892678            201호   \n",
       "4829  MA010120220803773713      푸르너스가든 서울숲   \n",
       "3292  MA010120220813632780            버니타운   \n",
       "\n",
       "                                                     리뷰   \n",
       "8097                         지굼 샤이니 뭐 하더라구여 매장 깔끔하구 좋아요  \\\n",
       "3841                                            가게는 좁아요   \n",
       "2240  친구들이랑 브런치 먹으러 왔는데  만족스런 식사하고 갑니다 -!  치즈 프리티타는 ...   \n",
       "4829                                                굿〰〰   \n",
       "3292                          매장 깔끔하고 음료도 다 맛있네여~ 또올게여😁   \n",
       "\n",
       "                                                keyword   \n",
       "8097  깔끔하구,깔끔하구 좋아요,매장,매장 깔끔하구,샤이니,샤이니 하더라구여,좋아요,지굼,...  \\\n",
       "3841                                    가게는,가게는 좁아요,좁아요   \n",
       "2240  갑니다,갑니다 치즈,, 만족스런,다음에,다음에 방문하고,만족스런,만족스런 식사하고,...   \n",
       "4829                                                굿굿굿   \n",
       "3292  깔끔하고,깔끔하고 음료도,또올게여,맛있네여,맛있네여 또올게여,매장,매장 깔끔하고,음...   \n",
       "\n",
       "                                           keyword_stem  \n",
       "8097  깔끔하다,깔끔하다 좋다,매장,매장 깔끔하다,샤이니,샤이니,좋다,지굼,지굼 샤이니,,...  \n",
       "3841                                        가게,가게 좁다,좁다  \n",
       "2240  가다,가다 치즈,, 만족스럽다,,방문,만족스럽다,만족스럽다 식사,맛있다,, ,맛있다...  \n",
       "4829                                                굿굿굿  \n",
       "3292  깔끔하다,깔끔하다 음료,올 게,맛있다,맛있다 올 게,매장,매장 깔끔하다,음료,, ,...  "
      ]
     },
     "execution_count": 4,
     "metadata": {},
     "output_type": "execute_result"
    }
   ],
   "source": [
    "s.sample(5)"
   ]
  },
  {
   "cell_type": "code",
   "execution_count": 18,
   "metadata": {},
   "outputs": [
    {
     "data": {
      "text/plain": [
       "[['한', '비싸다', '가보다,', '보다,', '정도,', '커피', '한번,', '스벅', '비싸다,', '가보다', '맛,']]"
      ]
     },
     "execution_count": 18,
     "metadata": {},
     "output_type": "execute_result"
    }
   ],
   "source": [
    "s=\"가보다 한 정도, 가보다, 가보다 커피 맛, 비싸다, 비싸다 한번, 스벅 보다,\"\n",
    "bs=[list(set(s.split(' ')))]\n",
    "bs"
   ]
  },
  {
   "cell_type": "code",
   "execution_count": null,
   "metadata": {},
   "outputs": [],
   "source": [
    "word_list = [list(set(sentence.split(' '))) for sentence in sentences]"
   ]
  },
  {
   "attachments": {},
   "cell_type": "markdown",
   "metadata": {},
   "source": [
    "## 데이터 로드"
   ]
  },
  {
   "cell_type": "code",
   "execution_count": 220,
   "metadata": {},
   "outputs": [],
   "source": [
    "b1=pd.read_csv(r'C:\\Users\\user\\OneDrive\\바탕화~1-DESKTOP-R00ORLS-348\\캡스톤\\Keyword_Extraction\\키워드\\북촌리뷰_23년1분기_키워드_전처리.csv')\n",
    "b2=pd.read_csv(r'C:\\Users\\user\\OneDrive\\바탕화~1-DESKTOP-R00ORLS-348\\캡스톤\\Keyword_Extraction\\키워드\\북촌리뷰_22년2분기_키워드_전처리.csv')\n",
    "b3=pd.read_csv(r'C:\\Users\\user\\OneDrive\\바탕화~1-DESKTOP-R00ORLS-348\\캡스톤\\Keyword_Extraction\\키워드\\북촌리뷰_22년3분기_키워드_전처리.csv')\n",
    "b4=pd.read_csv(r'C:\\Users\\user\\OneDrive\\바탕화~1-DESKTOP-R00ORLS-348\\캡스톤\\Keyword_Extraction\\키워드\\북촌리뷰_22년4분기_키워드_전처리.csv')"
   ]
  },
  {
   "cell_type": "code",
   "execution_count": 23,
   "metadata": {},
   "outputs": [],
   "source": [
    "s1=pd.read_csv(r'C:\\Users\\qkrwl\\OneDrive\\바탕 화면\\캡스톤\\Keyword_Extraction\\키워드\\성수리뷰_23년1분기_키워드_전처리.csv')\n",
    "s2=pd.read_csv(r'C:\\Users\\qkrwl\\OneDrive\\바탕 화면\\캡스톤\\Keyword_Extraction\\키워드\\성수리뷰_22년2분기_키워드_전처리.csv')\n",
    "s3=pd.read_csv(r'C:\\Users\\qkrwl\\OneDrive\\바탕 화면\\캡스톤\\Keyword_Extraction\\키워드\\성수리뷰_22년3분기_키워드_전처리.csv')\n",
    "s4=pd.read_csv(r'C:\\Users\\qkrwl\\OneDrive\\바탕 화면\\캡스톤\\Keyword_Extraction\\키워드\\성수리뷰_22년4분기_키워드_전처리.csv')"
   ]
  },
  {
   "cell_type": "code",
   "execution_count": 222,
   "metadata": {},
   "outputs": [],
   "source": [
    "sc1=pd.read_csv(r'C:\\Users\\user\\OneDrive\\바탕화~1-DESKTOP-R00ORLS-348\\캡스톤\\Keyword_Extraction\\키워드\\신촌리뷰_23년1분기_키워드_전처리.csv')\n",
    "sc2=pd.read_csv(r'C:\\Users\\user\\OneDrive\\바탕화~1-DESKTOP-R00ORLS-348\\캡스톤\\Keyword_Extraction\\키워드\\신촌리뷰_22년2분기_키워드_전처리.csv')\n",
    "sc3=pd.read_csv(r'C:\\Users\\user\\OneDrive\\바탕화~1-DESKTOP-R00ORLS-348\\캡스톤\\Keyword_Extraction\\키워드\\신촌리뷰_22년3분기_키워드_전처리.csv')\n",
    "sc4=pd.read_csv(r'C:\\Users\\user\\OneDrive\\바탕화~1-DESKTOP-R00ORLS-348\\캡스톤\\Keyword_Extraction\\키워드\\신촌리뷰_22년4분기_키워드_전처리.csv')"
   ]
  },
  {
   "cell_type": "code",
   "execution_count": 24,
   "metadata": {},
   "outputs": [],
   "source": [
    "s1=s1.fillna('빈 리뷰')\n",
    "s2=s2.fillna('빈 리뷰')\n",
    "s3=s3.fillna('빈 리뷰')\n",
    "s4=s4.fillna('빈 리뷰')"
   ]
  },
  {
   "cell_type": "code",
   "execution_count": 225,
   "metadata": {},
   "outputs": [],
   "source": [
    "b1=b1.fillna('빈 리뷰')\n",
    "b2=b2.fillna('빈 리뷰')\n",
    "b3=b3.fillna('빈 리뷰')\n",
    "b4=b4.fillna('빈 리뷰')"
   ]
  },
  {
   "cell_type": "code",
   "execution_count": 226,
   "metadata": {},
   "outputs": [],
   "source": [
    "sc1=sc1.fillna('빈 리뷰')\n",
    "sc2=sc2.fillna('빈 리뷰')\n",
    "sc3=sc3.fillna('빈 리뷰')\n",
    "sc4=sc4.fillna('빈 리뷰')"
   ]
  },
  {
   "cell_type": "code",
   "execution_count": 223,
   "metadata": {},
   "outputs": [
    {
     "name": "stdout",
     "output_type": "stream",
     "text": [
      "<class 'pandas.core.frame.DataFrame'>\n",
      "RangeIndex: 8786 entries, 0 to 8785\n",
      "Data columns (total 7 columns):\n",
      " #   Column         Non-Null Count  Dtype \n",
      "---  ------         --------------  ----- \n",
      " 0   상가업소번호         8786 non-null   object\n",
      " 1   가게명            8786 non-null   object\n",
      " 2   리뷰             8786 non-null   object\n",
      " 3   keyword        8786 non-null   object\n",
      " 4   keyword_stem   8785 non-null   object\n",
      " 5   분기             8786 non-null   object\n",
      " 6   keyword_stem1  8767 non-null   object\n",
      "dtypes: object(7)\n",
      "memory usage: 480.6+ KB\n"
     ]
    }
   ],
   "source": [
    "b1.info()"
   ]
  },
  {
   "attachments": {},
   "cell_type": "markdown",
   "metadata": {},
   "source": [
    "### Keyword 문장부호 없애기"
   ]
  },
  {
   "cell_type": "code",
   "execution_count": null,
   "metadata": {},
   "outputs": [],
   "source": [
    "# import re\n",
    "\n",
    "# def remove(s):\n",
    "#     sentence=re.sub('[\\'\\'\\[\\]]','',s)\n",
    "#     return sentence"
   ]
  },
  {
   "cell_type": "code",
   "execution_count": null,
   "metadata": {},
   "outputs": [],
   "source": [
    "import re\n",
    "\n",
    "def remove(text):\n",
    "    text2 = text.replace(\"['\", \"\").replace(\"']\", \"\").replace(\"' '\", \",\")\n",
    "    return text2"
   ]
  },
  {
   "cell_type": "code",
   "execution_count": 19,
   "metadata": {},
   "outputs": [],
   "source": [
    "import re\n",
    "\n",
    "def remove(text):\n",
    "    text2 = text.replace(\" ,\", \",\").replace(\", \",\",\").replace(\" , \",\",\")\n",
    "    return text2"
   ]
  },
  {
   "cell_type": "code",
   "execution_count": 21,
   "metadata": {},
   "outputs": [],
   "source": [
    "b=b.fillna('빈 리뷰')"
   ]
  },
  {
   "cell_type": "code",
   "execution_count": 22,
   "metadata": {},
   "outputs": [
    {
     "data": {
      "text/html": [
       "<div>\n",
       "<style scoped>\n",
       "    .dataframe tbody tr th:only-of-type {\n",
       "        vertical-align: middle;\n",
       "    }\n",
       "\n",
       "    .dataframe tbody tr th {\n",
       "        vertical-align: top;\n",
       "    }\n",
       "\n",
       "    .dataframe thead th {\n",
       "        text-align: right;\n",
       "    }\n",
       "</style>\n",
       "<table border=\"1\" class=\"dataframe\">\n",
       "  <thead>\n",
       "    <tr style=\"text-align: right;\">\n",
       "      <th></th>\n",
       "      <th>상가업소번호</th>\n",
       "      <th>가게명</th>\n",
       "      <th>리뷰</th>\n",
       "      <th>keyword</th>\n",
       "      <th>keyword_stem</th>\n",
       "      <th>분기</th>\n",
       "      <th>keyword_stem1</th>\n",
       "    </tr>\n",
       "  </thead>\n",
       "  <tbody>\n",
       "    <tr>\n",
       "      <th>0</th>\n",
       "      <td>MA010120220805435729</td>\n",
       "      <td>몽중헌 안국점</td>\n",
       "      <td>주차도 발렛 편리했고 음식맛은 정말 맛있었습니다! 일요일 오후7시~8시30분 식사 ...</td>\n",
       "      <td>3층,3층 서빙하시는,그분께,그분께 맛있게,그외,그외 다른,너무,너무 별로였습니다,...</td>\n",
       "      <td>3층,3층 서빙,분 께,분 께 맛있다,외,외,너무,너무 별로,놓다 ' \\r\\n ' ...</td>\n",
       "      <td>22_2</td>\n",
       "      <td>층 ,층 서빙, 분, 분 맛있다 , 외, 외, , 별로, 놓다 ' ' 놓다 많다, ...</td>\n",
       "    </tr>\n",
       "    <tr>\n",
       "      <th>1</th>\n",
       "      <td>MA010120220805435729</td>\n",
       "      <td>몽중헌 안국점</td>\n",
       "      <td>좋아요</td>\n",
       "      <td>좋아요</td>\n",
       "      <td>좋다</td>\n",
       "      <td>22_2</td>\n",
       "      <td>좋다</td>\n",
       "    </tr>\n",
       "    <tr>\n",
       "      <th>2</th>\n",
       "      <td>MA010120220805435729</td>\n",
       "      <td>몽중헌 안국점</td>\n",
       "      <td>오랜만에 방문한고 같아요!! 비록 북촌이 정말이지 사람이 너무너무 많아져서 그런지 ...</td>\n",
       "      <td>갑니다,갑니다 오래오래,같아요,같아요 비록,그런지,그런지 저의,너무너무,너무너무 많...</td>\n",
       "      <td>가다,가다 오래오래,,,그렇다,그렇다,너무 너무,너무 너무 많아지다 ' \\r\\n '...</td>\n",
       "      <td>22_2</td>\n",
       "      <td>가다, 가다 오래오래, ,, 그렇다, 그렇다, , 많아지다 ' ' 지점, 지점 달리...</td>\n",
       "    </tr>\n",
       "    <tr>\n",
       "      <th>3</th>\n",
       "      <td>MA010120220805435729</td>\n",
       "      <td>몽중헌 안국점</td>\n",
       "      <td>굿</td>\n",
       "      <td>굿굿굿</td>\n",
       "      <td>굿굿굿</td>\n",
       "      <td>22_2</td>\n",
       "      <td>굿굿굿</td>\n",
       "    </tr>\n",
       "    <tr>\n",
       "      <th>4</th>\n",
       "      <td>MA010120220805435729</td>\n",
       "      <td>몽중헌 안국점</td>\n",
       "      <td>굿</td>\n",
       "      <td>굿굿굿</td>\n",
       "      <td>굿굿굿</td>\n",
       "      <td>22_2</td>\n",
       "      <td>굿굿굿</td>\n",
       "    </tr>\n",
       "  </tbody>\n",
       "</table>\n",
       "</div>"
      ],
      "text/plain": [
       "                 상가업소번호      가게명   \n",
       "0  MA010120220805435729  몽중헌 안국점  \\\n",
       "1  MA010120220805435729  몽중헌 안국점   \n",
       "2  MA010120220805435729  몽중헌 안국점   \n",
       "3  MA010120220805435729  몽중헌 안국점   \n",
       "4  MA010120220805435729  몽중헌 안국점   \n",
       "\n",
       "                                                  리뷰   \n",
       "0  주차도 발렛 편리했고 음식맛은 정말 맛있었습니다! 일요일 오후7시~8시30분 식사 ...  \\\n",
       "1                                                좋아요   \n",
       "2  오랜만에 방문한고 같아요!! 비록 북촌이 정말이지 사람이 너무너무 많아져서 그런지 ...   \n",
       "3                                                  굿   \n",
       "4                                                  굿   \n",
       "\n",
       "                                             keyword   \n",
       "0  3층,3층 서빙하시는,그분께,그분께 맛있게,그외,그외 다른,너무,너무 별로였습니다,...  \\\n",
       "1                                                좋아요   \n",
       "2  갑니다,갑니다 오래오래,같아요,같아요 비록,그런지,그런지 저의,너무너무,너무너무 많...   \n",
       "3                                                굿굿굿   \n",
       "4                                                굿굿굿   \n",
       "\n",
       "                                        keyword_stem    분기   \n",
       "0  3층,3층 서빙,분 께,분 께 맛있다,외,외,너무,너무 별로,놓다 ' \\r\\n ' ...  22_2  \\\n",
       "1                                                 좋다  22_2   \n",
       "2  가다,가다 오래오래,,,그렇다,그렇다,너무 너무,너무 너무 많아지다 ' \\r\\n '...  22_2   \n",
       "3                                                굿굿굿  22_2   \n",
       "4                                                굿굿굿  22_2   \n",
       "\n",
       "                                       keyword_stem1  \n",
       "0  층 ,층 서빙, 분, 분 맛있다 , 외, 외, , 별로, 놓다 ' ' 놓다 많다, ...  \n",
       "1                                                 좋다  \n",
       "2  가다, 가다 오래오래, ,, 그렇다, 그렇다, , 많아지다 ' ' 지점, 지점 달리...  \n",
       "3                                                굿굿굿  \n",
       "4                                                굿굿굿  "
      ]
     },
     "execution_count": 22,
     "metadata": {},
     "output_type": "execute_result"
    }
   ],
   "source": [
    "b['keyword_stem']=b['keyword_stem'].apply(remove)\n",
    "b.head()"
   ]
  },
  {
   "cell_type": "code",
   "execution_count": 148,
   "metadata": {},
   "outputs": [],
   "source": [
    "s1['keyword_stem']=s1['keyword_stem'].apply(remove)\n",
    "s2['keyword_stem']=s2['keyword_stem'].apply(remove)\n",
    "s3['keyword_stem']=s3['keyword_stem'].apply(remove)\n",
    "s4['keyword_stem']=s4['keyword_stem'].apply(remove)"
   ]
  },
  {
   "cell_type": "code",
   "execution_count": 48,
   "metadata": {},
   "outputs": [],
   "source": [
    "b1['keyword_stem']=b1['keyword_stem'].apply(remove)\n",
    "b2['keyword_stem']=b2['keyword_stem'].apply(remove)\n",
    "b3['keyword_stem']=b3['keyword_stem'].apply(remove)\n",
    "b4['keyword_stem']=b4['keyword_stem'].apply(remove)"
   ]
  },
  {
   "cell_type": "code",
   "execution_count": 85,
   "metadata": {},
   "outputs": [],
   "source": [
    "sc1['keyword_stem']=sc1['keyword_stem'].apply(remove)\n",
    "sc2['keyword_stem']=sc2['keyword_stem'].apply(remove)\n",
    "sc3['keyword_stem']=sc3['keyword_stem'].apply(remove)\n",
    "sc4['keyword_stem']=sc4['keyword_stem'].apply(remove)"
   ]
  },
  {
   "cell_type": "code",
   "execution_count": 25,
   "metadata": {},
   "outputs": [
    {
     "data": {
      "text/html": [
       "<div>\n",
       "<style scoped>\n",
       "    .dataframe tbody tr th:only-of-type {\n",
       "        vertical-align: middle;\n",
       "    }\n",
       "\n",
       "    .dataframe tbody tr th {\n",
       "        vertical-align: top;\n",
       "    }\n",
       "\n",
       "    .dataframe thead th {\n",
       "        text-align: right;\n",
       "    }\n",
       "</style>\n",
       "<table border=\"1\" class=\"dataframe\">\n",
       "  <thead>\n",
       "    <tr style=\"text-align: right;\">\n",
       "      <th></th>\n",
       "      <th>상가업소번호</th>\n",
       "      <th>가게명</th>\n",
       "      <th>리뷰</th>\n",
       "      <th>제거리뷰</th>\n",
       "      <th>review_tfidf</th>\n",
       "      <th>keyword</th>\n",
       "      <th>keyword_stem</th>\n",
       "      <th>분기</th>\n",
       "    </tr>\n",
       "  </thead>\n",
       "  <tbody>\n",
       "    <tr>\n",
       "      <th>0</th>\n",
       "      <td>MA010120220808464961</td>\n",
       "      <td>밥플러스 아이티캐슬점</td>\n",
       "      <td>좋아요</td>\n",
       "      <td>좋아요</td>\n",
       "      <td>['좋아요']</td>\n",
       "      <td>좋아요</td>\n",
       "      <td>좋다</td>\n",
       "      <td>23_1</td>\n",
       "    </tr>\n",
       "    <tr>\n",
       "      <th>1</th>\n",
       "      <td>MA010120220808464961</td>\n",
       "      <td>밥플러스 아이티캐슬점</td>\n",
       "      <td>매일 메뉴가 바뀌고 좋아요. 단, 예전만큼 맛있는건 아녜요</td>\n",
       "      <td>매일 메뉴가 바뀌고 좋아요 단 예전만큼 맛있는건 아녜요</td>\n",
       "      <td>['맛있는건' '맛있는건 아녜요' '매일' '매일 메뉴가' '메뉴가' '메뉴가 바뀌...</td>\n",
       "      <td>매일, 메뉴가, 예전만큼 맛있는건, 메뉴가 바뀌고, 매일 메뉴가</td>\n",
       "      <td>매일 , 메뉴 가 , 예전 만큼 맛있다 , 메뉴 가 바뀌다 , 매일 메뉴 가</td>\n",
       "      <td>23_1</td>\n",
       "    </tr>\n",
       "    <tr>\n",
       "      <th>2</th>\n",
       "      <td>MA010120220808464961</td>\n",
       "      <td>밥플러스 아이티캐슬점</td>\n",
       "      <td>맛있아여</td>\n",
       "      <td>맛있아여</td>\n",
       "      <td>['맛있아여']</td>\n",
       "      <td>맛있아여</td>\n",
       "      <td>맛있다</td>\n",
       "      <td>23_1</td>\n",
       "    </tr>\n",
       "    <tr>\n",
       "      <th>3</th>\n",
       "      <td>MA010120220808464961</td>\n",
       "      <td>밥플러스 아이티캐슬점</td>\n",
       "      <td>좋아요</td>\n",
       "      <td>좋아요</td>\n",
       "      <td>['좋아요']</td>\n",
       "      <td>좋아요</td>\n",
       "      <td>좋다</td>\n",
       "      <td>23_1</td>\n",
       "    </tr>\n",
       "    <tr>\n",
       "      <th>4</th>\n",
       "      <td>MA010120220808464961</td>\n",
       "      <td>밥플러스 아이티캐슬점</td>\n",
       "      <td>잘먹고 갑니다 늘</td>\n",
       "      <td>잘먹고 갑니다 늘</td>\n",
       "      <td>['갑니다' '잘먹고' '잘먹고 갑니다']</td>\n",
       "      <td>갑니다, 잘먹고, 잘먹고 갑니다</td>\n",
       "      <td>가다 , 잘 먹다 , 잘 먹다 가다</td>\n",
       "      <td>23_1</td>\n",
       "    </tr>\n",
       "  </tbody>\n",
       "</table>\n",
       "</div>"
      ],
      "text/plain": [
       "                 상가업소번호          가게명                                리뷰   \n",
       "0  MA010120220808464961  밥플러스 아이티캐슬점                               좋아요  \\\n",
       "1  MA010120220808464961  밥플러스 아이티캐슬점  매일 메뉴가 바뀌고 좋아요. 단, 예전만큼 맛있는건 아녜요   \n",
       "2  MA010120220808464961  밥플러스 아이티캐슬점                              맛있아여   \n",
       "3  MA010120220808464961  밥플러스 아이티캐슬점                               좋아요   \n",
       "4  MA010120220808464961  밥플러스 아이티캐슬점                         잘먹고 갑니다 늘   \n",
       "\n",
       "                             제거리뷰   \n",
       "0                             좋아요  \\\n",
       "1  매일 메뉴가 바뀌고 좋아요 단 예전만큼 맛있는건 아녜요   \n",
       "2                            맛있아여   \n",
       "3                             좋아요   \n",
       "4                       잘먹고 갑니다 늘   \n",
       "\n",
       "                                        review_tfidf   \n",
       "0                                            ['좋아요']  \\\n",
       "1  ['맛있는건' '맛있는건 아녜요' '매일' '매일 메뉴가' '메뉴가' '메뉴가 바뀌...   \n",
       "2                                           ['맛있아여']   \n",
       "3                                            ['좋아요']   \n",
       "4                            ['갑니다' '잘먹고' '잘먹고 갑니다']   \n",
       "\n",
       "                               keyword   \n",
       "0                                  좋아요  \\\n",
       "1  매일, 메뉴가, 예전만큼 맛있는건, 메뉴가 바뀌고, 매일 메뉴가   \n",
       "2                                 맛있아여   \n",
       "3                                  좋아요   \n",
       "4                    갑니다, 잘먹고, 잘먹고 갑니다   \n",
       "\n",
       "                                 keyword_stem    분기  \n",
       "0                                          좋다  23_1  \n",
       "1  매일 , 메뉴 가 , 예전 만큼 맛있다 , 메뉴 가 바뀌다 , 매일 메뉴 가  23_1  \n",
       "2                                         맛있다  23_1  \n",
       "3                                          좋다  23_1  \n",
       "4                         가다 , 잘 먹다 , 잘 먹다 가다  23_1  "
      ]
     },
     "execution_count": 25,
     "metadata": {},
     "output_type": "execute_result"
    }
   ],
   "source": [
    "s1.head()"
   ]
  },
  {
   "attachments": {},
   "cell_type": "markdown",
   "metadata": {},
   "source": [
    "### 맞춤법 검사"
   ]
  },
  {
   "cell_type": "code",
   "execution_count": 9,
   "metadata": {},
   "outputs": [],
   "source": [
    "from hanspell import spell_checker\n",
    "from tqdm import tqdm\n",
    "\n",
    "\n",
    "def preprocess_sentence(df):\n",
    "    data=df.copy()\n",
    "    data['spell_check']=''\n",
    "    data['리뷰 hanspell']=data['keyword'].apply(lambda x: re.sub('[^A-Za-z0-9ㄱ-ㅎㅏ-ㅣ가-힣\\s\\[\\]\\.,!\\?\\\"\\']', '', x))\n",
    "    data['리뷰 hanspell']=data['리뷰 hanspell'].apply(lambda x: re.sub(r\"[\\[\\'\\]]\",\"\",x))\n",
    "    \n",
    "    for i,review in tqdm(zip(data.index.tolist(),data['리뷰 hanspell'].tolist()),total=len(data)):\n",
    "            s=spell_checker.check(review).checked\n",
    "            if s!='':\n",
    "                data['spell_check'][i]=s\n",
    "            else:\n",
    "                data['spell_check'][i]=review\n",
    "                 \n",
    "\n",
    "    return data"
   ]
  },
  {
   "cell_type": "code",
   "execution_count": null,
   "metadata": {},
   "outputs": [],
   "source": [
    "b1=preprocess_sentence(b1)"
   ]
  },
  {
   "attachments": {},
   "cell_type": "markdown",
   "metadata": {},
   "source": [
    "### 형태소 원형"
   ]
  },
  {
   "cell_type": "code",
   "execution_count": 28,
   "metadata": {},
   "outputs": [
    {
     "ename": "ModuleNotFoundError",
     "evalue": "No module named 'konlpy'",
     "output_type": "error",
     "traceback": [
      "\u001b[1;31m---------------------------------------------------------------------------\u001b[0m",
      "\u001b[1;31mModuleNotFoundError\u001b[0m                       Traceback (most recent call last)",
      "Cell \u001b[1;32mIn[28], line 5\u001b[0m\n\u001b[0;32m      3\u001b[0m \u001b[39mfrom\u001b[39;00m \u001b[39mitertools\u001b[39;00m \u001b[39mimport\u001b[39;00m chain\n\u001b[0;32m      4\u001b[0m \u001b[39mfrom\u001b[39;00m \u001b[39mcollections\u001b[39;00m \u001b[39mimport\u001b[39;00m Counter\n\u001b[1;32m----> 5\u001b[0m \u001b[39mfrom\u001b[39;00m \u001b[39mkonlpy\u001b[39;00m\u001b[39m.\u001b[39;00m\u001b[39mtag\u001b[39;00m \u001b[39mimport\u001b[39;00m Okt\n\u001b[0;32m      7\u001b[0m okt\u001b[39m=\u001b[39mOkt()\n",
      "\u001b[1;31mModuleNotFoundError\u001b[0m: No module named 'konlpy'"
     ]
    }
   ],
   "source": [
    "from tqdm.notebook import tqdm\n",
    "from typing import Dict, List, Set, Callable, Optional\n",
    "from itertools import chain\n",
    "from collections import Counter\n",
    "from konlpy.tag import Okt\n",
    "\n",
    "okt=Okt()"
   ]
  },
  {
   "cell_type": "code",
   "execution_count": 13,
   "metadata": {},
   "outputs": [
    {
     "data": {
      "text/plain": [
       "['아', '휴', '아이구', '아이쿠', '아이고', '어', '나', '우리', '저희', '따라']"
      ]
     },
     "execution_count": 13,
     "metadata": {},
     "output_type": "execute_result"
    }
   ],
   "source": [
    "#한국어 불용어 사전 만들기\n",
    "\n",
    "korean_stopwords_list='한국어 불용어.txt'\n",
    "    \n",
    "#한국어 불용어 txt 오픈\n",
    "with open(korean_stopwords_list,encoding='utf-8') as f:\n",
    "    stopwords=f.readlines()\n",
    "\n",
    "stopwords=[x.strip() for x in stopwords]\n",
    "stopwords[:10]"
   ]
  },
  {
   "cell_type": "code",
   "execution_count": null,
   "metadata": {},
   "outputs": [],
   "source": [
    "#형태소 원형으로 바꾸어줌. \n",
    "\n",
    "def morph_stem(s):\n",
    "    word_list=okt.morphs(s,stem=True)\n",
    "    word_list=[word for word in word_list if word not in stopwords]\n",
    "    return ' '.join(word_list)"
   ]
  },
  {
   "cell_type": "code",
   "execution_count": null,
   "metadata": {},
   "outputs": [],
   "source": [
    "def morph_stem_test(s):\n",
    "    word_list=okt.pos(s,stem=True)\n",
    "    word_list=[word[0] for word in word_list if word[1] in ['Noun','Adjective','Verb','Punctuation']]\n",
    "    word_list=[word for word in word_list if word not in stopwords]\n",
    "    return ' '.join(word_list)\n",
    "    "
   ]
  },
  {
   "cell_type": "code",
   "execution_count": null,
   "metadata": {},
   "outputs": [],
   "source": [
    "bukchon['keyword_stem1']=bukchon['keyword'].apply(morph_stem_test)\n",
    "bukchon['keyword_stem']=bukchon['keyword'].apply(morph_stem)\n",
    "sinchon['keyword_stem1']=sinchon['keyword'].apply(morph_stem_test)\n",
    "sinchon['keyword_stem']=sinchon['keyword'].apply(morph_stem)\n",
    "seongsu['keyword_stem1']=seongsu['keyword'].apply(morph_stem_test)\n",
    "seongsu['keyword_stem']=seongsu['keyword'].apply(morph_stem)"
   ]
  },
  {
   "cell_type": "code",
   "execution_count": null,
   "metadata": {},
   "outputs": [],
   "source": [
    "seongsu.drop(['제거리뷰'], axis=1, inplace=True)\n",
    "bukchon.drop(['제거리뷰'], axis=1, inplace=True)\n",
    "sinchon.drop(['제거리뷰'], axis=1, inplace=True)"
   ]
  },
  {
   "cell_type": "code",
   "execution_count": null,
   "metadata": {},
   "outputs": [],
   "source": [
    "seongsu.to_csv('성수리뷰_키워드_전처리2.csv')\n",
    "sinchon.to_csv('신촌리뷰_키워드_전처리2.csv')\n",
    "bukchon.to_csv('북촌리뷰_키워드_전처리2.csv')"
   ]
  },
  {
   "cell_type": "code",
   "execution_count": null,
   "metadata": {},
   "outputs": [],
   "source": [
    "b1['keyword_stem']=b1['keyword'].apply(morph_stem)\n",
    "b2['keyword_stem']=b2['keyword'].apply(morph_stem)\n",
    "b3['keyword_stem']=b3['keyword'].apply(morph_stem)\n",
    "b4['keyword_stem']=b4['keyword'].apply(morph_stem)"
   ]
  },
  {
   "cell_type": "code",
   "execution_count": null,
   "metadata": {},
   "outputs": [],
   "source": [
    "s1['keyword_stem']=s1['keyword'].apply(morph_stem)\n",
    "s2['keyword_stem']=s2['keyword'].apply(morph_stem)\n",
    "s3['keyword_stem']=s3['keyword'].apply(morph_stem)\n",
    "s4['keyword_stem']=s4['keyword'].apply(morph_stem)"
   ]
  },
  {
   "cell_type": "code",
   "execution_count": null,
   "metadata": {},
   "outputs": [],
   "source": [
    "sc1['keyword_sctem']=sc1['keyword'].apply(morph_stem)\n",
    "sc2['keyword_sctem']=sc2['keyword'].apply(morph_stem)\n",
    "sc3['keyword_sctem']=sc3['keyword'].apply(morph_stem)\n",
    "sc4['keyword_sctem']=sc4['keyword'].apply(morph_stem)"
   ]
  },
  {
   "attachments": {},
   "cell_type": "markdown",
   "metadata": {},
   "source": [
    "### 토큰화"
   ]
  },
  {
   "cell_type": "code",
   "execution_count": 26,
   "metadata": {},
   "outputs": [
    {
     "ename": "NameError",
     "evalue": "name 'List' is not defined",
     "output_type": "error",
     "traceback": [
      "\u001b[1;31m---------------------------------------------------------------------------\u001b[0m",
      "\u001b[1;31mNameError\u001b[0m                                 Traceback (most recent call last)",
      "Cell \u001b[1;32mIn[26], line 3\u001b[0m\n\u001b[0;32m      1\u001b[0m \u001b[39m#두글자씩 보기\u001b[39;00m\n\u001b[1;32m----> 3\u001b[0m \u001b[39mdef\u001b[39;00m \u001b[39mcount_words_two\u001b[39m(sentences: List[\u001b[39mstr\u001b[39m]) \u001b[39m-\u001b[39m\u001b[39m>\u001b[39m Counter:\n\u001b[0;32m      4\u001b[0m     word_list \u001b[39m=\u001b[39m [\u001b[39mlist\u001b[39m(\u001b[39mset\u001b[39m(sentence\u001b[39m.\u001b[39msplit(\u001b[39m'\u001b[39m\u001b[39m,\u001b[39m\u001b[39m'\u001b[39m))) \u001b[39mfor\u001b[39;00m sentence \u001b[39min\u001b[39;00m sentences]\u001b[39m#' , '\u001b[39;00m\n\u001b[0;32m      5\u001b[0m     \u001b[39m# word_list = [okt.morphs(sentence,stem=True) for sentence in sentences]#추가\u001b[39;00m\n",
      "\u001b[1;31mNameError\u001b[0m: name 'List' is not defined"
     ]
    }
   ],
   "source": [
    "#두글자씩 보기\n",
    "\n",
    "def count_words_two(sentences: List[str]) -> Counter:\n",
    "    word_list = [list(set(sentence.split(','))) for sentence in sentences]#' , '\n",
    "    # word_list = [okt.morphs(sentence,stem=True) for sentence in sentences]#추가\n",
    "    word_list = sorted(chain.from_iterable(word_list))\n",
    "    word_list = [re.sub('[^0-9ㄱ-ㅎㅏ-ㅣ가-힣]', ' ', word) for word in word_list]\n",
    "    word_list=[word for word in word_list if word not in stopwords]\n",
    "    return Counter(word_list)"
   ]
  },
  {
   "cell_type": "code",
   "execution_count": 27,
   "metadata": {},
   "outputs": [
    {
     "ename": "NameError",
     "evalue": "name 'List' is not defined",
     "output_type": "error",
     "traceback": [
      "\u001b[1;31m---------------------------------------------------------------------------\u001b[0m",
      "\u001b[1;31mNameError\u001b[0m                                 Traceback (most recent call last)",
      "Cell \u001b[1;32mIn[27], line 2\u001b[0m\n\u001b[0;32m      1\u001b[0m \u001b[39m#한글자씩 보기\u001b[39;00m\n\u001b[1;32m----> 2\u001b[0m \u001b[39mdef\u001b[39;00m \u001b[39mcount_words\u001b[39m(sentences: List[\u001b[39mstr\u001b[39m]) \u001b[39m-\u001b[39m\u001b[39m>\u001b[39m Counter:\n\u001b[0;32m      3\u001b[0m     word_list \u001b[39m=\u001b[39m [\u001b[39mlist\u001b[39m(\u001b[39mset\u001b[39m(sentence\u001b[39m.\u001b[39msplit(\u001b[39m'\u001b[39m\u001b[39m \u001b[39m\u001b[39m'\u001b[39m))) \u001b[39mfor\u001b[39;00m sentence \u001b[39min\u001b[39;00m sentences]\n\u001b[0;32m      4\u001b[0m     \u001b[39m#word_list = [okt.morphs(sentence,stem=True) for sentence in sentences]\u001b[39;00m\n",
      "\u001b[1;31mNameError\u001b[0m: name 'List' is not defined"
     ]
    }
   ],
   "source": [
    "#한글자씩 보기\n",
    "def count_words(sentences: List[str]) -> Counter:\n",
    "    word_list = [list(set(sentence.split(' '))) for sentence in sentences]\n",
    "    #word_list = [okt.morphs(sentence,stem=True) for sentence in sentences]\n",
    "    word_list = sorted(chain.from_iterable(word_list))\n",
    "    word_list = [re.sub('[^0-9ㄱ-ㅎㅏ-ㅣ가-힣]', '', word) for word in word_list]\n",
    "    word_list=[word for word in word_list if word not in stopwords]\n",
    "    return Counter(word_list)"
   ]
  },
  {
   "cell_type": "code",
   "execution_count": 152,
   "metadata": {},
   "outputs": [
    {
     "data": {
      "text/html": [
       "<div>\n",
       "<style scoped>\n",
       "    .dataframe tbody tr th:only-of-type {\n",
       "        vertical-align: middle;\n",
       "    }\n",
       "\n",
       "    .dataframe tbody tr th {\n",
       "        vertical-align: top;\n",
       "    }\n",
       "\n",
       "    .dataframe thead th {\n",
       "        text-align: right;\n",
       "    }\n",
       "</style>\n",
       "<table border=\"1\" class=\"dataframe\">\n",
       "  <thead>\n",
       "    <tr style=\"text-align: right;\">\n",
       "      <th></th>\n",
       "      <th>상가업소번호</th>\n",
       "      <th>가게명</th>\n",
       "      <th>리뷰</th>\n",
       "      <th>keyword</th>\n",
       "      <th>keyword_stem</th>\n",
       "      <th>분기</th>\n",
       "      <th>keyword_stem1</th>\n",
       "    </tr>\n",
       "  </thead>\n",
       "  <tbody>\n",
       "    <tr>\n",
       "      <th>3834</th>\n",
       "      <td>MA010120220800035353</td>\n",
       "      <td>RadioM 삼청점</td>\n",
       "      <td>굿</td>\n",
       "      <td>굿굿굿</td>\n",
       "      <td>굿굿굿</td>\n",
       "      <td>22_2</td>\n",
       "      <td>굿굿굿</td>\n",
       "    </tr>\n",
       "    <tr>\n",
       "      <th>4029</th>\n",
       "      <td>MA010120220800028746</td>\n",
       "      <td>파툼</td>\n",
       "      <td>옥상뷰가 정말 좋은 곳 입니다. 커피는 고소했고 케익도 나쁘지는 않았습니다</td>\n",
       "      <td>고소했고,고소했고 케익도,나쁘지는,나쁘지는 않았습니다,뷰가,뷰가 정말,않았습니다,옥...</td>\n",
       "      <td>고소하다,고소하다 케익,나쁘다,나쁘다 않다,뷰,뷰 정말,않다,옥상,옥상뷰 ' \\r\\...</td>\n",
       "      <td>22_2</td>\n",
       "      <td>고소하다, 고소하다 케익, 나쁘다, 나쁘다 않다 ,뷰 ,뷰 정말, 않다, 옥상, 옥...</td>\n",
       "    </tr>\n",
       "    <tr>\n",
       "      <th>7164</th>\n",
       "      <td>1108</td>\n",
       "      <td>월영당 서울</td>\n",
       "      <td>맛있는데 의자가 불편하고 가격도 사악한 편..</td>\n",
       "      <td>가격도,가격도 사악한,맛있는데,맛있는데 의자가,불편하고,불편하고 가격도,사악한,의자...</td>\n",
       "      <td>가격,가격 사악하다,맛있다,맛있다  의자,불편하다,불편하다 가격,사악하다,의자 ' ...</td>\n",
       "      <td>22_2</td>\n",
       "      <td>가격, 가격 사악하다, 맛있다 , 맛있다  의자, 불편하다, 불편하다 가격, 사악하...</td>\n",
       "    </tr>\n",
       "    <tr>\n",
       "      <th>6840</th>\n",
       "      <td>MA010120220805346843</td>\n",
       "      <td>달별</td>\n",
       "      <td>아이스크림 맛있어요</td>\n",
       "      <td>맛있어요,아이스크림,아이스크림 맛있어요</td>\n",
       "      <td>맛있다,아이스크림,아이스크림 맛있다</td>\n",
       "      <td>22_2</td>\n",
       "      <td>맛있다 , 아이스크림, 아이스크림 맛있다</td>\n",
       "    </tr>\n",
       "    <tr>\n",
       "      <th>7731</th>\n",
       "      <td>1103</td>\n",
       "      <td>프릳츠  원서점</td>\n",
       "      <td>프릳츠 는 사실 어느 지점이든 다 좋은데, 비 오는 평일 한적한 원서점은 특히 더 ...</td>\n",
       "      <td>도나스도,도나스도 맛있고,맛있고,맛있고 직원분들도,사실,사실 어느,어느,어느 지점이...</td>\n",
       "      <td>나스,나스 맛있다,맛있다,맛있다  직원분들,사실,사실,,지점 이든,오다 ' \\r\\n...</td>\n",
       "      <td>22_2</td>\n",
       "      <td>나스, 나스 맛있다 , 맛있다 , 맛있다  직원, 사실, 사실, , 지점, 오다 '...</td>\n",
       "    </tr>\n",
       "  </tbody>\n",
       "</table>\n",
       "</div>"
      ],
      "text/plain": [
       "                    상가업소번호         가게명  \\\n",
       "3834  MA010120220800035353  RadioM 삼청점   \n",
       "4029  MA010120220800028746          파툼   \n",
       "7164                  1108      월영당 서울   \n",
       "6840  MA010120220805346843          달별   \n",
       "7731                  1103    프릳츠  원서점   \n",
       "\n",
       "                                                     리뷰  \\\n",
       "3834                                                  굿   \n",
       "4029          옥상뷰가 정말 좋은 곳 입니다. 커피는 고소했고 케익도 나쁘지는 않았습니다   \n",
       "7164                          맛있는데 의자가 불편하고 가격도 사악한 편..   \n",
       "6840                                         아이스크림 맛있어요   \n",
       "7731  프릳츠 는 사실 어느 지점이든 다 좋은데, 비 오는 평일 한적한 원서점은 특히 더 ...   \n",
       "\n",
       "                                                keyword  \\\n",
       "3834                                                굿굿굿   \n",
       "4029  고소했고,고소했고 케익도,나쁘지는,나쁘지는 않았습니다,뷰가,뷰가 정말,않았습니다,옥...   \n",
       "7164  가격도,가격도 사악한,맛있는데,맛있는데 의자가,불편하고,불편하고 가격도,사악한,의자...   \n",
       "6840                              맛있어요,아이스크림,아이스크림 맛있어요   \n",
       "7731  도나스도,도나스도 맛있고,맛있고,맛있고 직원분들도,사실,사실 어느,어느,어느 지점이...   \n",
       "\n",
       "                                           keyword_stem    분기  \\\n",
       "3834                                                굿굿굿  22_2   \n",
       "4029  고소하다,고소하다 케익,나쁘다,나쁘다 않다,뷰,뷰 정말,않다,옥상,옥상뷰 ' \\r\\...  22_2   \n",
       "7164  가격,가격 사악하다,맛있다,맛있다  의자,불편하다,불편하다 가격,사악하다,의자 ' ...  22_2   \n",
       "6840                               맛있다,아이스크림,아이스크림 맛있다   22_2   \n",
       "7731  나스,나스 맛있다,맛있다,맛있다  직원분들,사실,사실,,지점 이든,오다 ' \\r\\n...  22_2   \n",
       "\n",
       "                                          keyword_stem1  \n",
       "3834                                                굿굿굿  \n",
       "4029  고소하다, 고소하다 케익, 나쁘다, 나쁘다 않다 ,뷰 ,뷰 정말, 않다, 옥상, 옥...  \n",
       "7164  가격, 가격 사악하다, 맛있다 , 맛있다  의자, 불편하다, 불편하다 가격, 사악하...  \n",
       "6840                            맛있다 , 아이스크림, 아이스크림 맛있다   \n",
       "7731  나스, 나스 맛있다 , 맛있다 , 맛있다  직원, 사실, 사실, , 지점, 오다 '...  "
      ]
     },
     "execution_count": 152,
     "metadata": {},
     "output_type": "execute_result"
    }
   ],
   "source": [
    "b2.sample(5)"
   ]
  },
  {
   "cell_type": "code",
   "execution_count": 153,
   "metadata": {},
   "outputs": [
    {
     "data": {
      "text/html": [
       "<div>\n",
       "<style scoped>\n",
       "    .dataframe tbody tr th:only-of-type {\n",
       "        vertical-align: middle;\n",
       "    }\n",
       "\n",
       "    .dataframe tbody tr th {\n",
       "        vertical-align: top;\n",
       "    }\n",
       "\n",
       "    .dataframe thead th {\n",
       "        text-align: right;\n",
       "    }\n",
       "</style>\n",
       "<table border=\"1\" class=\"dataframe\">\n",
       "  <thead>\n",
       "    <tr style=\"text-align: right;\">\n",
       "      <th></th>\n",
       "      <th>상가업소번호</th>\n",
       "      <th>가게명</th>\n",
       "      <th>리뷰</th>\n",
       "      <th>keyword</th>\n",
       "      <th>keyword_stem</th>\n",
       "      <th>분기</th>\n",
       "      <th>keyword_stem1</th>\n",
       "    </tr>\n",
       "  </thead>\n",
       "  <tbody>\n",
       "    <tr>\n",
       "      <th>0</th>\n",
       "      <td>MA010120220806167899</td>\n",
       "      <td>네마커피 삼청점</td>\n",
       "      <td>좋아요</td>\n",
       "      <td>좋아요</td>\n",
       "      <td>좋다</td>\n",
       "      <td>22_2</td>\n",
       "      <td>좋다</td>\n",
       "    </tr>\n",
       "    <tr>\n",
       "      <th>1</th>\n",
       "      <td>MA010120220806167899</td>\n",
       "      <td>네마커피 삼청점</td>\n",
       "      <td>인테리어도 예쁘고 맛도 있는데 스태프의 친절까지 겸비한 정말 완벽한 한옥카페. 나도...</td>\n",
       "      <td>가지게,가지게 하는,개발한,개발한 대체,건강,건강 음료,겸비한,겸비한 정말,공간의,...</td>\n",
       "      <td>가지 게,가지 게,개발 한,개발 한 대체,건강,건강 음료,겸비 한,겸비 한 정말,공...</td>\n",
       "      <td>22_2</td>\n",
       "      <td>가지 ,가지 ,개발 ,개발 대체, 건강, 건강 음료, 겸비, 겸비 정말, 공간, 공...</td>\n",
       "    </tr>\n",
       "    <tr>\n",
       "      <th>2</th>\n",
       "      <td>MA010120220806167899</td>\n",
       "      <td>네마커피 삼청점</td>\n",
       "      <td>시원하고뷰도 좋고 친절하시구 :) 좋아요</td>\n",
       "      <td>뷰도,뷰도 좋고,시원하고,시원하고뷰도,좋고,좋고 친절하시구,좋아요,친절하시구,친절하...</td>\n",
       "      <td>뷰,뷰 좋다,시원하다,시원하다뷰,좋다,좋다 친절하다,좋다,친절하다,친절하다 좋다</td>\n",
       "      <td>22_2</td>\n",
       "      <td>뷰 ,뷰 좋다, 시원하다, 시원하다뷰, 좋다, 좋다 친절하다, 좋다, 친절하다, 친...</td>\n",
       "    </tr>\n",
       "    <tr>\n",
       "      <th>3</th>\n",
       "      <td>MA010120220806167899</td>\n",
       "      <td>네마커피 삼청점</td>\n",
       "      <td>좋아요</td>\n",
       "      <td>좋아요</td>\n",
       "      <td>좋다</td>\n",
       "      <td>22_2</td>\n",
       "      <td>좋다</td>\n",
       "    </tr>\n",
       "    <tr>\n",
       "      <th>4</th>\n",
       "      <td>MA010120220806167899</td>\n",
       "      <td>네마커피 삼청점</td>\n",
       "      <td>커피 맛있고뷰도 좋네요~^^ 조용하게 분위기 즐기기 좋아요 베리파이도 맛있네요 잘쉬...</td>\n",
       "      <td>맛있고,맛있고뷰도,맛있네요,맛있네요 잘쉬다갑니다,베리파이도,베리파이도 맛있네요,분위...</td>\n",
       "      <td>맛있다,맛있다 뷰,맛있다,맛있다  잘 쉬다 가다,베리 파이,베리 파이 맛있다,분위기...</td>\n",
       "      <td>22_2</td>\n",
       "      <td>맛있다 , 맛있다 뷰, 맛있다 , 맛있다  쉬다 가다, 베리 파이, 베리 파이 맛있...</td>\n",
       "    </tr>\n",
       "  </tbody>\n",
       "</table>\n",
       "</div>"
      ],
      "text/plain": [
       "                 상가업소번호       가게명  \\\n",
       "0  MA010120220806167899  네마커피 삼청점   \n",
       "1  MA010120220806167899  네마커피 삼청점   \n",
       "2  MA010120220806167899  네마커피 삼청점   \n",
       "3  MA010120220806167899  네마커피 삼청점   \n",
       "4  MA010120220806167899  네마커피 삼청점   \n",
       "\n",
       "                                                  리뷰  \\\n",
       "0                                                좋아요   \n",
       "1  인테리어도 예쁘고 맛도 있는데 스태프의 친절까지 겸비한 정말 완벽한 한옥카페. 나도...   \n",
       "2                             시원하고뷰도 좋고 친절하시구 :) 좋아요   \n",
       "3                                                좋아요   \n",
       "4  커피 맛있고뷰도 좋네요~^^ 조용하게 분위기 즐기기 좋아요 베리파이도 맛있네요 잘쉬...   \n",
       "\n",
       "                                             keyword  \\\n",
       "0                                                좋아요   \n",
       "1  가지게,가지게 하는,개발한,개발한 대체,건강,건강 음료,겸비한,겸비한 정말,공간의,...   \n",
       "2  뷰도,뷰도 좋고,시원하고,시원하고뷰도,좋고,좋고 친절하시구,좋아요,친절하시구,친절하...   \n",
       "3                                                좋아요   \n",
       "4  맛있고,맛있고뷰도,맛있네요,맛있네요 잘쉬다갑니다,베리파이도,베리파이도 맛있네요,분위...   \n",
       "\n",
       "                                        keyword_stem    분기  \\\n",
       "0                                                 좋다  22_2   \n",
       "1  가지 게,가지 게,개발 한,개발 한 대체,건강,건강 음료,겸비 한,겸비 한 정말,공...  22_2   \n",
       "2       뷰,뷰 좋다,시원하다,시원하다뷰,좋다,좋다 친절하다,좋다,친절하다,친절하다 좋다  22_2   \n",
       "3                                                 좋다  22_2   \n",
       "4  맛있다,맛있다 뷰,맛있다,맛있다  잘 쉬다 가다,베리 파이,베리 파이 맛있다,분위기...  22_2   \n",
       "\n",
       "                                       keyword_stem1  \n",
       "0                                                 좋다  \n",
       "1  가지 ,가지 ,개발 ,개발 대체, 건강, 건강 음료, 겸비, 겸비 정말, 공간, 공...  \n",
       "2  뷰 ,뷰 좋다, 시원하다, 시원하다뷰, 좋다, 좋다 친절하다, 좋다, 친절하다, 친...  \n",
       "3                                                 좋다  \n",
       "4  맛있다 , 맛있다 뷰, 맛있다 , 맛있다  쉬다 가다, 베리 파이, 베리 파이 맛있...  "
      ]
     },
     "execution_count": 153,
     "metadata": {},
     "output_type": "execute_result"
    }
   ],
   "source": [
    "test=b2[b2['가게명']=='네마커피 삼청점']\n",
    "test=test.reset_index(drop=True)\n",
    "test.head()"
   ]
  },
  {
   "cell_type": "code",
   "execution_count": 161,
   "metadata": {},
   "outputs": [
    {
     "data": {
      "text/plain": [
       "['좋다',\n",
       " \"가지 게,가지 게,개발 한,개발 한 대체,건강,건강 음료,겸비 한,겸비 한 정말,공간,공간 주인 ' \\r\\n ' 기분,기분 좋다,꿈,꿈가지 게,나다,나다 저런,나다,대체,대체 건강,더욱,더욱 즐겁다 ' \\r\\n ' 덕,덕 더욱,동료,동료 위해,되다,되다 싶다,마디,마디 상냥하다,마시다 ' \\r\\n ' 마시다 동료,맛,맛,맛,맛있다 다,메뉴,메뉴 스토리텔링,보내다,보내다 ' \\r\\n ' 본격적,본격적 콜라,분,분 기분,상냥하다,상냥하다 덕,스태프,스태프 분,스태프 ' \\r\\n ' 스태프 친절,스탭,스탭 직접,스토리텔링,스토리텔링 완벽하다,,보내다,싶다 ' \\r\\n ' 싶다 꿈,아이스,아이스 음료 인데,에이 들다,에이 들다 콜라 맛,예쁘다,예쁘다 맛,완벽하다 ' \\r\\n ' 완벽하다 스태프,완벽하다 한옥카페,위해,위해 스탭,음료,음료 정말,음료 인데,음료 인데 지나치다,인사 ' \\r\\n ' 인사 마디,인테리어,예쁜 인테리어,일본어,일본어 인사,,스태프,' \\r\\n ' 캔디,저런,저런 공간,정말,정말 본격적,정말 완벽하다,좋다,좋다 일본어,좋다 카페 ' \\r\\n ' 주인,주인 되다,즐겁다,즐겁다,지나치다,지나치다 콜라,직접,직접개발 한,친절 ' \\r\\n ' 친절 겸비 한,카페,카페 흥미롭다,캔디,캔디 에이 들다,콜라,콜라 맛,콜라,콜라 마시다 ' \\r\\n ' 콜라 맛,콜라 맛 아이스,,기분,한옥카페,한옥카페 나다,흥미롭다,흥미롭다 메뉴\",\n",
       " '뷰,뷰 좋다,시원하다,시원하다뷰,좋다,좋다 친절하다,좋다,친절하다,친절하다 좋다',\n",
       " '좋다',\n",
       " \"맛있다,맛있다 뷰,맛있다,맛있다  잘 쉬다 가다,베리 파이,베리 파이 맛있다,분위기,분위기 즐기다 ' \\r\\n '뷰,뷰 좋다,잘 쉬다 가다,조용하다,조용하다 분위기,좋다,좋다 조용하다,좋다 ' \\r\\n ' 좋다 베리 파이,즐기다,즐기다 좋다,커피,맛있는 커피\",\n",
       " \"가격,가격 인상적 이에요,,메뉴,단골,단골 카페,말다,말다 싶다,만족,만족 단골 ' \\r\\n ' 메뉴,메뉴 말다,분위기,분위기 친절하다,삼청동,삼청동 처음,싶다,오다 보다,오다 보다 카페 ' \\r\\n ' 인상적 이에요,인상적 이에요 종합적,종합적,종합적 만족,처음,처음 오다 보다,추가 되다 ' \\r\\n ' 추가 되다,친절하다,친절하다 가격,카페,카페 분위기,카페 한개,한개,한개 추가 되다\",\n",
       " '굿굿굿',\n",
       " '굿굿굿',\n",
       " '맛있다 ',\n",
       " \"독특,독특 맘,들다,맘,맘 들다,뷰,뷰 좋다,좋다,좋다뷰,좋다 화장실,커피 맛 ' \\r\\n ' 커피 맛 좋다,화장실,화장실 독특\",\n",
       " \"가게,가게 아기자기,광합성,광합성 좋다,맛있다,맛있다  광합성,아기자기 ' \\r\\n ' 아기자기 예쁘다,예쁘다,예쁘다 커피,좋다,커피,맛있는 커피\",\n",
       " '맛,맛,,친절하다,친절하다',\n",
       " \"너무,너무 달 지,느껴지다,느껴지다 좋다,달 지,달지 않다,마시다,마시다 원두,맛있다  ' \\r\\n ' 맛있다  직원분들,사과파이,사과파이 너무,않다,않다 맛있다,여자 분,여자 분 친절하다,원두 ' \\r\\n ' 원두 풍 미가,좋다,좋다,좋다 사과파이,직원분들,친절한 직원분들,친절하다 ' \\r\\n ' 친절하다 좋다,친절하다,친절하다 특히,특히,특히 여자 분,풍 미가,풍 미가 느껴지다,플랫 화이트 ' \\r\\n ' 플랫 화이트 마시다\",\n",
       " '먹다',\n",
       " \"너무,너무 맛있다,두 마리,똥파리,똥파리 두 마리,맛있다,맛있다  매장,매장,매장 똥파리 ' \\r\\n ' 친절하다,친절하다 커피,커피,커피 너무\",\n",
       " \"금방,금방 녹다 건지다,깔끔하다,깔끔한 맛있다,날,날 덥다,녹다 건지다,녹다 건지다 쪼끔더,덥다 ' \\r\\n ' 덥다 얼음,맛있다,맛있다  날,분위기,분위기 조용하다,시원하다,시원하다 좋다,얼음 ' \\r\\n ' 얼음 금방,,카페 에요,조용하다,조용하다 커피 맛,좋다,좋다 분위기,즐기다 ' \\r\\n ' 즐기다,쪼끔더,쪼끔더 시원하다,카페 에요,커피 맛,커피 맛 즐기다,핸드 드립커피,핸드 드립커피 깔끔하다\",\n",
       " \"많다,많다 아메리카노,보다,보다 작고,비추다,사람,사람 많다,산미,산미 적당하다 깔끔하다 ' \\r\\n ' 생각,생각 보다,아메리카노,아메리카노 산미,에이 들다,에이 들다 비추다,작고,작고 사람,적당하다 깔끔하다 ' \\r\\n ' 적당하다 깔끔하다 에이 들다,카페,카페 생각\",\n",
       " '좋다',\n",
       " '창가 자리',\n",
       " '잘 먹다',\n",
       " \"라떼아트,라떼아트 예술 이고,맛있다 다,맛있다,맛있다  애플파이,애플파이,애플파이 맛있다 다 ' \\r\\n ' 예술 이고,예술 이고 커피,커피,맛있는 커피\",\n",
       " '맛있다,어렵다,어렵다 커피,찾기,찾기 어렵다,커피,커피 맛 요',\n",
       " \"디저트,디저트 먹다 보고,많다,많다 홀 에는,맛있다,맛있다 사람,먹다 보고,먹다 보고 싶다,사람 ' \\r\\n ' 사람 많다,싶다,,디저트,커피,커피 맛있다,홀 에는,홀 에는\"]"
      ]
     },
     "execution_count": 161,
     "metadata": {},
     "output_type": "execute_result"
    }
   ],
   "source": [
    "#keyword랑 keyword_stem 비교\n",
    "test_review=test['keyword_stem'].tolist()#tfidf로도\n",
    "test_review_two=test['keyword_stem'].tolist()\n",
    "\n",
    "test_review"
   ]
  },
  {
   "cell_type": "code",
   "execution_count": 162,
   "metadata": {},
   "outputs": [],
   "source": [
    "test_word_dict=count_words(test_review)\n",
    "test_word_dict_two=count_words_two(test_review_two)"
   ]
  },
  {
   "cell_type": "code",
   "execution_count": 163,
   "metadata": {},
   "outputs": [
    {
     "name": "stdout",
     "output_type": "stream",
     "text": [
      "139\n",
      "260\n"
     ]
    }
   ],
   "source": [
    "print(len(test_word_dict))\n",
    "print(len(test_word_dict_two))"
   ]
  },
  {
   "cell_type": "code",
   "execution_count": 164,
   "metadata": {},
   "outputs": [
    {
     "data": {
      "text/plain": [
       "[('', 356),\n",
       " ('좋다', 33),\n",
       " ('맛있다', 29),\n",
       " ('커피', 21),\n",
       " ('맛', 16),\n",
       " ('친절하다', 16),\n",
       " ('카페', 15),\n",
       " ('말다', 9),\n",
       " ('분위기', 9),\n",
       " ('뷰', 9),\n",
       " ('적', 9),\n",
       " ('콜라', 9),\n",
       " ('들다', 8),\n",
       " ('싶다', 7),\n",
       " ('깔끔하다', 6),\n",
       " ('너무', 6),\n",
       " ('되다', 6),\n",
       " ('많다', 6),\n",
       " ('메뉴', 6),\n",
       " ('보다', 6),\n",
       " ('분', 6),\n",
       " ('사람', 6),\n",
       " ('스태프', 6),\n",
       " ('에이', 6),\n",
       " ('예쁘다', 6),\n",
       " ('음료', 6),\n",
       " ('조용하다', 6),\n",
       " ('즐기다', 6),\n",
       " ('다', 5),\n",
       " ('먹다', 5)]"
      ]
     },
     "execution_count": 164,
     "metadata": {},
     "output_type": "execute_result"
    }
   ],
   "source": [
    "dict=test_word_dict.most_common(30)\n",
    "dict"
   ]
  },
  {
   "cell_type": "code",
   "execution_count": 165,
   "metadata": {},
   "outputs": [
    {
     "data": {
      "text/plain": [
       "[('좋다', 10),\n",
       " ('맛있다', 7),\n",
       " ('커피', 6),\n",
       " ('', 5),\n",
       " ('친절하다', 4),\n",
       " ('맛있는 커피', 3),\n",
       " ('분위기', 3),\n",
       " ('뷰 좋다', 3),\n",
       " ('카페', 3),\n",
       " ('굿굿굿', 2),\n",
       " ('너무', 2),\n",
       " ('많다', 2),\n",
       " ('맛', 2),\n",
       " ('맛있다 다', 2),\n",
       " ('메뉴', 2),\n",
       " ('뷰', 2),\n",
       " ('시원하다', 2),\n",
       " ('싶다', 2),\n",
       " ('에이 들다', 2),\n",
       " ('예쁘다', 2),\n",
       " ('조용하다', 2),\n",
       " ('       캔디', 1),\n",
       " ('가게', 1),\n",
       " ('가게 아기자기', 1),\n",
       " ('가격', 1),\n",
       " ('가격 인상적 이에요', 1),\n",
       " ('가지 게', 1),\n",
       " ('개발 한', 1),\n",
       " ('개발 한 대체', 1),\n",
       " ('건강', 1)]"
      ]
     },
     "execution_count": 165,
     "metadata": {},
     "output_type": "execute_result"
    }
   ],
   "source": [
    "test_word_dict_two.most_common(30)"
   ]
  },
  {
   "cell_type": "code",
   "execution_count": 123,
   "metadata": {},
   "outputs": [
    {
     "data": {
      "text/plain": [
       "[('다', 5),\n",
       " ('먹다', 5),\n",
       " ('깔끔하다', 6),\n",
       " ('너무', 6),\n",
       " ('되다', 6),\n",
       " ('많다', 6),\n",
       " ('메뉴', 6),\n",
       " ('보다', 6),\n",
       " ('분', 6),\n",
       " ('사람', 6),\n",
       " ('스태프', 6),\n",
       " ('에이', 6),\n",
       " ('예쁘다', 6),\n",
       " ('음료', 6),\n",
       " ('조용하다', 6),\n",
       " ('즐기다', 6),\n",
       " ('싶다', 7),\n",
       " ('들다', 8),\n",
       " ('말다', 9),\n",
       " ('분위기', 9),\n",
       " ('뷰', 9),\n",
       " ('적', 9),\n",
       " ('콜라', 9),\n",
       " ('카페', 15),\n",
       " ('맛', 16),\n",
       " ('친절하다', 16),\n",
       " ('커피', 21),\n",
       " ('맛있다', 29),\n",
       " ('좋다', 33),\n",
       " ('', 356)]"
      ]
     },
     "execution_count": 123,
     "metadata": {},
     "output_type": "execute_result"
    }
   ],
   "source": [
    "#내림차순\n",
    "sorted_result=sorted(dict,key=lambda x:x[1])\n",
    "sorted_result"
   ]
  },
  {
   "attachments": {},
   "cell_type": "markdown",
   "metadata": {},
   "source": [
    "### 가게별 키워드 한 행에 정리"
   ]
  },
  {
   "cell_type": "code",
   "execution_count": 229,
   "metadata": {},
   "outputs": [],
   "source": [
    "def word_one(df):\n",
    "\n",
    "    shop_name_list=[]\n",
    "    shop_num_list=[]\n",
    "    keyword1_list=[]\n",
    "    keyword2_list=[]\n",
    "\n",
    "    df_list=df['가게명'].value_counts().index#가게리스트\n",
    "\n",
    "    for i in range(len(df_list)):\n",
    "        shop_name=df_list[i]\n",
    "        shop_name_list.append(shop_name)#가게명\n",
    "\n",
    "        test=df[df['가게명']==shop_name]\n",
    "        test=test.reset_index(drop=True)#가게 데이터만 떼와서 리셋\n",
    "\n",
    "        shop_num=test['상가업소번호'][0]#상가업소번호 저장\n",
    "        shop_num_list.append(shop_num)\n",
    "\n",
    "        test_review=test['keyword_stem'].tolist()\n",
    "        test_review_two=test['keyword_stem'].tolist()\n",
    "\n",
    "        test_word_dict=count_words(test_review)\n",
    "        test_word_dict_two=count_words_two(test_review_two)\n",
    "\n",
    "        dict=test_word_dict.most_common(50)\n",
    "        dict_two=test_word_dict_two.most_common(50)\n",
    "\n",
    "        keyword1_list.append(dict)\n",
    "        keyword2_list.append(dict_two)\n",
    "\n",
    "    shop_keyword=pd.DataFrame({'상가업소번호':shop_num_list,\n",
    "                                '가게명':shop_name_list,\n",
    "                                'keyword30_1':keyword1_list,\n",
    "                                'keyword30_2':keyword2_list})\n",
    "        \n",
    "    return shop_keyword\n",
    "\n",
    "        \n",
    "        \n",
    "\n",
    "\n",
    "\n"
   ]
  },
  {
   "cell_type": "code",
   "execution_count": 230,
   "metadata": {},
   "outputs": [],
   "source": [
    "bk1=word_one(b1)\n",
    "bk2=word_one(b2)\n",
    "bk3=word_one(b3)\n",
    "bk4=word_one(b4)\n"
   ]
  },
  {
   "cell_type": "code",
   "execution_count": 231,
   "metadata": {},
   "outputs": [],
   "source": [
    "sk1=word_one(s1)\n",
    "sk2=word_one(s2)\n",
    "sk3=word_one(s3)\n",
    "sk4=word_one(s4)\n"
   ]
  },
  {
   "cell_type": "code",
   "execution_count": 232,
   "metadata": {},
   "outputs": [],
   "source": [
    "sck1=word_one(sc1)\n",
    "sck2=word_one(sc2)\n",
    "sck3=word_one(sc3)\n",
    "sck4=word_one(sc4)\n"
   ]
  },
  {
   "cell_type": "code",
   "execution_count": 233,
   "metadata": {},
   "outputs": [],
   "source": [
    "bk1.to_csv('가게별 키워드리스트/북촌_23년1분기_가게별키워드.csv',index=False)\n",
    "bk2.to_csv('가게별 키워드리스트/북촌_22년2분기_가게별키워드.csv',index=False)\n",
    "bk3.to_csv('가게별 키워드리스트/북촌_22년3분기_가게별키워드.csv',index=False)\n",
    "bk4.to_csv('가게별 키워드리스트/북촌_22년4분기_가게별키워드.csv',index=False)"
   ]
  },
  {
   "cell_type": "code",
   "execution_count": 234,
   "metadata": {},
   "outputs": [],
   "source": [
    "sk1.to_csv('가게별 키워드리스트/성수_23년1분기_가게별키워드.csv',index=False)\n",
    "sk2.to_csv('가게별 키워드리스트/성수_22년2분기_가게별키워드.csv',index=False)\n",
    "sk3.to_csv('가게별 키워드리스트/성수_22년3분기_가게별키워드.csv',index=False)\n",
    "sk4.to_csv('가게별 키워드리스트/성수_22년4분기_가게별키워드.csv',index=False)"
   ]
  },
  {
   "cell_type": "code",
   "execution_count": 235,
   "metadata": {},
   "outputs": [],
   "source": [
    "sck1.to_csv('가게별 키워드리스트/신촌_23년1분기_가게별키워드.csv',index=False)\n",
    "sck2.to_csv('가게별 키워드리스트/신촌_22년2분기_가게별키워드.csv',index=False)\n",
    "sck3.to_csv('가게별 키워드리스트/신촌_22년3분기_가게별키워드.csv',index=False)\n",
    "sck4.to_csv('가게별 키워드리스트/신촌_22년4분기_가게별키워드.csv',index=False)"
   ]
  },
  {
   "cell_type": "code",
   "execution_count": 236,
   "metadata": {},
   "outputs": [
    {
     "data": {
      "text/html": [
       "<div>\n",
       "<style scoped>\n",
       "    .dataframe tbody tr th:only-of-type {\n",
       "        vertical-align: middle;\n",
       "    }\n",
       "\n",
       "    .dataframe tbody tr th {\n",
       "        vertical-align: top;\n",
       "    }\n",
       "\n",
       "    .dataframe thead th {\n",
       "        text-align: right;\n",
       "    }\n",
       "</style>\n",
       "<table border=\"1\" class=\"dataframe\">\n",
       "  <thead>\n",
       "    <tr style=\"text-align: right;\">\n",
       "      <th></th>\n",
       "      <th>상가업소번호</th>\n",
       "      <th>가게명</th>\n",
       "      <th>keyword30_1</th>\n",
       "      <th>keyword30_2</th>\n",
       "    </tr>\n",
       "  </thead>\n",
       "  <tbody>\n",
       "    <tr>\n",
       "      <th>0</th>\n",
       "      <td>1113</td>\n",
       "      <td>도토리가든</td>\n",
       "      <td>[(, 787), (좋다, 182), (맛있다, 165), (너무, 143), (귀...</td>\n",
       "      <td>[( 맛있다 , 112), ( , 100), ( 좋다, 82), ( 너무, 51),...</td>\n",
       "    </tr>\n",
       "    <tr>\n",
       "      <th>1</th>\n",
       "      <td>1109</td>\n",
       "      <td>어니언안국</td>\n",
       "      <td>[(, 460), (좋다, 132), (많다, 106), (맛있다, 101), (커...</td>\n",
       "      <td>[( , 57), ( 좋다, 50), ( 맛있다 , 47), (빵 , 40), ( ...</td>\n",
       "    </tr>\n",
       "    <tr>\n",
       "      <th>2</th>\n",
       "      <td>1104</td>\n",
       "      <td>오설록티 하우스 북촌점</td>\n",
       "      <td>[(, 311), (좋다, 151), (너무, 69), (맛있다, 56), (오설록...</td>\n",
       "      <td>[( 좋다, 60), ( , 50), ( 맛있다 , 37), ( 대체 리뷰, 20)...</td>\n",
       "    </tr>\n",
       "    <tr>\n",
       "      <th>3</th>\n",
       "      <td>MA010120220810377480</td>\n",
       "      <td>진작카키</td>\n",
       "      <td>[(, 442), (좋다, 133), (맛있다, 107), (분위기, 93), (너...</td>\n",
       "      <td>[( 맛있다 , 68), ( 좋다, 57), ( , 43), ( 분위기, 37), ...</td>\n",
       "    </tr>\n",
       "    <tr>\n",
       "      <th>4</th>\n",
       "      <td>1115</td>\n",
       "      <td>블루보틀 삼청 카페</td>\n",
       "      <td>[(, 273), (좋다, 78), (커피, 78), (맛있다, 53), (대체, ...</td>\n",
       "      <td>[( , 32), ( 맛있다 , 30), ( 좋다, 30), ( 커피, 28), (...</td>\n",
       "    </tr>\n",
       "  </tbody>\n",
       "</table>\n",
       "</div>"
      ],
      "text/plain": [
       "                 상가업소번호           가게명  \\\n",
       "0                  1113         도토리가든   \n",
       "1                  1109         어니언안국   \n",
       "2                  1104  오설록티 하우스 북촌점   \n",
       "3  MA010120220810377480          진작카키   \n",
       "4                  1115    블루보틀 삼청 카페   \n",
       "\n",
       "                                         keyword30_1  \\\n",
       "0  [(, 787), (좋다, 182), (맛있다, 165), (너무, 143), (귀...   \n",
       "1  [(, 460), (좋다, 132), (많다, 106), (맛있다, 101), (커...   \n",
       "2  [(, 311), (좋다, 151), (너무, 69), (맛있다, 56), (오설록...   \n",
       "3  [(, 442), (좋다, 133), (맛있다, 107), (분위기, 93), (너...   \n",
       "4  [(, 273), (좋다, 78), (커피, 78), (맛있다, 53), (대체, ...   \n",
       "\n",
       "                                         keyword30_2  \n",
       "0  [( 맛있다 , 112), ( , 100), ( 좋다, 82), ( 너무, 51),...  \n",
       "1  [( , 57), ( 좋다, 50), ( 맛있다 , 47), (빵 , 40), ( ...  \n",
       "2  [( 좋다, 60), ( , 50), ( 맛있다 , 37), ( 대체 리뷰, 20)...  \n",
       "3  [( 맛있다 , 68), ( 좋다, 57), ( , 43), ( 분위기, 37), ...  \n",
       "4  [( , 32), ( 맛있다 , 30), ( 좋다, 30), ( 커피, 28), (...  "
      ]
     },
     "execution_count": 236,
     "metadata": {},
     "output_type": "execute_result"
    }
   ],
   "source": [
    "bk1.head()"
   ]
  },
  {
   "cell_type": "code",
   "execution_count": 237,
   "metadata": {},
   "outputs": [
    {
     "data": {
      "text/plain": [
       "[('', 787),\n",
       " ('좋다', 182),\n",
       " ('맛있다', 165),\n",
       " ('너무', 143),\n",
       " ('귀엽다', 134),\n",
       " ('도토리', 134),\n",
       " ('요거트', 122),\n",
       " ('인테리어', 101),\n",
       " ('마들렌', 98),\n",
       " ('보다', 85),\n",
       " ('많다', 84),\n",
       " ('분위기', 83),\n",
       " ('카페', 80),\n",
       " ('디저트', 77),\n",
       " ('먹다', 74),\n",
       " ('예쁘다', 74),\n",
       " ('빵', 73),\n",
       " ('맛', 63),\n",
       " ('까눌레', 53),\n",
       " ('오다', 53),\n",
       " ('웨이팅', 53),\n",
       " ('음료', 52),\n",
       " ('가다', 51),\n",
       " ('한', 51),\n",
       " ('진짜', 50),\n",
       " ('방문', 45),\n",
       " ('곳', 44),\n",
       " ('브런치', 41),\n",
       " ('가든', 40),\n",
       " ('아기자기하다', 40),\n",
       " ('그릭', 39),\n",
       " ('들어가다', 39),\n",
       " ('정말', 39),\n",
       " ('커피', 39),\n",
       " ('모양', 38),\n",
       " ('자리', 38),\n",
       " ('없다', 37),\n",
       " ('지브리', 35),\n",
       " ('들다', 34),\n",
       " ('비싸다', 34),\n",
       " ('소금빵', 34),\n",
       " ('친절하다', 34),\n",
       " ('그렇다', 33),\n",
       " ('종류', 33),\n",
       " ('다', 32),\n",
       " ('리뷰', 32),\n",
       " ('나오다', 30),\n",
       " ('대체', 30),\n",
       " ('이라', 30),\n",
       " ('느낌', 29)]"
      ]
     },
     "execution_count": 237,
     "metadata": {},
     "output_type": "execute_result"
    }
   ],
   "source": [
    "bk1['keyword30_1'][0]"
   ]
  },
  {
   "attachments": {},
   "cell_type": "markdown",
   "metadata": {},
   "source": [
    "### 가게별 키워드, 갯수 정리"
   ]
  },
  {
   "cell_type": "code",
   "execution_count": 188,
   "metadata": {},
   "outputs": [
    {
     "data": {
      "text/html": [
       "<div>\n",
       "<style scoped>\n",
       "    .dataframe tbody tr th:only-of-type {\n",
       "        vertical-align: middle;\n",
       "    }\n",
       "\n",
       "    .dataframe tbody tr th {\n",
       "        vertical-align: top;\n",
       "    }\n",
       "\n",
       "    .dataframe thead th {\n",
       "        text-align: right;\n",
       "    }\n",
       "</style>\n",
       "<table border=\"1\" class=\"dataframe\">\n",
       "  <thead>\n",
       "    <tr style=\"text-align: right;\">\n",
       "      <th></th>\n",
       "      <th>상가업소번호</th>\n",
       "      <th>가게명</th>\n",
       "      <th>키워드</th>\n",
       "      <th>갯수</th>\n",
       "    </tr>\n",
       "  </thead>\n",
       "  <tbody>\n",
       "    <tr>\n",
       "      <th>0</th>\n",
       "      <td>1113</td>\n",
       "      <td>도토리가든</td>\n",
       "      <td></td>\n",
       "      <td>8759</td>\n",
       "    </tr>\n",
       "    <tr>\n",
       "      <th>1</th>\n",
       "      <td>1113</td>\n",
       "      <td>도토리가든</td>\n",
       "      <td>맛있다</td>\n",
       "      <td>538</td>\n",
       "    </tr>\n",
       "    <tr>\n",
       "      <th>2</th>\n",
       "      <td>1113</td>\n",
       "      <td>도토리가든</td>\n",
       "      <td>좋다</td>\n",
       "      <td>360</td>\n",
       "    </tr>\n",
       "    <tr>\n",
       "      <th>3</th>\n",
       "      <td>1113</td>\n",
       "      <td>도토리가든</td>\n",
       "      <td>도토리</td>\n",
       "      <td>335</td>\n",
       "    </tr>\n",
       "    <tr>\n",
       "      <th>4</th>\n",
       "      <td>1113</td>\n",
       "      <td>도토리가든</td>\n",
       "      <td>빵</td>\n",
       "      <td>311</td>\n",
       "    </tr>\n",
       "  </tbody>\n",
       "</table>\n",
       "</div>"
      ],
      "text/plain": [
       "  상가업소번호    가게명  키워드    갯수\n",
       "0   1113  도토리가든       8759\n",
       "1   1113  도토리가든  맛있다   538\n",
       "2   1113  도토리가든   좋다   360\n",
       "3   1113  도토리가든  도토리   335\n",
       "4   1113  도토리가든    빵   311"
      ]
     },
     "execution_count": 188,
     "metadata": {},
     "output_type": "execute_result"
    }
   ],
   "source": [
    "import pandas as pd\n",
    "\n",
    "\n",
    "# 분리된 리뷰를 담을 새로운 데이터프레임 생성\n",
    "new_rows = []\n",
    "\n",
    "# 데이터프레임 순회\n",
    "for index, row in bk1.iterrows():\n",
    "    for review in row['keyword30_1']:\n",
    "        keyword = review[0]\n",
    "        count = review[1]\n",
    "        new_row = {'상가업소번호': row['상가업소번호'],\n",
    "                   '가게명': row['가게명'],\n",
    "                   '키워드': keyword,\n",
    "                   '갯수': count}\n",
    "        new_rows.append(new_row)\n",
    "\n",
    "# 새로운 데이터프레임 생성\n",
    "new_df = pd.DataFrame(new_rows)\n",
    "\n",
    "# 결과 출력\n",
    "new_df.head()"
   ]
  },
  {
   "cell_type": "code",
   "execution_count": 238,
   "metadata": {},
   "outputs": [],
   "source": [
    "#함수화\n",
    "\n",
    "def keyword_count(df):\n",
    "    # 분리된 리뷰를 담을 새로운 데이터프레임 생성\n",
    "    new_rows = []\n",
    "\n",
    "    # 데이터프레임 순회\n",
    "    for index, row in df.iterrows():\n",
    "        for review in row['keyword30_1']:\n",
    "            keyword = review[0]\n",
    "            count = review[1]\n",
    "            new_row = {'상가업소번호': row['상가업소번호'],\n",
    "                       '가게명': row['가게명'],\n",
    "                       '키워드': keyword,\n",
    "                       '갯수': count}\n",
    "            new_rows.append(new_row)\n",
    "\n",
    "    # 새로운 데이터프레임 생성\n",
    "    new_df = pd.DataFrame(new_rows)\n",
    "\n",
    "    # 결과 출력\n",
    "    return new_df"
   ]
  },
  {
   "cell_type": "code",
   "execution_count": 214,
   "metadata": {},
   "outputs": [],
   "source": [
    "#함수화\n",
    "\n",
    "def keyword_count2(df):\n",
    "    # 분리된 리뷰를 담을 새로운 데이터프레임 생성\n",
    "    new_rows = []\n",
    "\n",
    "    # 데이터프레임 순회\n",
    "    for index, row in df.iterrows():\n",
    "        for review in row['keyword30_2']:\n",
    "            keyword = review[0]\n",
    "            count = review[1]\n",
    "            new_row = {'상가업소번호': row['상가업소번호'],\n",
    "                       '가게명': row['가게명'],\n",
    "                       '키워드': keyword,\n",
    "                       '갯수': count}\n",
    "            new_rows.append(new_row)\n",
    "\n",
    "    # 새로운 데이터프레임 생성\n",
    "    new_df = pd.DataFrame(new_rows)\n",
    "\n",
    "    # 결과 출력\n",
    "    return new_df"
   ]
  },
  {
   "cell_type": "code",
   "execution_count": 239,
   "metadata": {},
   "outputs": [],
   "source": [
    "bkc1=keyword_count(bk1)\n",
    "bkc2=keyword_count(bk2)\n",
    "bkc3=keyword_count(bk3)\n",
    "bkc4=keyword_count(bk4)"
   ]
  },
  {
   "cell_type": "code",
   "execution_count": 240,
   "metadata": {},
   "outputs": [],
   "source": [
    "skc1=keyword_count(sk1)\n",
    "skc2=keyword_count(sk2)\n",
    "skc3=keyword_count(sk3)\n",
    "skc4=keyword_count(sk4)"
   ]
  },
  {
   "cell_type": "code",
   "execution_count": 241,
   "metadata": {},
   "outputs": [],
   "source": [
    "sckc1=keyword_count(sck1)\n",
    "sckc2=keyword_count(sck2)\n",
    "sckc3=keyword_count(sck3)\n",
    "sckc4=keyword_count(sck4)"
   ]
  },
  {
   "cell_type": "code",
   "execution_count": 215,
   "metadata": {},
   "outputs": [],
   "source": [
    "bkc1=keyword_count2(bk1)\n",
    "bkc2=keyword_count2(bk2)\n",
    "bkc3=keyword_count2(bk3)\n",
    "bkc4=keyword_count2(bk4)\n",
    "\n",
    "skc1=keyword_count2(sk1)\n",
    "skc2=keyword_count2(sk2)\n",
    "skc3=keyword_count2(sk3)\n",
    "skc4=keyword_count2(sk4)\n",
    "\n",
    "sckc1=keyword_count2(sck1)\n",
    "sckc2=keyword_count2(sck2)\n",
    "sckc3=keyword_count2(sck3)\n",
    "sckc4=keyword_count2(sck4)"
   ]
  },
  {
   "cell_type": "code",
   "execution_count": 242,
   "metadata": {},
   "outputs": [],
   "source": [
    "bkc1.to_csv('가게별 키워드 개수/북촌_23년1분기_가게별_키워드갯수.csv',index=False)\n",
    "bkc2.to_csv('가게별 키워드 개수/북촌_22년2분기_가게별_키워드갯수.csv',index=False)\n",
    "bkc3.to_csv('가게별 키워드 개수/북촌_22년3분기_가게별_키워드갯수.csv',index=False)\n",
    "bkc4.to_csv('가게별 키워드 개수/북촌_22년4분기_가게별_키워드갯수.csv',index=False)"
   ]
  },
  {
   "cell_type": "code",
   "execution_count": 243,
   "metadata": {},
   "outputs": [],
   "source": [
    "sckc1.to_csv('가게별 키워드 개수/신촌_23년1분기_가게별_키워드갯수.csv',index=False)\n",
    "sckc2.to_csv('가게별 키워드 개수/신촌_22년2분기_가게별_키워드갯수.csv',index=False)\n",
    "sckc3.to_csv('가게별 키워드 개수/신촌_22년3분기_가게별_키워드갯수.csv',index=False)\n",
    "sckc4.to_csv('가게별 키워드 개수/신촌_22년4분기_가게별_키워드갯수.csv',index=False)"
   ]
  },
  {
   "cell_type": "code",
   "execution_count": 244,
   "metadata": {},
   "outputs": [],
   "source": [
    "skc1.to_csv('가게별 키워드 개수/성수_23년1분기_가게별_키워드갯수.csv',index=False)\n",
    "skc2.to_csv('가게별 키워드 개수/성수_22년2분기_가게별_키워드갯수.csv',index=False)\n",
    "skc3.to_csv('가게별 키워드 개수/성수_22년3분기_가게별_키워드갯수.csv',index=False)\n",
    "skc4.to_csv('가게별 키워드 개수/성수_22년4분기_가게별_키워드갯수.csv',index=False)"
   ]
  },
  {
   "cell_type": "code",
   "execution_count": 180,
   "metadata": {},
   "outputs": [
    {
     "name": "stdout",
     "output_type": "stream",
     "text": [
      "                    상가업소번호         가게명 keyword30_1\n",
      "0                     1113       도토리가든    (, 8759)\n",
      "1                     1113       도토리가든  (맛있다, 538)\n",
      "2                     1113       도토리가든   (좋다, 360)\n",
      "3                     1113       도토리가든  (도토리, 335)\n",
      "4                     1113       도토리가든    (빵, 311)\n",
      "...                    ...         ...         ...\n",
      "9495  MA010120220810445689  이디야커피북촌마을점     (한잔, 3)\n",
      "9496  MA010120220810445689  이디야커피북촌마을점     (마을, 2)\n",
      "9497  MA010120220810445689  이디야커피북촌마을점     (북촌, 2)\n",
      "9498  MA010120220810445689  이디야커피북촌마을점     (웨이, 2)\n",
      "9499  MA010120220810445689  이디야커피북촌마을점      (팅, 2)\n",
      "\n",
      "[9500 rows x 3 columns]\n"
     ]
    }
   ],
   "source": [
    "''' \n",
    "\n",
    "import pandas as pd\n",
    "\n",
    "# 분리된 리뷰를 담을 새로운 데이터프레임 생성\n",
    "new_rows = []\n",
    "\n",
    "# 데이터프레임 순회\n",
    "for index, row in bk1.iterrows():\n",
    "    reviews=[]\n",
    "    for review in row['keyword30_1']:\n",
    "        reviews.append(review)  # 튜플 자체를 추가\n",
    "    for review in reviews:\n",
    "        new_row = {'상가업소번호':row['상가업소번호'],\n",
    "                   '가게명': row['가게명'],\n",
    "                   'keyword30_1': review}\n",
    "        new_rows.append(new_row)\n",
    "\n",
    "# 새로운 데이터프레임 생성\n",
    "new_df = pd.DataFrame(new_rows)\n",
    "\n",
    "# 결과 출력\n",
    "print(new_df)\n",
    "'''\n",
    "\n"
   ]
  },
  {
   "cell_type": "code",
   "execution_count": 185,
   "metadata": {},
   "outputs": [
    {
     "name": "stdout",
     "output_type": "stream",
     "text": [
      "                    상가업소번호         가게명  키워드    갯수\n",
      "0                     1113       도토리가든       8759\n",
      "1                     1113       도토리가든  맛있다   538\n",
      "2                     1113       도토리가든   좋다   360\n",
      "3                     1113       도토리가든  도토리   335\n",
      "4                     1113       도토리가든    빵   311\n",
      "...                    ...         ...  ...   ...\n",
      "9495  MA010120220810445689  이디야커피북촌마을점   한잔     3\n",
      "9496  MA010120220810445689  이디야커피북촌마을점   마을     2\n",
      "9497  MA010120220810445689  이디야커피북촌마을점   북촌     2\n",
      "9498  MA010120220810445689  이디야커피북촌마을점   웨이     2\n",
      "9499  MA010120220810445689  이디야커피북촌마을점    팅     2\n",
      "\n",
      "[9500 rows x 4 columns]\n"
     ]
    }
   ],
   "source": [
    "\"\"\"\n",
    "import pandas as pd\n",
    "\n",
    "# 분리된 리뷰를 담을 새로운 데이터프레임 생성\n",
    "new_rows = []\n",
    "\n",
    "# 데이터프레임 순회\n",
    "for index, row in bk1.iterrows():\n",
    "    for review in row['keyword30_1']:\n",
    "        keyword = review[0]\n",
    "        count = review[1]\n",
    "        new_row = {'상가업소번호': row['상가업소번호'],\n",
    "                   '가게명': row['가게명'],\n",
    "                   '키워드': keyword,\n",
    "                   '갯수': count}\n",
    "        new_rows.append(new_row)\n",
    "\n",
    "# 새로운 데이터프레임 생성\n",
    "new_df = pd.DataFrame(new_rows)\n",
    "\n",
    "# 결과 출력\n",
    "print(new_df)\n",
    "\"\"\"\n",
    "\n"
   ]
  },
  {
   "cell_type": "code",
   "execution_count": 212,
   "metadata": {},
   "outputs": [
    {
     "data": {
      "text/html": [
       "<div>\n",
       "<style scoped>\n",
       "    .dataframe tbody tr th:only-of-type {\n",
       "        vertical-align: middle;\n",
       "    }\n",
       "\n",
       "    .dataframe tbody tr th {\n",
       "        vertical-align: top;\n",
       "    }\n",
       "\n",
       "    .dataframe thead th {\n",
       "        text-align: right;\n",
       "    }\n",
       "</style>\n",
       "<table border=\"1\" class=\"dataframe\">\n",
       "  <thead>\n",
       "    <tr style=\"text-align: right;\">\n",
       "      <th></th>\n",
       "      <th>상가업소번호</th>\n",
       "      <th>가게명</th>\n",
       "      <th>키워드</th>\n",
       "      <th>갯수</th>\n",
       "    </tr>\n",
       "  </thead>\n",
       "  <tbody>\n",
       "    <tr>\n",
       "      <th>0</th>\n",
       "      <td>MA010120220809778726</td>\n",
       "      <td>노가리마켓 서울숲</td>\n",
       "      <td></td>\n",
       "      <td>2077</td>\n",
       "    </tr>\n",
       "    <tr>\n",
       "      <th>1</th>\n",
       "      <td>MA010120220809778726</td>\n",
       "      <td>노가리마켓 서울숲</td>\n",
       "      <td>맛있다</td>\n",
       "      <td>610</td>\n",
       "    </tr>\n",
       "    <tr>\n",
       "      <th>2</th>\n",
       "      <td>MA010120220809778726</td>\n",
       "      <td>노가리마켓 서울숲</td>\n",
       "      <td>좋다</td>\n",
       "      <td>393</td>\n",
       "    </tr>\n",
       "    <tr>\n",
       "      <th>3</th>\n",
       "      <td>MA010120220809778726</td>\n",
       "      <td>노가리마켓 서울숲</td>\n",
       "      <td>너무</td>\n",
       "      <td>187</td>\n",
       "    </tr>\n",
       "    <tr>\n",
       "      <th>4</th>\n",
       "      <td>MA010120220809778726</td>\n",
       "      <td>노가리마켓 서울숲</td>\n",
       "      <td>가다</td>\n",
       "      <td>153</td>\n",
       "    </tr>\n",
       "    <tr>\n",
       "      <th>5</th>\n",
       "      <td>MA010120220809778726</td>\n",
       "      <td>노가리마켓 서울숲</td>\n",
       "      <td>분위기</td>\n",
       "      <td>149</td>\n",
       "    </tr>\n",
       "    <tr>\n",
       "      <th>6</th>\n",
       "      <td>MA010120220809778726</td>\n",
       "      <td>노가리마켓 서울숲</td>\n",
       "      <td>음식</td>\n",
       "      <td>119</td>\n",
       "    </tr>\n",
       "    <tr>\n",
       "      <th>7</th>\n",
       "      <td>MA010120220809778726</td>\n",
       "      <td>노가리마켓 서울숲</td>\n",
       "      <td>안주</td>\n",
       "      <td>112</td>\n",
       "    </tr>\n",
       "    <tr>\n",
       "      <th>8</th>\n",
       "      <td>MA010120220809778726</td>\n",
       "      <td>노가리마켓 서울숲</td>\n",
       "      <td>오다</td>\n",
       "      <td>93</td>\n",
       "    </tr>\n",
       "    <tr>\n",
       "      <th>9</th>\n",
       "      <td>MA010120220809778726</td>\n",
       "      <td>노가리마켓 서울숲</td>\n",
       "      <td>들다</td>\n",
       "      <td>86</td>\n",
       "    </tr>\n",
       "  </tbody>\n",
       "</table>\n",
       "</div>"
      ],
      "text/plain": [
       "                 상가업소번호        가게명  키워드    갯수\n",
       "0  MA010120220809778726  노가리마켓 서울숲       2077\n",
       "1  MA010120220809778726  노가리마켓 서울숲  맛있다   610\n",
       "2  MA010120220809778726  노가리마켓 서울숲   좋다   393\n",
       "3  MA010120220809778726  노가리마켓 서울숲   너무   187\n",
       "4  MA010120220809778726  노가리마켓 서울숲   가다   153\n",
       "5  MA010120220809778726  노가리마켓 서울숲  분위기   149\n",
       "6  MA010120220809778726  노가리마켓 서울숲   음식   119\n",
       "7  MA010120220809778726  노가리마켓 서울숲   안주   112\n",
       "8  MA010120220809778726  노가리마켓 서울숲   오다    93\n",
       "9  MA010120220809778726  노가리마켓 서울숲   들다    86"
      ]
     },
     "execution_count": 212,
     "metadata": {},
     "output_type": "execute_result"
    }
   ],
   "source": [
    "skc1.head(10)"
   ]
  },
  {
   "cell_type": "code",
   "execution_count": 213,
   "metadata": {},
   "outputs": [
    {
     "name": "stdout",
     "output_type": "stream",
     "text": [
      "<class 'pandas.core.frame.DataFrame'>\n",
      "RangeIndex: 62677 entries, 0 to 62676\n",
      "Data columns (total 4 columns):\n",
      " #   Column  Non-Null Count  Dtype \n",
      "---  ------  --------------  ----- \n",
      " 0   상가업소번호  62677 non-null  object\n",
      " 1   가게명     62677 non-null  object\n",
      " 2   키워드     62677 non-null  object\n",
      " 3   갯수      62677 non-null  int64 \n",
      "dtypes: int64(1), object(3)\n",
      "memory usage: 1.9+ MB\n"
     ]
    }
   ],
   "source": [
    "skc1.info()"
   ]
  },
  {
   "cell_type": "code",
   "execution_count": null,
   "metadata": {},
   "outputs": [],
   "source": []
  }
 ],
 "metadata": {
  "kernelspec": {
   "display_name": "capstone",
   "language": "python",
   "name": "python3"
  },
  "language_info": {
   "codemirror_mode": {
    "name": "ipython",
    "version": 3
   },
   "file_extension": ".py",
   "mimetype": "text/x-python",
   "name": "python",
   "nbconvert_exporter": "python",
   "pygments_lexer": "ipython3",
   "version": "3.11.2"
  },
  "orig_nbformat": 4
 },
 "nbformat": 4,
 "nbformat_minor": 2
}
