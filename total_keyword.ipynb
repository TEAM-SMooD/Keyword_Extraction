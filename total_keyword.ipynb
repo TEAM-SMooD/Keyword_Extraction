{
 "cells": [
  {
   "cell_type": "code",
   "execution_count": 67,
   "metadata": {},
   "outputs": [],
   "source": [
    "import pandas as pd"
   ]
  },
  {
   "cell_type": "code",
   "execution_count": 68,
   "metadata": {},
   "outputs": [],
   "source": [
    "sinchon1_2 = pd.read_csv('./가게별 키워드 개수/신촌_23년1분기_가게별_키워드2갯수.csv')\n",
    "sinchon1_1 = pd.read_csv('./가게별 키워드 개수/신촌_23년1분기_가게별_키워드갯수.csv')\n",
    "bukchon1_2 = pd.read_csv('./가게별 키워드 개수/북촌_23년1분기_가게별_키워드2갯수.csv')\n",
    "bukchon1_1 = pd.read_csv('./가게별 키워드 개수/북촌_23년1분기_가게별_키워드갯수.csv')\n",
    "seongsu1_2 = pd.read_csv('./가게별 키워드 개수/성수_23년1분기_가게별_키워드2갯수.csv')\n",
    "seongsu1_1 = pd.read_csv('./가게별 키워드 개수/성수_23년1분기_가게별_키워드갯수.csv')"
   ]
  },
  {
   "cell_type": "code",
   "execution_count": 69,
   "metadata": {},
   "outputs": [],
   "source": [
    "sinchon1 = pd.concat([sinchon1_2, sinchon1_1], axis=0).reset_index(drop=True)\n",
    "bukchon1 = pd.concat([bukchon1_2, bukchon1_1], axis=0).reset_index(drop=True)\n",
    "seongsu1 = pd.concat([seongsu1_2, seongsu1_1], axis=0).reset_index(drop=True)"
   ]
  },
  {
   "cell_type": "code",
   "execution_count": 70,
   "metadata": {},
   "outputs": [
    {
     "name": "stdout",
     "output_type": "stream",
     "text": [
      "27956\n",
      "12469\n",
      "104304\n"
     ]
    }
   ],
   "source": [
    "print(len(sinchon1))\n",
    "print(len(bukchon1))\n",
    "print(len(seongsu1))"
   ]
  },
  {
   "cell_type": "code",
   "execution_count": 71,
   "metadata": {},
   "outputs": [],
   "source": [
    "sinchon = sinchon1.groupby(['상가업소번호', '가게명', '키워드']).sum().reset_index()\n",
    "bukchon = bukchon1.groupby(['상가업소번호', '가게명', '키워드']).sum().reset_index()\n",
    "seongsu = seongsu1.groupby(['상가업소번호', '가게명', '키워드']).sum().reset_index()"
   ]
  },
  {
   "cell_type": "code",
   "execution_count": 72,
   "metadata": {},
   "outputs": [],
   "source": [
    "sinchon.to_csv('1분기 키워드/신촌1분기.csv', index=False)\n",
    "seongsu.to_csv('1분기 키워드/성수1분기.csv', index=False)\n",
    "bukchon.to_csv('1분기 키워드/북촌1분기.csv', index=False)"
   ]
  },
  {
   "cell_type": "code",
   "execution_count": 73,
   "metadata": {},
   "outputs": [],
   "source": [
    "total = pd.concat([sinchon, bukchon, seongsu], axis=0).reset_index(drop=True)"
   ]
  },
  {
   "cell_type": "code",
   "execution_count": 74,
   "metadata": {},
   "outputs": [],
   "source": [
    "total.dropna(axis=0,inplace=True)\n",
    "total = total.reset_index(drop=True)"
   ]
  },
  {
   "cell_type": "code",
   "execution_count": 75,
   "metadata": {},
   "outputs": [],
   "source": [
    "total.to_csv('1분기 키워드/전체1분기.csv', index=False)"
   ]
  },
  {
   "cell_type": "code",
   "execution_count": 76,
   "metadata": {},
   "outputs": [],
   "source": [
    "# 키워드 top 20 뽑아\n",
    "keyword_top20 = total.sort_values(by='갯수', ascending=False).groupby(['상가업소번호', '가게명']).head(20)\n",
    "keyword_top20 = keyword_top20.sort_values(['가게명', '갯수'], ascending=[False, False]).reset_index(drop=True)"
   ]
  },
  {
   "cell_type": "code",
   "execution_count": 77,
   "metadata": {},
   "outputs": [],
   "source": [
    "# 키워드 가게 10개 이하인거 drop\n",
    "tmp = keyword_top20.groupby(['상가업소번호', '가게명']).count()\n",
    "under_10 = tmp[tmp['키워드'] < 10].sort_values('키워드', ascending=False).reset_index()\n",
    "id = under_10['상가업소번호']"
   ]
  },
  {
   "cell_type": "code",
   "execution_count": 78,
   "metadata": {},
   "outputs": [],
   "source": [
    "def drop_store(df, list):\n",
    "    df.set_index('상가업소번호', drop=True, inplace=True)\n",
    "    df.drop(list, axis=0, inplace=True)\n",
    "    df.reset_index(inplace=True)"
   ]
  },
  {
   "cell_type": "code",
   "execution_count": 79,
   "metadata": {},
   "outputs": [],
   "source": [
    "drop_store(keyword_top20, id)"
   ]
  },
  {
   "cell_type": "code",
   "execution_count": 80,
   "metadata": {},
   "outputs": [],
   "source": [
    "keyword_top20.to_csv('1분기 키워드/1분기_키워드_top20.csv', index=False)"
   ]
  },
  {
   "cell_type": "code",
   "execution_count": 81,
   "metadata": {},
   "outputs": [],
   "source": [
    "pd.DataFrame(keyword_top20['키워드'].unique(), columns=['키워드']).to_csv('1분기 키워드/키워드unique.csv', index=False)"
   ]
  },
  {
   "cell_type": "code",
   "execution_count": null,
   "metadata": {},
   "outputs": [],
   "source": []
  }
 ],
 "metadata": {
  "kernelspec": {
   "display_name": "Python 3",
   "language": "python",
   "name": "python3"
  },
  "language_info": {
   "codemirror_mode": {
    "name": "ipython",
    "version": 3
   },
   "file_extension": ".py",
   "mimetype": "text/x-python",
   "name": "python",
   "nbconvert_exporter": "python",
   "pygments_lexer": "ipython3",
   "version": "3.11.3"
  },
  "orig_nbformat": 4,
  "vscode": {
   "interpreter": {
    "hash": "b0fa6594d8f4cbf19f97940f81e996739fb7646882a419484c72d19e05852a7e"
   }
  }
 },
 "nbformat": 4,
 "nbformat_minor": 2
}
