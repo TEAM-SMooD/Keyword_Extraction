{
 "cells": [
  {
   "cell_type": "code",
   "execution_count": 113,
   "metadata": {},
   "outputs": [],
   "source": [
    "import pandas as pd"
   ]
  },
  {
   "cell_type": "code",
   "execution_count": 114,
   "metadata": {},
   "outputs": [],
   "source": [
    "sinchon1_2 = pd.read_csv('./가게별 키워드 개수/신촌_23년1분기_가게별_키워드2갯수.csv')\n",
    "sinchon1_1 = pd.read_csv('./가게별 키워드 개수/신촌_23년1분기_가게별_키워드갯수.csv')\n",
    "bukchon1_2 = pd.read_csv('./가게별 키워드 개수/북촌_23년1분기_가게별_키워드2갯수.csv')\n",
    "bukchon1_1 = pd.read_csv('./가게별 키워드 개수/북촌_23년1분기_가게별_키워드갯수.csv')\n",
    "# seongsu1_2 = pd.read_csv('./가게별 키워드 개수/성수_23년1분기_가게별_키워드2갯수.csv')\n",
    "# seongsu1_1 = pd.read_csv('./가게별 키워드 개수/성수_23년1분기_가게별_키워드갯수.csv')"
   ]
  },
  {
   "cell_type": "code",
   "execution_count": 115,
   "metadata": {},
   "outputs": [],
   "source": [
    "sinchon1 = pd.concat([sinchon1_2, sinchon1_1], axis=0).reset_index(drop=True)\n",
    "bukchon1 = pd.concat([bukchon1_2, bukchon1_1], axis=0).reset_index(drop=True)\n",
    "# seongsu1 = pd.concat([seongsu1_2, seongsu1_1], axis=0).reset_index(drop=True)"
   ]
  },
  {
   "cell_type": "code",
   "execution_count": 116,
   "metadata": {},
   "outputs": [
    {
     "name": "stdout",
     "output_type": "stream",
     "text": [
      "27956\n",
      "12469\n"
     ]
    }
   ],
   "source": [
    "print(len(sinchon1))\n",
    "print(len(bukchon1))\n",
    "# print(len(seongsu1))"
   ]
  },
  {
   "cell_type": "code",
   "execution_count": 117,
   "metadata": {},
   "outputs": [],
   "source": [
    "sinchon = sinchon1.groupby(['상가업소번호', '가게명', '키워드']).sum().reset_index()\n",
    "bukchon = bukchon1.groupby(['상가업소번호', '가게명', '키워드']).sum().reset_index()\n",
    "# seongsu = seongsu1.groupby(['상가업소번호', '가게명', '키워드']).sum().reset_index()"
   ]
  },
  {
   "cell_type": "code",
   "execution_count": 118,
   "metadata": {},
   "outputs": [],
   "source": [
    "sinchon.to_csv('1분기 키워드/신촌1분기.csv', index=False)\n",
    "# seongsu.to_csv('1분기 키워드/성수1분기.csv', index=False)\n",
    "bukchon.to_csv('1분기 키워드/북촌1분기.csv', index=False)"
   ]
  },
  {
   "cell_type": "code",
   "execution_count": 119,
   "metadata": {},
   "outputs": [],
   "source": [
    "# total = pd.concat([sinchon, bukchon, seongsu], axis=0).reset_index(drop=True)\n",
    "total = pd.concat([sinchon, bukchon], axis=0).reset_index(drop=True)"
   ]
  },
  {
   "cell_type": "code",
   "execution_count": 120,
   "metadata": {},
   "outputs": [],
   "source": [
    "total.dropna(axis=0,inplace=True)\n",
    "total = total.reset_index(drop=True)"
   ]
  },
  {
   "cell_type": "code",
   "execution_count": 121,
   "metadata": {},
   "outputs": [],
   "source": [
    "# total.to_csv('1분기 키워드/전체1분기.csv', index=False)"
   ]
  },
  {
   "cell_type": "code",
   "execution_count": 122,
   "metadata": {},
   "outputs": [],
   "source": [
    "# 키워드 top 20 뽑아\n",
    "keyword_top20 = total.sort_values(by='갯수', ascending=False).groupby(['상가업소번호', '가게명']).head(20)\n",
    "keyword_top20 = keyword_top20.sort_values(['가게명', '갯수'], ascending=[False, False]).reset_index(drop=True)"
   ]
  },
  {
   "cell_type": "code",
   "execution_count": 123,
   "metadata": {},
   "outputs": [],
   "source": [
    "# 키워드 가게 20개 이하인거 drop\n",
    "tmp = keyword_top20.groupby(['상가업소번호', '가게명']).count()\n",
    "under_20 = tmp[tmp['키워드'] < 10].sort_values('키워드', ascending=False).reset_index()\n",
    "id = under_20['상가업소번호']"
   ]
  },
  {
   "cell_type": "code",
   "execution_count": 124,
   "metadata": {},
   "outputs": [],
   "source": [
    "def drop_store(df, list):\n",
    "    df.set_index('상가업소번호', drop=True, inplace=True)\n",
    "    df.drop(list, axis=0, inplace=True)\n",
    "    df.reset_index(inplace=True)"
   ]
  },
  {
   "cell_type": "code",
   "execution_count": 125,
   "metadata": {},
   "outputs": [],
   "source": [
    "drop_store(keyword_top20, id)"
   ]
  },
  {
   "cell_type": "code",
   "execution_count": 126,
   "metadata": {},
   "outputs": [],
   "source": [
    "# keyword_top20.to_csv('1분기 키워드/1분기_키워드_top20.csv', index=False)"
   ]
  },
  {
   "cell_type": "code",
   "execution_count": 127,
   "metadata": {},
   "outputs": [],
   "source": [
    "# pd.DataFrame(keyword_top20['키워드'].unique(), columns=['키워드']).to_csv('1분기 키워드/키워드unique.csv', index=False)\n",
    "unique_keyword = pd.DataFrame(keyword_top20['키워드'].unique(), columns=['키워드'])"
   ]
  },
  {
   "attachments": {},
   "cell_type": "markdown",
   "metadata": {},
   "source": [
    "___"
   ]
  },
  {
   "attachments": {},
   "cell_type": "markdown",
   "metadata": {},
   "source": [
    "긍정비율높은순"
   ]
  },
  {
   "cell_type": "code",
   "execution_count": 146,
   "metadata": {},
   "outputs": [],
   "source": [
    "total_info = pd.read_csv('가게정보/전체가게정보.csv')\n",
    "total_info = total_info[['상가업소번호', '업종', '행정동', '긍정 리뷰 비율']]\n",
    "keyword_top20 = keyword_top20[['상가업소번호', '키워드']]"
   ]
  },
  {
   "cell_type": "code",
   "execution_count": 160,
   "metadata": {},
   "outputs": [
    {
     "data": {
      "text/html": [
       "<div>\n",
       "<style scoped>\n",
       "    .dataframe tbody tr th:only-of-type {\n",
       "        vertical-align: middle;\n",
       "    }\n",
       "\n",
       "    .dataframe tbody tr th {\n",
       "        vertical-align: top;\n",
       "    }\n",
       "\n",
       "    .dataframe thead th {\n",
       "        text-align: right;\n",
       "    }\n",
       "</style>\n",
       "<table border=\"1\" class=\"dataframe\">\n",
       "  <thead>\n",
       "    <tr style=\"text-align: right;\">\n",
       "      <th></th>\n",
       "      <th>상가업소번호</th>\n",
       "      <th>업종</th>\n",
       "      <th>행정동</th>\n",
       "      <th>긍정 리뷰 비율</th>\n",
       "    </tr>\n",
       "  </thead>\n",
       "  <tbody>\n",
       "    <tr>\n",
       "      <th>0</th>\n",
       "      <td>MA010120220800304264</td>\n",
       "      <td>한식</td>\n",
       "      <td>가회동</td>\n",
       "      <td>90.0</td>\n",
       "    </tr>\n",
       "    <tr>\n",
       "      <th>1</th>\n",
       "      <td>1100</td>\n",
       "      <td>카페</td>\n",
       "      <td>가회동</td>\n",
       "      <td>96.6</td>\n",
       "    </tr>\n",
       "    <tr>\n",
       "      <th>4</th>\n",
       "      <td>MA010120220800002167</td>\n",
       "      <td>한식</td>\n",
       "      <td>삼청동</td>\n",
       "      <td>93.3</td>\n",
       "    </tr>\n",
       "    <tr>\n",
       "      <th>9</th>\n",
       "      <td>MA010120220807404834</td>\n",
       "      <td>한식</td>\n",
       "      <td>가회동</td>\n",
       "      <td>96.3</td>\n",
       "    </tr>\n",
       "    <tr>\n",
       "      <th>10</th>\n",
       "      <td>MA010120220807099433</td>\n",
       "      <td>한식</td>\n",
       "      <td>삼청동</td>\n",
       "      <td>97.5</td>\n",
       "    </tr>\n",
       "    <tr>\n",
       "      <th>...</th>\n",
       "      <td>...</td>\n",
       "      <td>...</td>\n",
       "      <td>...</td>\n",
       "      <td>...</td>\n",
       "    </tr>\n",
       "    <tr>\n",
       "      <th>2692</th>\n",
       "      <td>MA010120220814157788</td>\n",
       "      <td>한식</td>\n",
       "      <td>성수1가제2동</td>\n",
       "      <td>95.5</td>\n",
       "    </tr>\n",
       "    <tr>\n",
       "      <th>2694</th>\n",
       "      <td>MA010120220803764578</td>\n",
       "      <td>패스트푸드</td>\n",
       "      <td>성수1가제2동</td>\n",
       "      <td>87.5</td>\n",
       "    </tr>\n",
       "    <tr>\n",
       "      <th>2702</th>\n",
       "      <td>MA010120220807114222</td>\n",
       "      <td>한식</td>\n",
       "      <td>성수1가제2동</td>\n",
       "      <td>97.0</td>\n",
       "    </tr>\n",
       "    <tr>\n",
       "      <th>2708</th>\n",
       "      <td>MA010120220803764364</td>\n",
       "      <td>한식</td>\n",
       "      <td>성수1가제2동</td>\n",
       "      <td>88.9</td>\n",
       "    </tr>\n",
       "    <tr>\n",
       "      <th>2709</th>\n",
       "      <td>MA010120220805074557</td>\n",
       "      <td>한식</td>\n",
       "      <td>성수1가제2동</td>\n",
       "      <td>94.1</td>\n",
       "    </tr>\n",
       "  </tbody>\n",
       "</table>\n",
       "<p>1131 rows × 4 columns</p>\n",
       "</div>"
      ],
      "text/plain": [
       "                    상가업소번호     업종      행정동  긍정 리뷰 비율\n",
       "0     MA010120220800304264     한식      가회동      90.0\n",
       "1                     1100     카페      가회동      96.6\n",
       "4     MA010120220800002167     한식      삼청동      93.3\n",
       "9     MA010120220807404834     한식      가회동      96.3\n",
       "10    MA010120220807099433     한식      삼청동      97.5\n",
       "...                    ...    ...      ...       ...\n",
       "2692  MA010120220814157788     한식  성수1가제2동      95.5\n",
       "2694  MA010120220803764578  패스트푸드  성수1가제2동      87.5\n",
       "2702  MA010120220807114222     한식  성수1가제2동      97.0\n",
       "2708  MA010120220803764364     한식  성수1가제2동      88.9\n",
       "2709  MA010120220805074557     한식  성수1가제2동      94.1\n",
       "\n",
       "[1131 rows x 4 columns]"
      ]
     },
     "execution_count": 160,
     "metadata": {},
     "output_type": "execute_result"
    }
   ],
   "source": [
    "#total_info_sentiment = total_info.sort_values('긍정 리뷰 비율', ascending=False)[:2000]"
   ]
  },
  {
   "cell_type": "code",
   "execution_count": 148,
   "metadata": {},
   "outputs": [],
   "source": [
    "total_ = pd.merge(keyword_top20, total_info, on=['상가업소번호'], how='left')"
   ]
  },
  {
   "cell_type": "code",
   "execution_count": 151,
   "metadata": {},
   "outputs": [
    {
     "data": {
      "text/html": [
       "<div>\n",
       "<style scoped>\n",
       "    .dataframe tbody tr th:only-of-type {\n",
       "        vertical-align: middle;\n",
       "    }\n",
       "\n",
       "    .dataframe tbody tr th {\n",
       "        vertical-align: top;\n",
       "    }\n",
       "\n",
       "    .dataframe thead th {\n",
       "        text-align: right;\n",
       "    }\n",
       "</style>\n",
       "<table border=\"1\" class=\"dataframe\">\n",
       "  <thead>\n",
       "    <tr style=\"text-align: right;\">\n",
       "      <th></th>\n",
       "      <th>상가업소번호</th>\n",
       "      <th>키워드</th>\n",
       "      <th>업종</th>\n",
       "      <th>행정동</th>\n",
       "      <th>긍정 리뷰 비율</th>\n",
       "    </tr>\n",
       "  </thead>\n",
       "  <tbody>\n",
       "    <tr>\n",
       "      <th>0</th>\n",
       "      <td>MA010120220804895059</td>\n",
       "      <td>닭고기</td>\n",
       "      <td>동남아시아</td>\n",
       "      <td>신촌동</td>\n",
       "      <td>100.0</td>\n",
       "    </tr>\n",
       "    <tr>\n",
       "      <th>9998</th>\n",
       "      <td>MA010120220807721655</td>\n",
       "      <td>분위기</td>\n",
       "      <td>한식</td>\n",
       "      <td>삼청동</td>\n",
       "      <td>100.0</td>\n",
       "    </tr>\n",
       "    <tr>\n",
       "      <th>10000</th>\n",
       "      <td>MA010120220807721655</td>\n",
       "      <td>본인</td>\n",
       "      <td>한식</td>\n",
       "      <td>삼청동</td>\n",
       "      <td>100.0</td>\n",
       "    </tr>\n",
       "    <tr>\n",
       "      <th>10001</th>\n",
       "      <td>MA010120220807721655</td>\n",
       "      <td>기준</td>\n",
       "      <td>한식</td>\n",
       "      <td>삼청동</td>\n",
       "      <td>100.0</td>\n",
       "    </tr>\n",
       "    <tr>\n",
       "      <th>10002</th>\n",
       "      <td>MA010120220807721655</td>\n",
       "      <td>갈릭 오일 파스타</td>\n",
       "      <td>한식</td>\n",
       "      <td>삼청동</td>\n",
       "      <td>100.0</td>\n",
       "    </tr>\n",
       "    <tr>\n",
       "      <th>...</th>\n",
       "      <td>...</td>\n",
       "      <td>...</td>\n",
       "      <td>...</td>\n",
       "      <td>...</td>\n",
       "      <td>...</td>\n",
       "    </tr>\n",
       "    <tr>\n",
       "      <th>11937</th>\n",
       "      <td>MA010120220800558226</td>\n",
       "      <td>맛있다</td>\n",
       "      <td>한식</td>\n",
       "      <td>신촌동</td>\n",
       "      <td>33.3</td>\n",
       "    </tr>\n",
       "    <tr>\n",
       "      <th>11938</th>\n",
       "      <td>MA010120220800558226</td>\n",
       "      <td>그릇</td>\n",
       "      <td>한식</td>\n",
       "      <td>신촌동</td>\n",
       "      <td>33.3</td>\n",
       "    </tr>\n",
       "    <tr>\n",
       "      <th>11920</th>\n",
       "      <td>MA010120220800558226</td>\n",
       "      <td>한우</td>\n",
       "      <td>한식</td>\n",
       "      <td>신촌동</td>\n",
       "      <td>33.3</td>\n",
       "    </tr>\n",
       "    <tr>\n",
       "      <th>11919</th>\n",
       "      <td>MA010120220800558226</td>\n",
       "      <td>한우 라니까 그나마 한우 라니까 그나마 고기</td>\n",
       "      <td>한식</td>\n",
       "      <td>신촌동</td>\n",
       "      <td>33.3</td>\n",
       "    </tr>\n",
       "    <tr>\n",
       "      <th>11921</th>\n",
       "      <td>MA010120220800558226</td>\n",
       "      <td>한 그릇 32000원</td>\n",
       "      <td>한식</td>\n",
       "      <td>신촌동</td>\n",
       "      <td>33.3</td>\n",
       "    </tr>\n",
       "  </tbody>\n",
       "</table>\n",
       "<p>18652 rows × 5 columns</p>\n",
       "</div>"
      ],
      "text/plain": [
       "                     상가업소번호                       키워드     업종  행정동  긍정 리뷰 비율\n",
       "0      MA010120220804895059                       닭고기  동남아시아  신촌동     100.0\n",
       "9998   MA010120220807721655                       분위기     한식  삼청동     100.0\n",
       "10000  MA010120220807721655                        본인     한식  삼청동     100.0\n",
       "10001  MA010120220807721655                        기준     한식  삼청동     100.0\n",
       "10002  MA010120220807721655                 갈릭 오일 파스타     한식  삼청동     100.0\n",
       "...                     ...                       ...    ...  ...       ...\n",
       "11937  MA010120220800558226                       맛있다     한식  신촌동      33.3\n",
       "11938  MA010120220800558226                        그릇     한식  신촌동      33.3\n",
       "11920  MA010120220800558226                        한우     한식  신촌동      33.3\n",
       "11919  MA010120220800558226  한우 라니까 그나마 한우 라니까 그나마 고기     한식  신촌동      33.3\n",
       "11921  MA010120220800558226               한 그릇 32000원     한식  신촌동      33.3\n",
       "\n",
       "[18652 rows x 5 columns]"
      ]
     },
     "execution_count": 151,
     "metadata": {},
     "output_type": "execute_result"
    }
   ],
   "source": [
    "total_info[total_info]"
   ]
  }
 ],
 "metadata": {
  "kernelspec": {
   "display_name": "Python 3",
   "language": "python",
   "name": "python3"
  },
  "language_info": {
   "codemirror_mode": {
    "name": "ipython",
    "version": 3
   },
   "file_extension": ".py",
   "mimetype": "text/x-python",
   "name": "python",
   "nbconvert_exporter": "python",
   "pygments_lexer": "ipython3",
   "version": "3.11.3"
  },
  "orig_nbformat": 4,
  "vscode": {
   "interpreter": {
    "hash": "b0fa6594d8f4cbf19f97940f81e996739fb7646882a419484c72d19e05852a7e"
   }
  }
 },
 "nbformat": 4,
 "nbformat_minor": 2
}
