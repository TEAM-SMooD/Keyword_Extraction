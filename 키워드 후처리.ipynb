{
 "cells": [
  {
   "cell_type": "code",
   "execution_count": 2,
   "metadata": {},
   "outputs": [],
   "source": [
    "import pandas as pd"
   ]
  },
  {
   "cell_type": "code",
   "execution_count": 278,
   "metadata": {},
   "outputs": [],
   "source": [
    "#b3=pd.read_csv(r'C:\\Users\\user\\OneDrive\\바탕화~1-DESKTOP-R00ORLS-348\\캡스톤\\Keyword_Extraction\\가게별 키워드 개수\\북촌_22년3분기_가게별_키워드갯수.csv')\n",
    "#b4=pd.read_csv(r'C:\\Users\\user\\OneDrive\\바탕화~1-DESKTOP-R00ORLS-348\\캡스톤\\Keyword_Extraction\\가게별 키워드 개수\\북촌_22년4분기_가게별_키워드갯수.csv')\n",
    "b32=pd.read_csv(r'C:\\Users\\user\\OneDrive\\바탕화~1-DESKTOP-R00ORLS-348\\캡스톤\\Keyword_Extraction\\가게별 키워드 개수\\북촌_22년3분기_가게별_키워드2갯수.csv')\n",
    "b42=pd.read_csv(r'C:\\Users\\user\\OneDrive\\바탕화~1-DESKTOP-R00ORLS-348\\캡스톤\\Keyword_Extraction\\가게별 키워드 개수\\북촌_22년4분기_가게별_키워드2갯수.csv')"
   ]
  },
  {
   "cell_type": "code",
   "execution_count": 279,
   "metadata": {},
   "outputs": [],
   "source": [
    "#s3=pd.read_csv(r'C:\\Users\\user\\OneDrive\\바탕화~1-DESKTOP-R00ORLS-348\\캡스톤\\Keyword_Extraction\\가게별 키워드 개수\\성수_22년3분기_가게별_키워드갯수.csv')\n",
    "#s4=pd.read_csv(r'C:\\Users\\user\\OneDrive\\바탕화~1-DESKTOP-R00ORLS-348\\캡스톤\\Keyword_Extraction\\가게별 키워드 개수\\성수_22년4분기_가게별_키워드갯수.csv')\n",
    "s32=pd.read_csv(r'C:\\Users\\user\\OneDrive\\바탕화~1-DESKTOP-R00ORLS-348\\캡스톤\\Keyword_Extraction\\가게별 키워드 개수\\성수_22년3분기_가게별_키워드2갯수.csv')\n",
    "s42=pd.read_csv(r'C:\\Users\\user\\OneDrive\\바탕화~1-DESKTOP-R00ORLS-348\\캡스톤\\Keyword_Extraction\\가게별 키워드 개수\\성수_22년4분기_가게별_키워드2갯수.csv')"
   ]
  },
  {
   "cell_type": "code",
   "execution_count": 280,
   "metadata": {},
   "outputs": [],
   "source": [
    "#sc3=pd.read_csv(r'C:\\Users\\user\\OneDrive\\바탕화~1-DESKTOP-R00ORLS-348\\캡스톤\\Keyword_Extraction\\가게별 키워드 개수\\신촌_22년3분기_가게별_키워드갯수.csv')\n",
    "#sc4=pd.read_csv(r'C:\\Users\\user\\OneDrive\\바탕화~1-DESKTOP-R00ORLS-348\\캡스톤\\Keyword_Extraction\\가게별 키워드 개수\\신촌_22년4분기_가게별_키워드갯수.csv')\n",
    "sc32=pd.read_csv(r'C:\\Users\\user\\OneDrive\\바탕화~1-DESKTOP-R00ORLS-348\\캡스톤\\Keyword_Extraction\\가게별 키워드 개수\\신촌_22년3분기_가게별_키워드2갯수.csv')\n",
    "sc42=pd.read_csv(r'C:\\Users\\user\\OneDrive\\바탕화~1-DESKTOP-R00ORLS-348\\캡스톤\\Keyword_Extraction\\가게별 키워드 개수\\신촌_22년4분기_가게별_키워드2갯수.csv')"
   ]
  },
  {
   "cell_type": "code",
   "execution_count": 209,
   "metadata": {},
   "outputs": [],
   "source": [
    "b3.dropna(axis=0,inplace=True)\n",
    "b3=b3.reset_index(drop=True)\n",
    "\n",
    "b4.dropna(axis=0,inplace=True)\n",
    "b4=b4.reset_index(drop=True)\n",
    "\n",
    "b32.dropna(axis=0,inplace=True)\n",
    "b32=b32.reset_index(drop=True)\n",
    "\n",
    "b42.dropna(axis=0,inplace=True)\n",
    "b42=b42.reset_index(drop=True)"
   ]
  },
  {
   "cell_type": "code",
   "execution_count": 210,
   "metadata": {},
   "outputs": [],
   "source": [
    "s3.dropna(axis=0,inplace=True)\n",
    "s3=s3.reset_index(drop=True)\n",
    "\n",
    "s4.dropna(axis=0,inplace=True)\n",
    "s4=s4.reset_index(drop=True)\n",
    "\n",
    "s32.dropna(axis=0,inplace=True)\n",
    "s32=s32.reset_index(drop=True)\n",
    "\n",
    "s42.dropna(axis=0,inplace=True)\n",
    "s42=s42.reset_index(drop=True)"
   ]
  },
  {
   "cell_type": "code",
   "execution_count": 211,
   "metadata": {},
   "outputs": [],
   "source": [
    "sc3.dropna(axis=0,inplace=True)\n",
    "sc3=sc3.reset_index(drop=True)\n",
    "\n",
    "sc4.dropna(axis=0,inplace=True)\n",
    "sc4=sc4.reset_index(drop=True)\n",
    "\n",
    "sc32.dropna(axis=0,inplace=True)\n",
    "sc32=sc32.reset_index(drop=True)\n",
    "\n",
    "sc42.dropna(axis=0,inplace=True)\n",
    "sc42=sc42.reset_index(drop=True)"
   ]
  },
  {
   "attachments": {},
   "cell_type": "markdown",
   "metadata": {},
   "source": [
    "\n",
    "- 키워드2에서 공백 2개 replace\n",
    "- 짜지다 않다->짜지 않다\n",
    "- 맛있다  먹다->맛있게 먹다\n",
    "- 키워드 좌우 공백 없애기 strip\n",
    "- 키워드 1개 인건 없애기"
   ]
  },
  {
   "attachments": {},
   "cell_type": "markdown",
   "metadata": {},
   "source": [
    "### 불용어 없애기"
   ]
  },
  {
   "cell_type": "code",
   "execution_count": 214,
   "metadata": {},
   "outputs": [],
   "source": [
    "remove_list=['너무','다','먹다','가다','보다','분들','않다','오다','요','팡','정말','도르다','이르다','진짜','곳','대체','리뷰','되다','설다','없다',\n",
    "             '건물','들다','가보다','말다','점','인','고','분','비','요','한','두','인데','랑','베','판매','님','양','라','내','엔','팅','나오다','메뉴',\n",
    "             '느껴지다','으로도','해주다','설다','알다','흘리다','직원분들','들다','이에요','이라','갈다','날','그냥','역시','대체 리뷰','음식','대다',\n",
    "             '먹다 보다','싶다','엄청','처음','다 들다']"
   ]
  },
  {
   "cell_type": "code",
   "execution_count": 262,
   "metadata": {},
   "outputs": [],
   "source": [
    "remove_list=['아니다','방문','가도','근처','느끼다','','맛','모르다','이전','느낌','앞','담 엔','말','부분','모든','가다 들다','미리','가격','선택','다시',\n",
    "             '모양','없이','정도','찾다','달라 고','가다 보다','먹다 보다']"
   ]
  },
  {
   "cell_type": "code",
   "execution_count": 263,
   "metadata": {},
   "outputs": [],
   "source": [
    "def remove_keyword(df):\n",
    "    remove_idx=df[df['키워드'].isin(remove_list)].index\n",
    "    df=df.drop(remove_idx)\n",
    "    df=df.reset_index(drop=True)\n",
    "    return df"
   ]
  },
  {
   "cell_type": "code",
   "execution_count": 264,
   "metadata": {},
   "outputs": [],
   "source": [
    "b3=remove_keyword(b3)\n",
    "b4=remove_keyword(b4)\n",
    "b32=remove_keyword(b32)\n",
    "b42=remove_keyword(b42)"
   ]
  },
  {
   "cell_type": "code",
   "execution_count": 265,
   "metadata": {},
   "outputs": [],
   "source": [
    "s3=remove_keyword(s3)\n",
    "s4=remove_keyword(s4)\n",
    "s32=remove_keyword(s32)\n",
    "s42=remove_keyword(s42)"
   ]
  },
  {
   "cell_type": "code",
   "execution_count": 266,
   "metadata": {},
   "outputs": [],
   "source": [
    "sc3=remove_keyword(sc3)\n",
    "sc4=remove_keyword(sc4)\n",
    "sc32=remove_keyword(sc32)\n",
    "sc42=remove_keyword(sc42)"
   ]
  },
  {
   "attachments": {},
   "cell_type": "markdown",
   "metadata": {},
   "source": [
    "### 좌우공백 없애기"
   ]
  },
  {
   "cell_type": "code",
   "execution_count": 224,
   "metadata": {},
   "outputs": [],
   "source": [
    "def remove_empty(s):\n",
    "    s=s.strip()\n",
    "    return s"
   ]
  },
  {
   "cell_type": "code",
   "execution_count": 225,
   "metadata": {},
   "outputs": [],
   "source": [
    "b3['키워드']=b3['키워드'].apply(remove_empty)\n",
    "b4['키워드']=b4['키워드'].apply(remove_empty)\n",
    "b32['키워드']=b32['키워드'].apply(remove_empty)\n",
    "b42['키워드']=b42['키워드'].apply(remove_empty)"
   ]
  },
  {
   "cell_type": "code",
   "execution_count": 226,
   "metadata": {},
   "outputs": [],
   "source": [
    "s3['키워드']=s3['키워드'].apply(remove_empty)\n",
    "s4['키워드']=s4['키워드'].apply(remove_empty)\n",
    "s32['키워드']=s32['키워드'].apply(remove_empty)\n",
    "s42['키워드']=s42['키워드'].apply(remove_empty)"
   ]
  },
  {
   "cell_type": "code",
   "execution_count": 227,
   "metadata": {},
   "outputs": [],
   "source": [
    "sc3['키워드']=sc3['키워드'].apply(remove_empty)\n",
    "sc4['키워드']=sc4['키워드'].apply(remove_empty)\n",
    "sc32['키워드']=sc32['키워드'].apply(remove_empty)\n",
    "sc42['키워드']=sc42['키워드'].apply(remove_empty)"
   ]
  },
  {
   "attachments": {},
   "cell_type": "markdown",
   "metadata": {},
   "source": [
    "### 띄어쓰기 2개 이상인거 1개로 바꾸기"
   ]
  },
  {
   "cell_type": "code",
   "execution_count": 228,
   "metadata": {},
   "outputs": [],
   "source": [
    "def empty_more(s):\n",
    "    text=' '.join(s.split())\n",
    "    return text"
   ]
  },
  {
   "cell_type": "code",
   "execution_count": 229,
   "metadata": {},
   "outputs": [],
   "source": [
    "b32['키워드']=b32['키워드'].apply(empty_more)\n",
    "b42['키워드']=b42['키워드'].apply(empty_more)"
   ]
  },
  {
   "cell_type": "code",
   "execution_count": 230,
   "metadata": {},
   "outputs": [],
   "source": [
    "s32['키워드']=s32['키워드'].apply(empty_more)\n",
    "s42['키워드']=s42['키워드'].apply(empty_more)"
   ]
  },
  {
   "cell_type": "code",
   "execution_count": 231,
   "metadata": {},
   "outputs": [],
   "source": [
    "sc32['키워드']=sc32['키워드'].apply(empty_more)\n",
    "sc42['키워드']=sc42['키워드'].apply(empty_more)"
   ]
  },
  {
   "cell_type": "code",
   "execution_count": 277,
   "metadata": {},
   "outputs": [],
   "source": [
    "b32.to_csv('가게별 키워드 개수/북촌_22년3분기_가게별_키워드2갯수.csv',index=False)\n",
    "b42.to_csv('가게별 키워드 개수/북촌_22년4분기_가게별_키워드2갯수.csv',index=False)"
   ]
  },
  {
   "cell_type": "code",
   "execution_count": 233,
   "metadata": {},
   "outputs": [],
   "source": [
    "s32.to_csv('가게별 키워드 개수/성수_22년3분기_가게별_키워드2갯수.csv',index=False)\n",
    "s42.to_csv('가게별 키워드 개수/성수_22년4분기_가게별_키워드2갯수.csv',index=False)"
   ]
  },
  {
   "cell_type": "code",
   "execution_count": 234,
   "metadata": {},
   "outputs": [],
   "source": [
    "sc32.to_csv('가게별 키워드 개수/신촌_22년3분기_가게별_키워드2갯수.csv',index=False)\n",
    "sc42.to_csv('가게별 키워드 개수/신촌_22년4분기_가게별_키워드2갯수.csv',index=False)"
   ]
  },
  {
   "attachments": {},
   "cell_type": "markdown",
   "metadata": {},
   "source": [
    "### 단어바꾸기\n",
    "\n",
    "- text.replace(\"짜지다 않다\", \"짜지 않다\").replace(\"맛있다 먹다\", \"맛있게 먹다\").replace(\"감 바스\", \"감바스\")\n",
    "- .replace(\"합리적 이라\", \"합리적이다\").replace(\"가족 끼리\", \"가족끼리\").replace(\"냉 모밀\", \"냉모밀\").replace(\"백 짬뽕\", \"백짬뽕\").replace(\"겉바 속 촉\", \"겉바속촉\")\n",
    "- .replace(\"쉬 림프\", \"쉬림프\").replace(\" 이랑\", \"이랑\").replace(\"쌍 화차\", \"쌍화차\").replace(\" 인\", \"인\").replace(\"공 깃밥\", \"공기밥\")\n",
    "- .replace(\"고 메\", \"고메\").replace(\"소 면\", \"소면\").replace(\" 면\", \"면\").replace(\"분 짜\", \"분짜\").replace(\"고 슬\", \"고슬\")"
   ]
  },
  {
   "cell_type": "code",
   "execution_count": 288,
   "metadata": {},
   "outputs": [],
   "source": [
    "import re\n",
    "\n",
    "def replace_word(text):\n",
    "    text2 = text.replace(\"갈다 마다\", \"갈때마다\")\n",
    "    return text2"
   ]
  },
  {
   "cell_type": "code",
   "execution_count": 289,
   "metadata": {},
   "outputs": [],
   "source": [
    "#b3['키워드']=b3['키워드'].apply(replace_word)\n",
    "#b4['키워드']=b4['키워드'].apply(replace_word)\n",
    "b32['키워드']=b32['키워드'].apply(replace_word)\n",
    "b42['키워드']=b42['키워드'].apply(replace_word)"
   ]
  },
  {
   "cell_type": "code",
   "execution_count": 290,
   "metadata": {},
   "outputs": [],
   "source": [
    "#s3['키워드']=s3['키워드'].apply(replace_word)\n",
    "#s4['키워드']=s4['키워드'].apply(replace_word)\n",
    "s32['키워드']=s32['키워드'].apply(replace_word)\n",
    "s42['키워드']=s42['키워드'].apply(replace_word)"
   ]
  },
  {
   "cell_type": "code",
   "execution_count": 291,
   "metadata": {},
   "outputs": [],
   "source": [
    "#sc3['키워드']=sc3['키워드'].apply(replace_word)\n",
    "#sc4['키워드']=sc4['키워드'].apply(replace_word)\n",
    "sc32['키워드']=sc32['키워드'].apply(replace_word)\n",
    "sc42['키워드']=sc42['키워드'].apply(replace_word)"
   ]
  },
  {
   "cell_type": "code",
   "execution_count": 202,
   "metadata": {},
   "outputs": [
    {
     "data": {
      "text/plain": [
       "34"
      ]
     },
     "execution_count": 202,
     "metadata": {},
     "output_type": "execute_result"
    }
   ],
   "source": [
    "61-27\n"
   ]
  },
  {
   "attachments": {},
   "cell_type": "markdown",
   "metadata": {},
   "source": [
    "### 한단어인것 삭제"
   ]
  },
  {
   "cell_type": "code",
   "execution_count": 248,
   "metadata": {},
   "outputs": [],
   "source": [
    "#만약에 문장에 공백이 있으면 그대로 두고, 없으면 삭제\n",
    "\n",
    "def one_word(df):\n",
    "    new_df=df[df['키워드'].str.contains(' ')==True]\n",
    "    new_df=new_df.reset_index(drop=True)\n",
    "    \n",
    "    return new_df\n"
   ]
  },
  {
   "cell_type": "code",
   "execution_count": 249,
   "metadata": {},
   "outputs": [],
   "source": [
    "b32_1=one_word(b32)\n",
    "b42_1=one_word(b42)"
   ]
  },
  {
   "cell_type": "code",
   "execution_count": 251,
   "metadata": {},
   "outputs": [],
   "source": [
    "s32_1=one_word(s32)\n",
    "s42_1=one_word(s42)"
   ]
  },
  {
   "cell_type": "code",
   "execution_count": 252,
   "metadata": {},
   "outputs": [],
   "source": [
    "sc32_1=one_word(sc32)\n",
    "sc42_1=one_word(sc42)"
   ]
  },
  {
   "cell_type": "code",
   "execution_count": null,
   "metadata": {},
   "outputs": [],
   "source": []
  },
  {
   "attachments": {},
   "cell_type": "markdown",
   "metadata": {},
   "source": [
    "### 저장"
   ]
  },
  {
   "cell_type": "code",
   "execution_count": 292,
   "metadata": {},
   "outputs": [],
   "source": [
    "#b3.to_csv('가게별 키워드 개수/북촌_22년3분기_가게별_키워드갯수.csv',index=False)\n",
    "#b4.to_csv('가게별 키워드 개수/북촌_22년4분기_가게별_키워드갯수.csv',index=False)\n",
    "b32.to_csv('가게별 키워드 개수/북촌_22년3분기_가게별_키워드2갯수.csv',index=False)\n",
    "b42.to_csv('가게별 키워드 개수/북촌_22년4분기_가게별_키워드2갯수.csv',index=False)"
   ]
  },
  {
   "cell_type": "code",
   "execution_count": 293,
   "metadata": {},
   "outputs": [],
   "source": [
    "#s3.to_csv('가게별 키워드 개수/성수_22년3분기_가게별_키워드갯수.csv',index=False)\n",
    "#s4.to_csv('가게별 키워드 개수/성수_22년4분기_가게별_키워드갯수.csv',index=False)\n",
    "s32.to_csv('가게별 키워드 개수/성수_22년3분기_가게별_키워드2갯수.csv',index=False)\n",
    "s42.to_csv('가게별 키워드 개수/성수_22년4분기_가게별_키워드2갯수.csv',index=False)"
   ]
  },
  {
   "cell_type": "code",
   "execution_count": 294,
   "metadata": {},
   "outputs": [],
   "source": [
    "#sc3.to_csv('가게별 키워드 개수/신촌_22년3분기_가게별_키워드갯수.csv',index=False)\n",
    "#sc4.to_csv('가게별 키워드 개수/신촌_22년4분기_가게별_키워드갯수.csv',index=False)\n",
    "sc32.to_csv('가게별 키워드 개수/신촌_22년3분기_가게별_키워드2갯수.csv',index=False)\n",
    "sc42.to_csv('가게별 키워드 개수/신촌_22년4분기_가게별_키워드2갯수.csv',index=False)"
   ]
  },
  {
   "cell_type": "code",
   "execution_count": 65,
   "metadata": {},
   "outputs": [
    {
     "name": "stdout",
     "output_type": "stream",
     "text": [
      "<class 'pandas.core.frame.DataFrame'>\n",
      "RangeIndex: 11931 entries, 0 to 11930\n",
      "Data columns (total 4 columns):\n",
      " #   Column  Non-Null Count  Dtype \n",
      "---  ------  --------------  ----- \n",
      " 0   상가업소번호  11931 non-null  object\n",
      " 1   가게명     11931 non-null  object\n",
      " 2   키워드     11931 non-null  object\n",
      " 3   갯수      11931 non-null  int64 \n",
      "dtypes: int64(1), object(3)\n",
      "memory usage: 373.0+ KB\n"
     ]
    }
   ],
   "source": [
    "b42.info()"
   ]
  },
  {
   "cell_type": "code",
   "execution_count": null,
   "metadata": {},
   "outputs": [],
   "source": []
  }
 ],
 "metadata": {
  "kernelspec": {
   "display_name": "capstone",
   "language": "python",
   "name": "python3"
  },
  "language_info": {
   "codemirror_mode": {
    "name": "ipython",
    "version": 3
   },
   "file_extension": ".py",
   "mimetype": "text/x-python",
   "name": "python",
   "nbconvert_exporter": "python",
   "pygments_lexer": "ipython3",
   "version": "3.11.2"
  },
  "orig_nbformat": 4
 },
 "nbformat": 4,
 "nbformat_minor": 2
}
