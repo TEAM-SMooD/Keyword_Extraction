{
 "cells": [
  {
   "cell_type": "code",
   "execution_count": 1,
   "metadata": {},
   "outputs": [],
   "source": [
    "import pandas as pd"
   ]
  },
  {
   "cell_type": "code",
   "execution_count": 30,
   "metadata": {},
   "outputs": [],
   "source": [
    "b3=pd.read_csv(r'C:\\Users\\user\\OneDrive\\바탕화~1-DESKTOP-R00ORLS-348\\캡스톤\\Keyword_Extraction\\가게별 키워드 개수\\북촌_22년3분기_가게별_키워드갯수.csv')\n",
    "b4=pd.read_csv(r'C:\\Users\\user\\OneDrive\\바탕화~1-DESKTOP-R00ORLS-348\\캡스톤\\Keyword_Extraction\\가게별 키워드 개수\\북촌_22년4분기_가게별_키워드갯수.csv')\n",
    "b32=pd.read_csv(r'C:\\Users\\user\\OneDrive\\바탕화~1-DESKTOP-R00ORLS-348\\캡스톤\\Keyword_Extraction\\가게별 키워드 개수\\북촌_22년3분기_가게별_키워드2갯수.csv')\n",
    "b42=pd.read_csv(r'C:\\Users\\user\\OneDrive\\바탕화~1-DESKTOP-R00ORLS-348\\캡스톤\\Keyword_Extraction\\가게별 키워드 개수\\북촌_22년4분기_가게별_키워드2갯수.csv')"
   ]
  },
  {
   "cell_type": "code",
   "execution_count": 40,
   "metadata": {},
   "outputs": [],
   "source": [
    "s3=pd.read_csv(r'C:\\Users\\user\\OneDrive\\바탕화~1-DESKTOP-R00ORLS-348\\캡스톤\\Keyword_Extraction\\가게별 키워드 개수\\성수_22년3분기_가게별_키워드갯수.csv')\n",
    "s4=pd.read_csv(r'C:\\Users\\user\\OneDrive\\바탕화~1-DESKTOP-R00ORLS-348\\캡스톤\\Keyword_Extraction\\가게별 키워드 개수\\성수_22년4분기_가게별_키워드갯수.csv')\n",
    "s32=pd.read_csv(r'C:\\Users\\user\\OneDrive\\바탕화~1-DESKTOP-R00ORLS-348\\캡스톤\\Keyword_Extraction\\가게별 키워드 개수\\성수_22년3분기_가게별_키워드2갯수.csv')\n",
    "s42=pd.read_csv(r'C:\\Users\\user\\OneDrive\\바탕화~1-DESKTOP-R00ORLS-348\\캡스톤\\Keyword_Extraction\\가게별 키워드 개수\\성수_22년4분기_가게별_키워드2갯수.csv')"
   ]
  },
  {
   "cell_type": "code",
   "execution_count": 41,
   "metadata": {},
   "outputs": [],
   "source": [
    "sc3=pd.read_csv(r'C:\\Users\\user\\OneDrive\\바탕화~1-DESKTOP-R00ORLS-348\\캡스톤\\Keyword_Extraction\\가게별 키워드 개수\\신촌_22년3분기_가게별_키워드갯수.csv')\n",
    "sc4=pd.read_csv(r'C:\\Users\\user\\OneDrive\\바탕화~1-DESKTOP-R00ORLS-348\\캡스톤\\Keyword_Extraction\\가게별 키워드 개수\\신촌_22년4분기_가게별_키워드갯수.csv')\n",
    "sc32=pd.read_csv(r'C:\\Users\\user\\OneDrive\\바탕화~1-DESKTOP-R00ORLS-348\\캡스톤\\Keyword_Extraction\\가게별 키워드 개수\\신촌_22년3분기_가게별_키워드2갯수.csv')\n",
    "sc42=pd.read_csv(r'C:\\Users\\user\\OneDrive\\바탕화~1-DESKTOP-R00ORLS-348\\캡스톤\\Keyword_Extraction\\가게별 키워드 개수\\신촌_22년4분기_가게별_키워드2갯수.csv')"
   ]
  },
  {
   "cell_type": "code",
   "execution_count": 31,
   "metadata": {},
   "outputs": [],
   "source": [
    "b3.dropna(axis=0,inplace=True)\n",
    "b3=b3.reset_index(drop=True)\n",
    "\n",
    "b4.dropna(axis=0,inplace=True)\n",
    "b4=b4.reset_index(drop=True)\n",
    "\n",
    "b32.dropna(axis=0,inplace=True)\n",
    "b32=b32.reset_index(drop=True)\n",
    "\n",
    "b42.dropna(axis=0,inplace=True)\n",
    "b42=b42.reset_index(drop=True)"
   ]
  },
  {
   "cell_type": "code",
   "execution_count": 42,
   "metadata": {},
   "outputs": [],
   "source": [
    "s3.dropna(axis=0,inplace=True)\n",
    "s3=s3.reset_index(drop=True)\n",
    "\n",
    "s4.dropna(axis=0,inplace=True)\n",
    "s4=s4.reset_index(drop=True)\n",
    "\n",
    "s32.dropna(axis=0,inplace=True)\n",
    "s32=s32.reset_index(drop=True)\n",
    "\n",
    "s42.dropna(axis=0,inplace=True)\n",
    "s42=s42.reset_index(drop=True)"
   ]
  },
  {
   "cell_type": "code",
   "execution_count": 43,
   "metadata": {},
   "outputs": [],
   "source": [
    "sc3.dropna(axis=0,inplace=True)\n",
    "sc3=sc3.reset_index(drop=True)\n",
    "\n",
    "sc4.dropna(axis=0,inplace=True)\n",
    "sc4=sc4.reset_index(drop=True)\n",
    "\n",
    "sc32.dropna(axis=0,inplace=True)\n",
    "sc32=sc32.reset_index(drop=True)\n",
    "\n",
    "sc42.dropna(axis=0,inplace=True)\n",
    "sc42=sc42.reset_index(drop=True)"
   ]
  },
  {
   "cell_type": "code",
   "execution_count": 34,
   "metadata": {},
   "outputs": [],
   "source": [
    "remove_list=['너무','다','먹다','가다','보다','분들','않다','오다','요','팡','정말','도르다','이르다','진짜','곳','대체','리뷰','되다','설다','없다',\n",
    "             '건물','들다','가보다','말다','점','인','고','분','비','요','한','두','인데','랑','베','판매','님','양','라','내','엔','팅','나오다','메뉴',\n",
    "             '느껴지다','으로도','해주다','설다','알다','흘리다','직원분들','들다','이에요','이라','갈다','날','그냥']"
   ]
  },
  {
   "attachments": {},
   "cell_type": "markdown",
   "metadata": {},
   "source": [
    "- 분, 비 가 같이 나란히 나오거나 키워드 개수가 같은데 뭔가 바뀐 느낌. \n",
    "- 분명 웨이팅도 고쳤는데 왜 분리되어있을까\n",
    "\n"
   ]
  },
  {
   "cell_type": "code",
   "execution_count": 35,
   "metadata": {},
   "outputs": [],
   "source": [
    "def remove_keyword(df):\n",
    "    remove_idx=df[df['키워드'].isin(remove_list)].index\n",
    "    df=df.drop(remove_idx)\n",
    "    df=df.reset_index(drop=True)\n",
    "    return df"
   ]
  },
  {
   "cell_type": "code",
   "execution_count": 38,
   "metadata": {},
   "outputs": [],
   "source": [
    "b3=remove_keyword(b3)\n",
    "b4=remove_keyword(b4)\n",
    "b32=remove_keyword(b32)\n",
    "b42=remove_keyword(b42)"
   ]
  },
  {
   "cell_type": "code",
   "execution_count": 44,
   "metadata": {},
   "outputs": [],
   "source": [
    "s3=remove_keyword(s3)\n",
    "s4=remove_keyword(s4)\n",
    "s32=remove_keyword(s32)\n",
    "s42=remove_keyword(s42)"
   ]
  },
  {
   "cell_type": "code",
   "execution_count": 45,
   "metadata": {},
   "outputs": [],
   "source": [
    "sc3=remove_keyword(sc3)\n",
    "sc4=remove_keyword(sc4)\n",
    "sc32=remove_keyword(sc32)\n",
    "sc42=remove_keyword(sc42)"
   ]
  },
  {
   "cell_type": "code",
   "execution_count": 46,
   "metadata": {},
   "outputs": [],
   "source": [
    "b3.to_csv('가게별 키워드 개수/북촌_22년3분기_가게별_키워드갯수.csv',index=False)\n",
    "b4.to_csv('가게별 키워드 개수/북촌_22년4분기_가게별_키워드갯수.csv',index=False)\n",
    "b32.to_csv('가게별 키워드 개수/북촌_22년3분기_가게별_키워드2갯수.csv',index=False)\n",
    "b42.to_csv('가게별 키워드 개수/북촌_22년4분기_가게별_키워드2갯수.csv',index=False)"
   ]
  },
  {
   "cell_type": "code",
   "execution_count": 47,
   "metadata": {},
   "outputs": [],
   "source": [
    "s3.to_csv('가게별 키워드 개수/성수_22년3분기_가게별_키워드갯수.csv',index=False)\n",
    "s4.to_csv('가게별 키워드 개수/성수_22년4분기_가게별_키워드갯수.csv',index=False)\n",
    "s32.to_csv('가게별 키워드 개수/성수_22년3분기_가게별_키워드2갯수.csv',index=False)\n",
    "s42.to_csv('가게별 키워드 개수/성수_22년4분기_가게별_키워드2갯수.csv',index=False)"
   ]
  },
  {
   "cell_type": "code",
   "execution_count": 48,
   "metadata": {},
   "outputs": [],
   "source": [
    "sc3.to_csv('가게별 키워드 개수/신촌_22년3분기_가게별_키워드갯수.csv',index=False)\n",
    "sc4.to_csv('가게별 키워드 개수/신촌_22년4분기_가게별_키워드갯수.csv',index=False)\n",
    "sc32.to_csv('가게별 키워드 개수/신촌_22년3분기_가게별_키워드2갯수.csv',index=False)\n",
    "sc42.to_csv('가게별 키워드 개수/신촌_22년4분기_가게별_키워드2갯수.csv',index=False)"
   ]
  },
  {
   "cell_type": "code",
   "execution_count": null,
   "metadata": {},
   "outputs": [],
   "source": []
  }
 ],
 "metadata": {
  "kernelspec": {
   "display_name": "capstone",
   "language": "python",
   "name": "python3"
  },
  "language_info": {
   "codemirror_mode": {
    "name": "ipython",
    "version": 3
   },
   "file_extension": ".py",
   "mimetype": "text/x-python",
   "name": "python",
   "nbconvert_exporter": "python",
   "pygments_lexer": "ipython3",
   "version": "3.11.2"
  },
  "orig_nbformat": 4
 },
 "nbformat": 4,
 "nbformat_minor": 2
}
