{
 "cells": [
  {
   "cell_type": "code",
   "execution_count": 1,
   "metadata": {},
   "outputs": [],
   "source": [
    "import pandas as pd"
   ]
  },
  {
   "cell_type": "code",
   "execution_count": 553,
   "metadata": {},
   "outputs": [],
   "source": [
    "b3=pd.read_csv(r'C:\\Users\\qkrwl\\OneDrive\\바탕 화면\\캡스톤\\Keyword_Extraction\\가게별 키워드 개수\\북촌_22년3분기_가게별_키워드갯수.csv')\n",
    "b4=pd.read_csv(r'C:\\Users\\qkrwl\\OneDrive\\바탕 화면\\캡스톤\\Keyword_Extraction\\가게별 키워드 개수\\북촌_22년4분기_가게별_키워드갯수.csv')\n",
    "b32=pd.read_csv(r'C:\\Users\\qkrwl\\OneDrive\\바탕 화면\\캡스톤\\Keyword_Extraction\\가게별 키워드 개수\\북촌_22년3분기_가게별_키워드2갯수.csv')\n",
    "b42=pd.read_csv(r'C:\\Users\\qkrwl\\OneDrive\\바탕 화면\\캡스톤\\Keyword_Extraction\\가게별 키워드 개수\\북촌_22년4분기_가게별_키워드2갯수.csv')"
   ]
  },
  {
   "cell_type": "code",
   "execution_count": 554,
   "metadata": {},
   "outputs": [],
   "source": [
    "s3=pd.read_csv(r'C:\\Users\\qkrwl\\OneDrive\\바탕 화면\\캡스톤\\Keyword_Extraction\\가게별 키워드 개수\\성수_22년3분기_가게별_키워드갯수.csv')\n",
    "s4=pd.read_csv(r'C:\\Users\\qkrwl\\OneDrive\\바탕 화면\\캡스톤\\Keyword_Extraction\\가게별 키워드 개수\\성수_22년4분기_가게별_키워드갯수.csv')\n",
    "s32=pd.read_csv(r'C:\\Users\\qkrwl\\OneDrive\\바탕 화면\\캡스톤\\Keyword_Extraction\\가게별 키워드 개수\\성수_22년3분기_가게별_키워드2갯수.csv')\n",
    "s42=pd.read_csv(r'C:\\Users\\qkrwl\\OneDrive\\바탕 화면\\캡스톤\\Keyword_Extraction\\가게별 키워드 개수\\성수_22년4분기_가게별_키워드2갯수.csv')"
   ]
  },
  {
   "cell_type": "code",
   "execution_count": 555,
   "metadata": {},
   "outputs": [],
   "source": [
    "sc3=pd.read_csv(r'C:\\Users\\qkrwl\\OneDrive\\바탕 화면\\캡스톤\\Keyword_Extraction\\가게별 키워드 개수\\신촌_22년3분기_가게별_키워드갯수.csv')\n",
    "sc4=pd.read_csv(r'C:\\Users\\qkrwl\\OneDrive\\바탕 화면\\캡스톤\\Keyword_Extraction\\가게별 키워드 개수\\신촌_22년4분기_가게별_키워드갯수.csv')\n",
    "sc32=pd.read_csv(r'C:\\Users\\qkrwl\\OneDrive\\바탕 화면\\캡스톤\\Keyword_Extraction\\가게별 키워드 개수\\신촌_22년3분기_가게별_키워드2갯수.csv')\n",
    "sc42=pd.read_csv(r'C:\\Users\\qkrwl\\OneDrive\\바탕 화면\\캡스톤\\Keyword_Extraction\\가게별 키워드 개수\\신촌_22년4분기_가게별_키워드2갯수.csv')"
   ]
  },
  {
   "cell_type": "code",
   "execution_count": 556,
   "metadata": {},
   "outputs": [],
   "source": [
    "sc12=pd.read_csv(r'C:\\Users\\qkrwl\\OneDrive\\바탕 화면\\캡스톤\\Keyword_Extraction\\가게별 키워드 개수\\신촌_23년1분기_가게별_키워드2갯수.csv')"
   ]
  },
  {
   "cell_type": "code",
   "execution_count": 150,
   "metadata": {},
   "outputs": [
    {
     "data": {
      "text/html": [
       "<div>\n",
       "<style scoped>\n",
       "    .dataframe tbody tr th:only-of-type {\n",
       "        vertical-align: middle;\n",
       "    }\n",
       "\n",
       "    .dataframe tbody tr th {\n",
       "        vertical-align: top;\n",
       "    }\n",
       "\n",
       "    .dataframe thead th {\n",
       "        text-align: right;\n",
       "    }\n",
       "</style>\n",
       "<table border=\"1\" class=\"dataframe\">\n",
       "  <thead>\n",
       "    <tr style=\"text-align: right;\">\n",
       "      <th></th>\n",
       "      <th>상가업소번호</th>\n",
       "      <th>가게명</th>\n",
       "      <th>키워드</th>\n",
       "      <th>갯수</th>\n",
       "    </tr>\n",
       "  </thead>\n",
       "  <tbody>\n",
       "    <tr>\n",
       "      <th>0</th>\n",
       "      <td>MA010120220814100801</td>\n",
       "      <td>커피크레페본점</td>\n",
       "      <td>귀엽다 맛있다</td>\n",
       "      <td>39</td>\n",
       "    </tr>\n",
       "    <tr>\n",
       "      <th>1</th>\n",
       "      <td>MA010120220814100801</td>\n",
       "      <td>커피크레페본점</td>\n",
       "      <td>크레페 맛있다</td>\n",
       "      <td>19</td>\n",
       "    </tr>\n",
       "    <tr>\n",
       "      <th>2</th>\n",
       "      <td>MA010120220814100801</td>\n",
       "      <td>커피크레페본점</td>\n",
       "      <td>맛있게 먹다</td>\n",
       "      <td>16</td>\n",
       "    </tr>\n",
       "    <tr>\n",
       "      <th>3</th>\n",
       "      <td>MA010120220814100801</td>\n",
       "      <td>커피크레페본점</td>\n",
       "      <td>친절한 사장님</td>\n",
       "      <td>14</td>\n",
       "    </tr>\n",
       "    <tr>\n",
       "      <th>4</th>\n",
       "      <td>MA0101202301A0105088</td>\n",
       "      <td>백소정 신촌점</td>\n",
       "      <td>매장 넓다</td>\n",
       "      <td>15</td>\n",
       "    </tr>\n",
       "  </tbody>\n",
       "</table>\n",
       "</div>"
      ],
      "text/plain": [
       "                 상가업소번호      가게명      키워드  갯수\n",
       "0  MA010120220814100801  커피크레페본점  귀엽다 맛있다  39\n",
       "1  MA010120220814100801  커피크레페본점  크레페 맛있다  19\n",
       "2  MA010120220814100801  커피크레페본점   맛있게 먹다  16\n",
       "3  MA010120220814100801  커피크레페본점  친절한 사장님  14\n",
       "4  MA0101202301A0105088  백소정 신촌점    매장 넓다  15"
      ]
     },
     "execution_count": 150,
     "metadata": {},
     "output_type": "execute_result"
    }
   ],
   "source": [
    "sc12.head()"
   ]
  },
  {
   "cell_type": "code",
   "execution_count": 324,
   "metadata": {},
   "outputs": [],
   "source": [
    "b3.dropna(axis=0,inplace=True)\n",
    "b3=b3.reset_index(drop=True)\n",
    "\n",
    "b4.dropna(axis=0,inplace=True)\n",
    "b4=b4.reset_index(drop=True)\n",
    "\n",
    "b32.dropna(axis=0,inplace=True)\n",
    "b32=b32.reset_index(drop=True)\n",
    "\n",
    "b42.dropna(axis=0,inplace=True)\n",
    "b42=b42.reset_index(drop=True)"
   ]
  },
  {
   "cell_type": "code",
   "execution_count": 325,
   "metadata": {},
   "outputs": [],
   "source": [
    "s3.dropna(axis=0,inplace=True)\n",
    "s3=s3.reset_index(drop=True)\n",
    "\n",
    "s4.dropna(axis=0,inplace=True)\n",
    "s4=s4.reset_index(drop=True)\n",
    "\n",
    "s32.dropna(axis=0,inplace=True)\n",
    "s32=s32.reset_index(drop=True)\n",
    "\n",
    "s42.dropna(axis=0,inplace=True)\n",
    "s42=s42.reset_index(drop=True)"
   ]
  },
  {
   "cell_type": "code",
   "execution_count": 326,
   "metadata": {},
   "outputs": [],
   "source": [
    "sc3.dropna(axis=0,inplace=True)\n",
    "sc3=sc3.reset_index(drop=True)\n",
    "\n",
    "sc4.dropna(axis=0,inplace=True)\n",
    "sc4=sc4.reset_index(drop=True)\n",
    "\n",
    "sc32.dropna(axis=0,inplace=True)\n",
    "sc32=sc32.reset_index(drop=True)\n",
    "\n",
    "sc42.dropna(axis=0,inplace=True)\n",
    "sc42=sc42.reset_index(drop=True)"
   ]
  },
  {
   "cell_type": "code",
   "execution_count": 327,
   "metadata": {},
   "outputs": [],
   "source": [
    "sc12.dropna(axis=0,inplace=True)\n",
    "sc12=sc12.reset_index(drop=True)"
   ]
  },
  {
   "cell_type": "code",
   "execution_count": 300,
   "metadata": {},
   "outputs": [
    {
     "name": "stdout",
     "output_type": "stream",
     "text": [
      "<class 'pandas.core.frame.DataFrame'>\n",
      "RangeIndex: 12771 entries, 0 to 12770\n",
      "Data columns (total 4 columns):\n",
      " #   Column  Non-Null Count  Dtype \n",
      "---  ------  --------------  ----- \n",
      " 0   상가업소번호  12771 non-null  object\n",
      " 1   가게명     12771 non-null  object\n",
      " 2   키워드     12771 non-null  object\n",
      " 3   갯수      12771 non-null  int64 \n",
      "dtypes: int64(1), object(3)\n",
      "memory usage: 399.2+ KB\n"
     ]
    }
   ],
   "source": [
    "sc12.info()"
   ]
  },
  {
   "attachments": {},
   "cell_type": "markdown",
   "metadata": {},
   "source": [
    "\n",
    "- 키워드2에서 공백 2개 replace\n",
    "- 짜지다 않다->짜지 않다\n",
    "- 맛있다  먹다->맛있게 먹다\n",
    "- 키워드 좌우 공백 없애기 strip\n",
    "- 키워드 1개 인건 없애기"
   ]
  },
  {
   "attachments": {},
   "cell_type": "markdown",
   "metadata": {},
   "source": [
    "### 불용어 없애기"
   ]
  },
  {
   "cell_type": "code",
   "execution_count": 232,
   "metadata": {},
   "outputs": [
    {
     "data": {
      "text/plain": [
       "['아', '휴', '아이구', '아이쿠', '아이고', '어', '나', '우리', '저희', '따라']"
      ]
     },
     "execution_count": 232,
     "metadata": {},
     "output_type": "execute_result"
    }
   ],
   "source": [
    "#한국어 불용어 사전 만들기\n",
    "\n",
    "korean_stopwords_list='한국어 불용어.txt'\n",
    "    \n",
    "#한국어 불용어 txt 오픈\n",
    "with open(korean_stopwords_list,encoding='utf-8') as f:\n",
    "    stopwords=f.readlines()\n",
    "\n",
    "stopwords=[x.strip() for x in stopwords]\n",
    "stopwords[:10]"
   ]
  },
  {
   "cell_type": "code",
   "execution_count": 524,
   "metadata": {},
   "outputs": [],
   "source": [
    "remove_list=['너무','다','먹다','가다','보다','분들','않다','오다','요','팡','정말','도르다','이르다','진짜','곳','대체','리뷰','되다','설다','없다',\n",
    "             '건물','들다','가보다','말다','점','인','고','분','비','요','한','두','인데','랑','베','판매','님','양','라','내','엔','팅','나오다','메뉴',\n",
    "             '느껴지다','으로도','해주다','설다','알다','흘리다','직원분들','들다','이에요','이라','갈다','날','그냥','역시','대체 리뷰','음식','대다',\n",
    "             '먹다 보다','싶다','엄청','처음','다 들다','끈','서','인거','게','믿다','시','위','에요','함','집','식','휘','못','곳일','글쎄','째','적','나다','기','듯','보고',\n",
    "             '목','척','에는','나용','거','데','만','먹기','께서','남자','층','에도','욥','잘',\n",
    "             '천','가장','수','살다','리','본','쏘다','이네','오래','오랜','받다','아니다','방문','가도','근처','느끼다','','맛','모르다','이전','느낌','앞','담 엔','말','부분','모든','가다 들다','미리','가격','선택','다시',\n",
    "             '모양','없이','정도','찾다','달라 고','가다 보다','먹다 보다','끼','너무 너무','오다 보다','생기다 오다 보다','맛 요','먹다 오다','먹다 가다','먹다 엔','좋다 맛','이랑','토','도','살','전반 적','가다 곳'\n",
    "             ]"
   ]
  },
  {
   "cell_type": "code",
   "execution_count": 525,
   "metadata": {},
   "outputs": [],
   "source": [
    "def remove_keyword(df):\n",
    "    remove_idx=df[df['키워드'].isin(remove_list)].index\n",
    "    df=df.drop(remove_idx)\n",
    "    df=df.reset_index(drop=True)\n",
    "    return df"
   ]
  },
  {
   "cell_type": "code",
   "execution_count": 526,
   "metadata": {},
   "outputs": [],
   "source": [
    "b3=remove_keyword(b3)\n",
    "b4=remove_keyword(b4)\n",
    "b32=remove_keyword(b32)\n",
    "b42=remove_keyword(b42)"
   ]
  },
  {
   "cell_type": "code",
   "execution_count": 527,
   "metadata": {},
   "outputs": [],
   "source": [
    "s3=remove_keyword(s3)\n",
    "s4=remove_keyword(s4)\n",
    "s32=remove_keyword(s32)\n",
    "s42=remove_keyword(s42)"
   ]
  },
  {
   "cell_type": "code",
   "execution_count": 528,
   "metadata": {},
   "outputs": [],
   "source": [
    "sc3=remove_keyword(sc3)\n",
    "sc4=remove_keyword(sc4)\n",
    "sc32=remove_keyword(sc32)\n",
    "sc42=remove_keyword(sc42)"
   ]
  },
  {
   "cell_type": "code",
   "execution_count": 529,
   "metadata": {},
   "outputs": [],
   "source": [
    "sc12=remove_keyword(sc12)"
   ]
  },
  {
   "cell_type": "code",
   "execution_count": 180,
   "metadata": {},
   "outputs": [
    {
     "name": "stdout",
     "output_type": "stream",
     "text": [
      "<class 'pandas.core.frame.DataFrame'>\n",
      "RangeIndex: 12831 entries, 0 to 12830\n",
      "Data columns (total 4 columns):\n",
      " #   Column  Non-Null Count  Dtype \n",
      "---  ------  --------------  ----- \n",
      " 0   상가업소번호  12831 non-null  object\n",
      " 1   가게명     12831 non-null  object\n",
      " 2   키워드     12831 non-null  object\n",
      " 3   갯수      12831 non-null  int64 \n",
      "dtypes: int64(1), object(3)\n",
      "memory usage: 401.1+ KB\n"
     ]
    }
   ],
   "source": [
    "sc12.info()"
   ]
  },
  {
   "attachments": {},
   "cell_type": "markdown",
   "metadata": {},
   "source": []
  },
  {
   "attachments": {},
   "cell_type": "markdown",
   "metadata": {},
   "source": [
    "### 좌우공백 없애기"
   ]
  },
  {
   "cell_type": "code",
   "execution_count": 45,
   "metadata": {},
   "outputs": [],
   "source": [
    "def remove_empty(s):\n",
    "    s=s.strip()\n",
    "    return s"
   ]
  },
  {
   "cell_type": "code",
   "execution_count": 39,
   "metadata": {},
   "outputs": [],
   "source": [
    "b3['키워드']=b3['키워드'].apply(remove_empty)\n",
    "b4['키워드']=b4['키워드'].apply(remove_empty)\n",
    "b32['키워드']=b32['키워드'].apply(remove_empty)\n",
    "b42['키워드']=b42['키워드'].apply(remove_empty)"
   ]
  },
  {
   "cell_type": "code",
   "execution_count": 40,
   "metadata": {},
   "outputs": [],
   "source": [
    "s3['키워드']=s3['키워드'].apply(remove_empty)\n",
    "s4['키워드']=s4['키워드'].apply(remove_empty)\n",
    "s32['키워드']=s32['키워드'].apply(remove_empty)\n",
    "s42['키워드']=s42['키워드'].apply(remove_empty)"
   ]
  },
  {
   "cell_type": "code",
   "execution_count": 41,
   "metadata": {},
   "outputs": [],
   "source": [
    "sc3['키워드']=sc3['키워드'].apply(remove_empty)\n",
    "sc4['키워드']=sc4['키워드'].apply(remove_empty)\n",
    "sc32['키워드']=sc32['키워드'].apply(remove_empty)\n",
    "sc42['키워드']=sc42['키워드'].apply(remove_empty)"
   ]
  },
  {
   "cell_type": "code",
   "execution_count": 46,
   "metadata": {},
   "outputs": [],
   "source": [
    "sc12['키워드']=sc12['키워드'].apply(remove_empty)"
   ]
  },
  {
   "attachments": {},
   "cell_type": "markdown",
   "metadata": {},
   "source": [
    "### 띄어쓰기 2개 이상인거 1개로 바꾸기"
   ]
  },
  {
   "cell_type": "code",
   "execution_count": 47,
   "metadata": {},
   "outputs": [],
   "source": [
    "def empty_more(s):\n",
    "    text=' '.join(s.split())\n",
    "    return text"
   ]
  },
  {
   "cell_type": "code",
   "execution_count": 43,
   "metadata": {},
   "outputs": [],
   "source": [
    "b32['키워드']=b32['키워드'].apply(empty_more)\n",
    "b42['키워드']=b42['키워드'].apply(empty_more)"
   ]
  },
  {
   "cell_type": "code",
   "execution_count": 44,
   "metadata": {},
   "outputs": [],
   "source": [
    "s32['키워드']=s32['키워드'].apply(empty_more)\n",
    "s42['키워드']=s42['키워드'].apply(empty_more)"
   ]
  },
  {
   "cell_type": "code",
   "execution_count": 45,
   "metadata": {},
   "outputs": [],
   "source": [
    "sc32['키워드']=sc32['키워드'].apply(empty_more)\n",
    "sc42['키워드']=sc42['키워드'].apply(empty_more)"
   ]
  },
  {
   "cell_type": "code",
   "execution_count": 48,
   "metadata": {},
   "outputs": [],
   "source": [
    "sc12['키워드']=sc12['키워드'].apply(empty_more)"
   ]
  },
  {
   "cell_type": "code",
   "execution_count": 46,
   "metadata": {},
   "outputs": [],
   "source": [
    "b32.to_csv('가게별 키워드 개수/북촌_22년3분기_가게별_키워드2갯수.csv',index=False)\n",
    "b42.to_csv('가게별 키워드 개수/북촌_22년4분기_가게별_키워드2갯수.csv',index=False)"
   ]
  },
  {
   "cell_type": "code",
   "execution_count": 47,
   "metadata": {},
   "outputs": [],
   "source": [
    "s32.to_csv('가게별 키워드 개수/성수_22년3분기_가게별_키워드2갯수.csv',index=False)\n",
    "s42.to_csv('가게별 키워드 개수/성수_22년4분기_가게별_키워드2갯수.csv',index=False)"
   ]
  },
  {
   "cell_type": "code",
   "execution_count": 48,
   "metadata": {},
   "outputs": [],
   "source": [
    "sc32.to_csv('가게별 키워드 개수/신촌_22년3분기_가게별_키워드2갯수.csv',index=False)\n",
    "sc42.to_csv('가게별 키워드 개수/신촌_22년4분기_가게별_키워드2갯수.csv',index=False)"
   ]
  },
  {
   "attachments": {},
   "cell_type": "markdown",
   "metadata": {},
   "source": [
    "### 단어바꾸기\n",
    "\n",
    "(\"하이 볼\", \"하이볼\").replace(\"대화 좋다\", \"대화하기 좋다\").replace(\"공부 좋다\", \"공부하기 좋다\").replace(\"얘기 좋다\", \"대화하기 좋다\").replace(\"공 짜\", \"공짜\").replace(\"디카 페인\", \"디카페인\").replace(\"비건 카페\", \"비건카페\").replace(\" 떡\", \"떡\").replace(\"깔끔하다 맛있다\", \"깔끔하게 맛있다\").replace(\" 층\", \"층\").replace(\" 개\", \"개\").replace(\"앙 버터\", \"앙버터\").replace(\"갈다 마다\", \"갈때마다\").replace(\"경 양식\", \"경양식\").replace(\"재밌다 놀다\", \"재밌게 놀다\").replace(\"재밌다 놀다\", \"재밌게 놀다\").replace(\"친구 끼리\", \"친구끼리\").replace(\"조개 구이\", \"조개구이\").replace(\"웨이팅 팅\", \"웨이팅\").replace(\"고 메\", \"고메\").replace(\"소 면\", \"소면\").replace(\" 면\", \"면\").replace(\"분 짜\", \"분짜\").replace(\"고 슬\", \"고슬\").replace(\"재밌다 놀다\", \"재밌게 놀다\").replace(\"재밌다 놀다\", \"재밌게 놀다\").replace(\"친구 끼리\", \"친구끼리\").replace(\"조개 구이\", \"조개구이\").replace(\"웨이팅 팅\", \"웨이팅\").replace(\"깔끔하다 맛있다\", \"깔끔하게 맛있다\").replace(\" 층\", \"층\").replace(\" 개\", \"개\").replace(\"앙 버터\", \"앙버터\").replace(\"갈다 마다\", \"갈때마다\").replace(\"경 양식\", \"경양식\").replace(\"고 메\", \"고메\").replace(\"소 면\", \"소면\").replace(\" 면\", \"면\").replace(\"분 짜\", \"분짜\").replace(\"고 슬\", \"고슬\").replace(\"쉬 림프\", \"쉬림프\").replace(\" 이랑\", \"이랑\").replace(\"쌍 화차\", \"쌍화차\").replace(\" 인\", \"인\").replace(\"공 깃밥\", \"공기밥\").replace(\"합리적 이라\", \"합리적이다\").replace(\"가족 끼리\", \"가족끼리\").replace(\"냉 모밀\", \"냉모밀\").replace(\"백 짬뽕\", \"백짬뽕\").replace(\"겉바 속 촉\", \"겉바속촉\").replace(\"짜지다 않다\", \"짜지 않다\").replace(\"맛있다 먹다\", \"맛있게 먹다\").replace(\"감 바스\", \"감바스\").replace(\"웨이\", \"웨이팅\").replace(\"매다\", \"맵다\").replace(\"달 지\", \"달지\").replace(\" 향\", \"향\").replace(\"리 코타\", \"리코타 치즈\").replace(\"감 튀\", \"감자튀김\").replace(\"테이블 링\", \"테이블링\").replace(\"선물 용\", \"선물용\").replace(\" 알\", \"알\").replace(\"노리다 끼\", \"노리마끼\").replace(\"규 카츠\", \"규 카츠\").replace(\"루 프탑\", \"루프탑\").replace(\"규 카츠\", \"규카츠\").replace(\"루프 탑\", \"루프탑\").replace(\"로우 키\", \"로우키\").replace(\"포토 존\", \"포토존\").replace(\"대화 좋다\", \"대화하기 좋다\").replace(\"공부 좋다\", \"공부하기 좋다\").replace(\"얘기 좋다\", \"대화하기 좋다\").replace(\"다운 타우\", \"다운타우너\").replace(\"가다 비 서다\", \"가성비 좋다\").replace(\"메 커피\", \"메가 커피\").replace(\"페스 츄리\", \"페스츄리\").replace(\"덮다 밥\", \"덮밥\").replace(\"라 떼이다\", \"라떼\").replace(\"바삭 한\", \"바삭한\").replace(' 메뉴','메뉴').replace('상큼 한','상큼한').replace('반 쎄다','반쎄오').replace('반 세','반쎄오').replace('유린 기','유린기').replace('유린 기','유린기').replace(' 점','점')"
   ]
  },
  {
   "cell_type": "code",
   "execution_count": 557,
   "metadata": {},
   "outputs": [],
   "source": [
    "import re\n",
    "\n",
    "def replace_word(text):\n",
    "    text2 = text.replace('감자 튀김','감자튀김').replace('순 대국','순대국').replace('가격 비다','가격 비싸다').replace('핸드 메이드','핸드메이드').replace('냉 소바','냉소바')\n",
    "    return text2"
   ]
  },
  {
   "cell_type": "code",
   "execution_count": 558,
   "metadata": {},
   "outputs": [],
   "source": [
    "b3['키워드']=b3['키워드'].apply(replace_word)\n",
    "b4['키워드']=b4['키워드'].apply(replace_word)\n",
    "b32['키워드']=b32['키워드'].apply(replace_word)\n",
    "b42['키워드']=b42['키워드'].apply(replace_word)"
   ]
  },
  {
   "cell_type": "code",
   "execution_count": 559,
   "metadata": {},
   "outputs": [],
   "source": [
    "s3['키워드']=s3['키워드'].apply(replace_word)\n",
    "s4['키워드']=s4['키워드'].apply(replace_word)\n",
    "s32['키워드']=s32['키워드'].apply(replace_word)\n",
    "s42['키워드']=s42['키워드'].apply(replace_word)"
   ]
  },
  {
   "cell_type": "code",
   "execution_count": 560,
   "metadata": {},
   "outputs": [],
   "source": [
    "sc3['키워드']=sc3['키워드'].apply(replace_word)\n",
    "sc4['키워드']=sc4['키워드'].apply(replace_word)\n",
    "sc32['키워드']=sc32['키워드'].apply(replace_word)\n",
    "sc42['키워드']=sc42['키워드'].apply(replace_word)"
   ]
  },
  {
   "cell_type": "code",
   "execution_count": 561,
   "metadata": {},
   "outputs": [],
   "source": [
    "sc12['키워드']=sc12['키워드'].apply(replace_word)\n"
   ]
  },
  {
   "attachments": {},
   "cell_type": "markdown",
   "metadata": {},
   "source": [
    "### 한단어인것 삭제"
   ]
  },
  {
   "cell_type": "code",
   "execution_count": 52,
   "metadata": {},
   "outputs": [],
   "source": [
    "#만약에 문장에 공백이 있으면 그대로 두고, 없으면 삭제\n",
    "\n",
    "def one_word(df):\n",
    "    new_df=df[df['키워드'].str.contains(' ')==True]\n",
    "    new_df=new_df.reset_index(drop=True)\n",
    "    \n",
    "    return new_df\n"
   ]
  },
  {
   "cell_type": "code",
   "execution_count": 53,
   "metadata": {},
   "outputs": [],
   "source": [
    "b32_1=one_word(b32)\n",
    "b42_1=one_word(b42)"
   ]
  },
  {
   "cell_type": "code",
   "execution_count": 54,
   "metadata": {},
   "outputs": [],
   "source": [
    "s32_1=one_word(s32)\n",
    "s42_1=one_word(s42)"
   ]
  },
  {
   "cell_type": "code",
   "execution_count": 55,
   "metadata": {},
   "outputs": [],
   "source": [
    "sc32_1=one_word(sc32)\n",
    "sc42_1=one_word(sc42)"
   ]
  },
  {
   "cell_type": "code",
   "execution_count": 54,
   "metadata": {},
   "outputs": [],
   "source": [
    "sc12=one_word(sc12)"
   ]
  },
  {
   "attachments": {},
   "cell_type": "markdown",
   "metadata": {},
   "source": [
    "### 너무 가 들어간 것 삭제"
   ]
  },
  {
   "cell_type": "code",
   "execution_count": 99,
   "metadata": {},
   "outputs": [],
   "source": [
    "import warnings\n",
    "warnings.filterwarnings(\"ignore\")"
   ]
  },
  {
   "cell_type": "code",
   "execution_count": 100,
   "metadata": {},
   "outputs": [],
   "source": [
    "def soso_remove(s):\n",
    "    s=s.replace(\"너무 \",\"\").replace(\" 너무\",\"\").replace(\" 너무 \",\" \")\n",
    "    return s\n",
    "\n",
    "def soso(df):\n",
    "    soso_list=[]\n",
    "    for i in range(len(df)):\n",
    "        df['키워드'][i]=soso_remove(df['키워드'][i])\n",
    "        s=df['키워드'][i]\n",
    "        #공백이 있다면\n",
    "        if ' ' not in s:\n",
    "            soso_list.append(i)\n",
    "\n",
    "    return soso_list\n",
    "        "
   ]
  },
  {
   "cell_type": "code",
   "execution_count": 101,
   "metadata": {},
   "outputs": [],
   "source": [
    "sc12_list=soso(sc12)"
   ]
  },
  {
   "cell_type": "code",
   "execution_count": null,
   "metadata": {},
   "outputs": [],
   "source": [
    "b3['키워드']=b3['키워드'].apply(replace_word)\n",
    "b4['키워드']=b4['키워드'].apply(replace_word)\n",
    "b32['키워드']=b32['키워드'].apply(replace_word)\n",
    "b42['키워드']=b42['키워드'].apply(replace_word)"
   ]
  },
  {
   "cell_type": "code",
   "execution_count": 217,
   "metadata": {},
   "outputs": [],
   "source": [
    "\n",
    "b32_list=soso(b32)\n",
    "b42_list=soso(b42)"
   ]
  },
  {
   "cell_type": "code",
   "execution_count": 218,
   "metadata": {},
   "outputs": [],
   "source": [
    "\n",
    "s32_list=soso(s32)\n",
    "s42_list=soso(s42)"
   ]
  },
  {
   "cell_type": "code",
   "execution_count": 219,
   "metadata": {},
   "outputs": [],
   "source": [
    "\n",
    "sc32_list=soso(sc32)\n",
    "sc42_list=soso(sc42)"
   ]
  },
  {
   "cell_type": "code",
   "execution_count": 103,
   "metadata": {},
   "outputs": [],
   "source": [
    "sc12.drop(sc12_list,inplace=True)\n",
    "sc12=sc12.reset_index()"
   ]
  },
  {
   "cell_type": "code",
   "execution_count": 220,
   "metadata": {},
   "outputs": [],
   "source": [
    "\n",
    "\n",
    "b32.drop(b32_list,inplace=True)\n",
    "b32=b32.reset_index()\n",
    "\n",
    "b42.drop(b42_list,inplace=True)\n",
    "b42=b42.reset_index()"
   ]
  },
  {
   "cell_type": "code",
   "execution_count": 221,
   "metadata": {},
   "outputs": [],
   "source": [
    "\n",
    "\n",
    "s32.drop(s32_list,inplace=True)\n",
    "s32=s32.reset_index()\n",
    "\n",
    "s42.drop(s42_list,inplace=True)\n",
    "s42=s42.reset_index()"
   ]
  },
  {
   "cell_type": "code",
   "execution_count": 222,
   "metadata": {},
   "outputs": [],
   "source": [
    "\n",
    "sc32.drop(sc32_list,inplace=True)\n",
    "sc32=sc32.reset_index()\n",
    "\n",
    "sc42.drop(sc42_list,inplace=True)\n",
    "sc42=sc42.reset_index()"
   ]
  },
  {
   "attachments": {},
   "cell_type": "markdown",
   "metadata": {},
   "source": [
    "### 저장"
   ]
  },
  {
   "cell_type": "code",
   "execution_count": 562,
   "metadata": {},
   "outputs": [],
   "source": [
    "b3.to_csv('가게별 키워드 개수/북촌_22년3분기_가게별_키워드갯수.csv',index=False)\n",
    "b4.to_csv('가게별 키워드 개수/북촌_22년4분기_가게별_키워드갯수.csv',index=False)\n",
    "b32.to_csv('가게별 키워드 개수/북촌_22년3분기_가게별_키워드2갯수.csv',index=False)\n",
    "b42.to_csv('가게별 키워드 개수/북촌_22년4분기_가게별_키워드2갯수.csv',index=False)"
   ]
  },
  {
   "cell_type": "code",
   "execution_count": 563,
   "metadata": {},
   "outputs": [],
   "source": [
    "s3.to_csv('가게별 키워드 개수/성수_22년3분기_가게별_키워드갯수.csv',index=False)\n",
    "s4.to_csv('가게별 키워드 개수/성수_22년4분기_가게별_키워드갯수.csv',index=False)\n",
    "s32.to_csv('가게별 키워드 개수/성수_22년3분기_가게별_키워드2갯수.csv',index=False)\n",
    "s42.to_csv('가게별 키워드 개수/성수_22년4분기_가게별_키워드2갯수.csv',index=False)"
   ]
  },
  {
   "cell_type": "code",
   "execution_count": 564,
   "metadata": {},
   "outputs": [],
   "source": [
    "sc3.to_csv('가게별 키워드 개수/신촌_22년3분기_가게별_키워드갯수.csv',index=False)\n",
    "sc4.to_csv('가게별 키워드 개수/신촌_22년4분기_가게별_키워드갯수.csv',index=False)\n",
    "sc32.to_csv('가게별 키워드 개수/신촌_22년3분기_가게별_키워드2갯수.csv',index=False)\n",
    "sc42.to_csv('가게별 키워드 개수/신촌_22년4분기_가게별_키워드2갯수.csv',index=False)"
   ]
  },
  {
   "cell_type": "code",
   "execution_count": 565,
   "metadata": {},
   "outputs": [],
   "source": [
    "sc12.to_csv('가게별 키워드 개수/신촌_23년1분기_가게별_키워드2갯수.csv',index=False)"
   ]
  },
  {
   "cell_type": "code",
   "execution_count": null,
   "metadata": {},
   "outputs": [],
   "source": []
  }
 ],
 "metadata": {
  "kernelspec": {
   "display_name": "capstone",
   "language": "python",
   "name": "python3"
  },
  "language_info": {
   "codemirror_mode": {
    "name": "ipython",
    "version": 3
   },
   "file_extension": ".py",
   "mimetype": "text/x-python",
   "name": "python",
   "nbconvert_exporter": "python",
   "pygments_lexer": "ipython3",
   "version": "3.11.2"
  },
  "orig_nbformat": 4
 },
 "nbformat": 4,
 "nbformat_minor": 2
}
